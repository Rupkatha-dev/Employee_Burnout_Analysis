{
  "metadata": {
    "kernelspec": {
      "language": "python",
      "display_name": "Python 3",
      "name": "python3"
    },
    "language_info": {
      "name": "python",
      "version": "3.10.12",
      "mimetype": "text/x-python",
      "codemirror_mode": {
        "name": "ipython",
        "version": 3
      },
      "pygments_lexer": "ipython3",
      "nbconvert_exporter": "python",
      "file_extension": ".py"
    },
    "kaggle": {
      "accelerator": "gpu",
      "dataSources": [
        {
          "sourceId": 1873742,
          "sourceType": "datasetVersion",
          "datasetId": 1115384
        }
      ],
      "isInternetEnabled": true,
      "language": "python",
      "sourceType": "notebook",
      "isGpuEnabled": true
    },
    "colab": {
      "name": "BREAST CANCER DETECTION",
      "provenance": [],
      "include_colab_link": true
    }
  },
  "nbformat_minor": 0,
  "nbformat": 4,
  "cells": [
    {
      "cell_type": "markdown",
      "metadata": {
        "id": "view-in-github",
        "colab_type": "text"
      },
      "source": [
        "<a href=\"https://colab.research.google.com/github/Rupkatha-dev/Employee_Burnout_Analysis/blob/main/BREAST_CANCER_DETECTION.ipynb\" target=\"_parent\"><img src=\"https://colab.research.google.com/assets/colab-badge.svg\" alt=\"Open In Colab\"/></a>"
      ]
    },
    {
      "source": [
        "# IMPORTANT: RUN THIS CELL IN ORDER TO IMPORT YOUR KAGGLE DATA SOURCES,\n",
        "# THEN FEEL FREE TO DELETE THIS CELL.\n",
        "# NOTE: THIS NOTEBOOK ENVIRONMENT DIFFERS FROM KAGGLE'S PYTHON\n",
        "# ENVIRONMENT SO THERE MAY BE MISSING LIBRARIES USED BY YOUR\n",
        "# NOTEBOOK.\n",
        "import kagglehub\n",
        "awsaf49_cbis_ddsm_breast_cancer_image_dataset_path = kagglehub.dataset_download('awsaf49/cbis-ddsm-breast-cancer-image-dataset')\n",
        "\n",
        "print('Data source import complete.')\n"
      ],
      "metadata": {
        "id": "euF4updEKa_p",
        "outputId": "19e8cf99-58c2-4da8-d31c-3269cc1d6cfd",
        "colab": {
          "base_uri": "https://localhost:8080/"
        }
      },
      "cell_type": "code",
      "outputs": [
        {
          "output_type": "stream",
          "name": "stdout",
          "text": [
            "Warning: Looks like you're using an outdated `kagglehub` version (installed: 0.3.7), please consider upgrading to the latest version (0.3.8).\n",
            "Data source import complete.\n"
          ]
        }
      ],
      "execution_count": 6
    },
    {
      "cell_type": "markdown",
      "source": [
        "# This Master's project for the University of Anbar,\n",
        "The aim is to build a Model to detect the disease at an early phase that will assists doctors in the diagnosing phase.\n",
        "Objectives:\n",
        "- to detect breast cancer in The early assist Using This Model.\n",
        "\n",
        "\n",
        "# We have several phases to Accomplished\n",
        "# 1- Discover DataSet :\n",
        "> #### https://www.kaggle.com/datasets/awsaf49/cbis-ddsm-breast-cancer-image-dataset/data\n",
        "> Summary\n",
        "> This CBIS-DDSM (Curated Breast Imaging Subset of DDSM) is an updated and standardized version of the Digital Database for Screening Mammography (DDSM). The DDSM is a database of 2,620 scanned film mammography studies. It contains normal, benign, and malignant cases with verified pathology information. The database's scale and ground truth validation make the DDSM a useful tool in developing and testing decision support systems. The CBIS-DDSM collection includes a subset of the DDDSM data selected and curated by a trained mammographer. The images have been decompressed and converted to DICOM format. Updated ROI segmentation and bounding boxes, and pathologic diagnosis for training data are also included. A manuscript describing how to use this dataset in detail is available at https://www.nature.com/articles/sdata2017177.\n",
        "\n",
        "> Published research results from work in developing decision support systems in mammography are difficult to replicate due to the lack of a standard evaluation data set; most computer-aided diagnosis (CADx) and detection (CADe) algorithms for breast cancer in mammography are evaluated on private data sets or on unspecified subsets of public databases. Few well-curated public datasets have been provided for the mammography community. These include the DDSM, the Mammographic Imaging Analysis Society (MIAS) database, and the Image Retrieval in Medical Applications (IRMA) project. Although these public data sets are useful, they are limited in terms of data set size and accessibility.\n",
        "\n",
        "> For example, most researchers using the DDSM do not leverage all its images for a variety of historical reasons. When the database was released in 1997, computational resources to process hundreds or thousands of images were not widely available. Additionally, the DDSM images are saved in non-standard compression files that require the use of decompression code that has not been updated or maintained for modern computers. Finally, the ROI annotations for the abnormalities in the DDSM were provided to indicate a general position of lesions, but not a precise segmentation for them. Therefore, many researchers must implement segmentation algorithms for accurate feature extraction. This causes an inability to compare the performance of methods directly or to replicate prior results. The CBIS-DDSM collection addresses that challenge by publicly releasing a curated and standardized version of the DDSM for evaluation of future CADx and CADe systems (sometimes referred to generally as CAD) research in mammography.\n",
        "\n",
        "> Please note that the image data for this collection is structured such that each participant has multiple patient IDs. For example, participant 00038 has 10 separate patient IDs which provide information about the scans within the IDs (e.g. Calc-Test_P_00038_LEFT_CC, Calc-Test_P_00038_RIGHT_CC_1). This makes it appear as though there are 6,671 patients according to the DICOM metadata, but there are only 1,566 actual participants in the cohort.\n"
      ],
      "metadata": {
        "id": "9uSkxycKKa_r"
      }
    },
    {
      "cell_type": "markdown",
      "source": [
        "# 2- Import Libraries"
      ],
      "metadata": {
        "id": "aLMblSD5Ka_s"
      }
    },
    {
      "cell_type": "code",
      "source": [
        "import os\n",
        "import gc\n",
        "import PIL\n",
        "import cv2\n",
        "import uuid\n",
        "import shutil\n",
        "import random\n",
        "import glob as gb\n",
        "import numpy as np\n",
        "import pandas as pd\n",
        "import tensorflow as tf\n",
        "import matplotlib.pyplot as plt\n",
        "%matplotlib inline\n",
        "\n",
        "from PIL import Image\n",
        "from tqdm import tqdm  # Progress bar\n",
        "from scipy.special import gamma\n",
        "\n",
        "import keras\n",
        "from keras.optimizers import *\n",
        "from keras.regularizers import l1_l2\n",
        "from keras.utils import to_categorical\n",
        "from keras.callbacks import EarlyStopping\n",
        "from keras.models import Sequential, Model\n",
        "from keras.layers import Dense, Dropout, Input\n",
        "from keras.layers import GlobalAveragePooling2D\n",
        "from keras.callbacks import LearningRateScheduler\n",
        "from keras.layers import Conv2D, MaxPool2D, BatchNormalization\n",
        "\n",
        "from tensorflow.keras.metrics import *\n",
        "from tensorflow.keras.callbacks import *\n",
        "from tensorflow.keras.preprocessing.image import ImageDataGenerator\n",
        "\n",
        "\n",
        "from sklearn.model_selection import train_test_split\n",
        "from sklearn.utils import shuffle\n",
        "\n",
        "# Function to get the version of a module if it exists\n",
        "def get_version(module):\n",
        "    try:\n",
        "        return module.__version__\n",
        "    except AttributeError:\n",
        "        return \"Version info not available\"\n",
        "\n",
        "# Print versions of each module\n",
        "print(\"os:\", os.__version__ if hasattr(os, '__version__') else \"OS version not available\")\n",
        "print(\"gc:\", get_version(gc))\n",
        "print(\"PIL:\", get_version(PIL))\n",
        "print(\"cv2:\", cv2.__version__)\n",
        "print(\"uuid:\", get_version(uuid))\n",
        "print(\"shutil:\", get_version(shutil))\n",
        "print(\"random:\", get_version(random))\n",
        "print(\"glob:\", get_version(gb))\n",
        "print(\"numpy:\", np.__version__)\n",
        "print(\"pandas:\", pd.__version__)\n",
        "print(\"tensorflow:\", tf.__version__)\n",
        "import matplotlib\n",
        "print(\"matplotlib:\", matplotlib.__version__)\n",
        "import tqdm\n",
        "print(\"tqdm:\", tqdm.__version__)\n",
        "import scipy\n",
        "print(\"scipy:\", scipy.__version__)\n",
        "print(\"keras:\", keras.__version__)\n",
        "print(\"tensorflow:\", tf.__version__)\n",
        "import sklearn\n",
        "print(\"sklearn:\", sklearn.__version__)  # sklearn version"
      ],
      "metadata": {
        "execution": {
          "iopub.status.busy": "2025-01-27T15:26:51.682852Z",
          "iopub.execute_input": "2025-01-27T15:26:51.683146Z",
          "iopub.status.idle": "2025-01-27T15:26:51.704061Z",
          "shell.execute_reply.started": "2025-01-27T15:26:51.683126Z",
          "shell.execute_reply": "2025-01-27T15:26:51.703252Z"
        },
        "trusted": true,
        "id": "ulpsd21aKa_t",
        "outputId": "04ca85e6-2357-4933-8dc6-6191e1c6d5ec",
        "colab": {
          "base_uri": "https://localhost:8080/"
        }
      },
      "outputs": [
        {
          "output_type": "stream",
          "name": "stdout",
          "text": [
            "os: OS version not available\n",
            "gc: Version info not available\n",
            "PIL: 11.1.0\n",
            "cv2: 4.11.0\n",
            "uuid: Version info not available\n",
            "shutil: Version info not available\n",
            "random: Version info not available\n",
            "glob: Version info not available\n",
            "numpy: 1.26.4\n",
            "pandas: 2.2.2\n",
            "tensorflow: 2.18.0\n",
            "matplotlib: 3.10.0\n",
            "tqdm: 4.67.1\n",
            "scipy: 1.13.1\n",
            "keras: 3.8.0\n",
            "tensorflow: 2.18.0\n",
            "sklearn: 1.6.1\n"
          ]
        }
      ],
      "execution_count": 7
    },
    {
      "cell_type": "markdown",
      "source": [
        "# 3- Loading DataSet"
      ],
      "metadata": {
        "id": "881EVQhYKa_u"
      }
    },
    {
      "cell_type": "code",
      "source": [
        "path = \"/root/.cache/kagglehub/datasets/awsaf49/cbis-ddsm-breast-cancer-image-dataset/versions/1\"\n",
        "\n",
        "for files in os.listdir(path):\n",
        "    files_dir = os.path.join(path, files)\n",
        "\n",
        "#     print(os.path.join(path, files))\n",
        "#     print(f\"file {files} has {len(os.listdir(files_dir))} files\")\n",
        "\n",
        "    if files == 'jpeg':   # to pass 6774 files\n",
        "        pass\n",
        "    else:\n",
        "        for file in os.listdir(files_dir):\n",
        "            print(file)\n",
        ""
      ],
      "metadata": {
        "execution": {
          "iopub.status.busy": "2025-01-27T15:26:54.262702Z",
          "iopub.execute_input": "2025-01-27T15:26:54.263031Z",
          "iopub.status.idle": "2025-01-27T15:26:54.301476Z",
          "shell.execute_reply.started": "2025-01-27T15:26:54.263005Z",
          "shell.execute_reply": "2025-01-27T15:26:54.30065Z"
        },
        "trusted": true,
        "id": "NB-lvtlpKa_u",
        "outputId": "d93ee7cb-e9e2-4294-bf04-421ad6b1b985",
        "colab": {
          "base_uri": "https://localhost:8080/"
        }
      },
      "outputs": [
        {
          "output_type": "stream",
          "name": "stdout",
          "text": [
            "mass_case_description_test_set.csv\n",
            "dicom_info.csv\n",
            "calc_case_description_train_set.csv\n",
            "calc_case_description_test_set.csv\n",
            "meta.csv\n",
            "mass_case_description_train_set.csv\n"
          ]
        }
      ],
      "execution_count": 13
    },
    {
      "cell_type": "markdown",
      "source": [
        "> ------\n",
        "\n",
        "> #### We have 6 Files csv\n"
      ],
      "metadata": {
        "id": "IxTsLZLdKa_u"
      }
    },
    {
      "cell_type": "markdown",
      "source": [
        "# 4- Data Preparation"
      ],
      "metadata": {
        "id": "lwM1nxelKa_v"
      }
    },
    {
      "cell_type": "code",
      "source": [
        "dicom_df = pd.read_csv(\"/root/.cache/kagglehub/datasets/awsaf49/cbis-ddsm-breast-cancer-image-dataset//versions/1/csv/dicom_info.csv\")"
      ],
      "metadata": {
        "execution": {
          "iopub.status.busy": "2025-01-27T15:26:56.137487Z",
          "iopub.execute_input": "2025-01-27T15:26:56.137767Z",
          "iopub.status.idle": "2025-01-27T15:26:56.307176Z",
          "shell.execute_reply.started": "2025-01-27T15:26:56.137747Z",
          "shell.execute_reply": "2025-01-27T15:26:56.306434Z"
        },
        "trusted": true,
        "id": "XiFvra10Ka_v",
        "outputId": "574f6896-f984-4468-9346-41bad27c5e63",
        "colab": {
          "base_uri": "https://localhost:8080/",
          "height": 141
        }
      },
      "outputs": [
        {
          "output_type": "error",
          "ename": "NameError",
          "evalue": "name 'pd' is not defined",
          "traceback": [
            "\u001b[0;31m---------------------------------------------------------------------------\u001b[0m",
            "\u001b[0;31mNameError\u001b[0m                                 Traceback (most recent call last)",
            "\u001b[0;32m<ipython-input-1-752c75507c2e>\u001b[0m in \u001b[0;36m<cell line: 0>\u001b[0;34m()\u001b[0m\n\u001b[0;32m----> 1\u001b[0;31m \u001b[0mdicom_df\u001b[0m \u001b[0;34m=\u001b[0m \u001b[0mpd\u001b[0m\u001b[0;34m.\u001b[0m\u001b[0mread_csv\u001b[0m\u001b[0;34m(\u001b[0m\u001b[0;34m\"/root/.cache/kagglehub/datasets/awsaf49/cbis-ddsm-breast-cancer-image-dataset//versions/1/csv/dicom_info.csv\"\u001b[0m\u001b[0;34m)\u001b[0m\u001b[0;34m\u001b[0m\u001b[0;34m\u001b[0m\u001b[0m\n\u001b[0m",
            "\u001b[0;31mNameError\u001b[0m: name 'pd' is not defined"
          ]
        }
      ],
      "execution_count": 1
    },
    {
      "cell_type": "code",
      "source": [
        "dicom_df.head(3)"
      ],
      "metadata": {
        "execution": {
          "iopub.status.busy": "2025-01-27T15:26:56.331909Z",
          "iopub.execute_input": "2025-01-27T15:26:56.332213Z",
          "iopub.status.idle": "2025-01-27T15:26:56.367895Z",
          "shell.execute_reply.started": "2025-01-27T15:26:56.332156Z",
          "shell.execute_reply": "2025-01-27T15:26:56.367189Z"
        },
        "trusted": true,
        "id": "iUL9nXQgKa_v",
        "outputId": "11c6070f-bed1-4392-b021-21f881b3978c",
        "colab": {
          "base_uri": "https://localhost:8080/",
          "height": 245
        }
      },
      "outputs": [
        {
          "output_type": "execute_result",
          "data": {
            "text/plain": [
              "                                           file_path  \\\n",
              "0  CBIS-DDSM/dicom/1.3.6.1.4.1.9590.100.1.2.12930...   \n",
              "1  CBIS-DDSM/dicom/1.3.6.1.4.1.9590.100.1.2.24838...   \n",
              "2  CBIS-DDSM/dicom/1.3.6.1.4.1.9590.100.1.2.26721...   \n",
              "\n",
              "                                          image_path  AccessionNumber  \\\n",
              "0  CBIS-DDSM/jpeg/1.3.6.1.4.1.9590.100.1.2.129308...              NaN   \n",
              "1  CBIS-DDSM/jpeg/1.3.6.1.4.1.9590.100.1.2.248386...              NaN   \n",
              "2  CBIS-DDSM/jpeg/1.3.6.1.4.1.9590.100.1.2.267213...              NaN   \n",
              "\n",
              "   BitsAllocated  BitsStored BodyPartExamined  Columns  ContentDate  \\\n",
              "0             16          16           BREAST      351     20160426   \n",
              "1             16          16           BREAST     3526     20160426   \n",
              "2             16          16           BREAST     1546     20160503   \n",
              "\n",
              "   ContentTime ConversionType  ...  \\\n",
              "0   131732.685            WSD  ...   \n",
              "1   143829.101            WSD  ...   \n",
              "2   111956.298            WSD  ...   \n",
              "\n",
              "   SecondaryCaptureDeviceManufacturerModelName      SeriesDescription  \\\n",
              "0                                       MATLAB         cropped images   \n",
              "1                                       MATLAB  full mammogram images   \n",
              "2                                       MATLAB  full mammogram images   \n",
              "\n",
              "                                   SeriesInstanceUID SeriesNumber  \\\n",
              "0  1.3.6.1.4.1.9590.100.1.2.129308726812851964007...            1   \n",
              "1  1.3.6.1.4.1.9590.100.1.2.248386742010678582309...            1   \n",
              "2  1.3.6.1.4.1.9590.100.1.2.267213171011171858918...            1   \n",
              "\n",
              "  SmallestImagePixelValue  SpecificCharacterSet   StudyDate StudyID  \\\n",
              "0                   23078            ISO_IR 100  20160720.0    DDSM   \n",
              "1                       0            ISO_IR 100  20160720.0    DDSM   \n",
              "2                       0            ISO_IR 100  20160807.0    DDSM   \n",
              "\n",
              "                                    StudyInstanceUID  StudyTime  \n",
              "0  1.3.6.1.4.1.9590.100.1.2.271867287611061855725...   214951.0  \n",
              "1  1.3.6.1.4.1.9590.100.1.2.161516517311681906612...   193426.0  \n",
              "2  1.3.6.1.4.1.9590.100.1.2.291043622711253836701...   161814.0  \n",
              "\n",
              "[3 rows x 38 columns]"
            ],
            "text/html": [
              "\n",
              "  <div id=\"df-78477786-71a7-40c5-b63b-f52009cebaac\" class=\"colab-df-container\">\n",
              "    <div>\n",
              "<style scoped>\n",
              "    .dataframe tbody tr th:only-of-type {\n",
              "        vertical-align: middle;\n",
              "    }\n",
              "\n",
              "    .dataframe tbody tr th {\n",
              "        vertical-align: top;\n",
              "    }\n",
              "\n",
              "    .dataframe thead th {\n",
              "        text-align: right;\n",
              "    }\n",
              "</style>\n",
              "<table border=\"1\" class=\"dataframe\">\n",
              "  <thead>\n",
              "    <tr style=\"text-align: right;\">\n",
              "      <th></th>\n",
              "      <th>file_path</th>\n",
              "      <th>image_path</th>\n",
              "      <th>AccessionNumber</th>\n",
              "      <th>BitsAllocated</th>\n",
              "      <th>BitsStored</th>\n",
              "      <th>BodyPartExamined</th>\n",
              "      <th>Columns</th>\n",
              "      <th>ContentDate</th>\n",
              "      <th>ContentTime</th>\n",
              "      <th>ConversionType</th>\n",
              "      <th>...</th>\n",
              "      <th>SecondaryCaptureDeviceManufacturerModelName</th>\n",
              "      <th>SeriesDescription</th>\n",
              "      <th>SeriesInstanceUID</th>\n",
              "      <th>SeriesNumber</th>\n",
              "      <th>SmallestImagePixelValue</th>\n",
              "      <th>SpecificCharacterSet</th>\n",
              "      <th>StudyDate</th>\n",
              "      <th>StudyID</th>\n",
              "      <th>StudyInstanceUID</th>\n",
              "      <th>StudyTime</th>\n",
              "    </tr>\n",
              "  </thead>\n",
              "  <tbody>\n",
              "    <tr>\n",
              "      <th>0</th>\n",
              "      <td>CBIS-DDSM/dicom/1.3.6.1.4.1.9590.100.1.2.12930...</td>\n",
              "      <td>CBIS-DDSM/jpeg/1.3.6.1.4.1.9590.100.1.2.129308...</td>\n",
              "      <td>NaN</td>\n",
              "      <td>16</td>\n",
              "      <td>16</td>\n",
              "      <td>BREAST</td>\n",
              "      <td>351</td>\n",
              "      <td>20160426</td>\n",
              "      <td>131732.685</td>\n",
              "      <td>WSD</td>\n",
              "      <td>...</td>\n",
              "      <td>MATLAB</td>\n",
              "      <td>cropped images</td>\n",
              "      <td>1.3.6.1.4.1.9590.100.1.2.129308726812851964007...</td>\n",
              "      <td>1</td>\n",
              "      <td>23078</td>\n",
              "      <td>ISO_IR 100</td>\n",
              "      <td>20160720.0</td>\n",
              "      <td>DDSM</td>\n",
              "      <td>1.3.6.1.4.1.9590.100.1.2.271867287611061855725...</td>\n",
              "      <td>214951.0</td>\n",
              "    </tr>\n",
              "    <tr>\n",
              "      <th>1</th>\n",
              "      <td>CBIS-DDSM/dicom/1.3.6.1.4.1.9590.100.1.2.24838...</td>\n",
              "      <td>CBIS-DDSM/jpeg/1.3.6.1.4.1.9590.100.1.2.248386...</td>\n",
              "      <td>NaN</td>\n",
              "      <td>16</td>\n",
              "      <td>16</td>\n",
              "      <td>BREAST</td>\n",
              "      <td>3526</td>\n",
              "      <td>20160426</td>\n",
              "      <td>143829.101</td>\n",
              "      <td>WSD</td>\n",
              "      <td>...</td>\n",
              "      <td>MATLAB</td>\n",
              "      <td>full mammogram images</td>\n",
              "      <td>1.3.6.1.4.1.9590.100.1.2.248386742010678582309...</td>\n",
              "      <td>1</td>\n",
              "      <td>0</td>\n",
              "      <td>ISO_IR 100</td>\n",
              "      <td>20160720.0</td>\n",
              "      <td>DDSM</td>\n",
              "      <td>1.3.6.1.4.1.9590.100.1.2.161516517311681906612...</td>\n",
              "      <td>193426.0</td>\n",
              "    </tr>\n",
              "    <tr>\n",
              "      <th>2</th>\n",
              "      <td>CBIS-DDSM/dicom/1.3.6.1.4.1.9590.100.1.2.26721...</td>\n",
              "      <td>CBIS-DDSM/jpeg/1.3.6.1.4.1.9590.100.1.2.267213...</td>\n",
              "      <td>NaN</td>\n",
              "      <td>16</td>\n",
              "      <td>16</td>\n",
              "      <td>BREAST</td>\n",
              "      <td>1546</td>\n",
              "      <td>20160503</td>\n",
              "      <td>111956.298</td>\n",
              "      <td>WSD</td>\n",
              "      <td>...</td>\n",
              "      <td>MATLAB</td>\n",
              "      <td>full mammogram images</td>\n",
              "      <td>1.3.6.1.4.1.9590.100.1.2.267213171011171858918...</td>\n",
              "      <td>1</td>\n",
              "      <td>0</td>\n",
              "      <td>ISO_IR 100</td>\n",
              "      <td>20160807.0</td>\n",
              "      <td>DDSM</td>\n",
              "      <td>1.3.6.1.4.1.9590.100.1.2.291043622711253836701...</td>\n",
              "      <td>161814.0</td>\n",
              "    </tr>\n",
              "  </tbody>\n",
              "</table>\n",
              "<p>3 rows × 38 columns</p>\n",
              "</div>\n",
              "    <div class=\"colab-df-buttons\">\n",
              "\n",
              "  <div class=\"colab-df-container\">\n",
              "    <button class=\"colab-df-convert\" onclick=\"convertToInteractive('df-78477786-71a7-40c5-b63b-f52009cebaac')\"\n",
              "            title=\"Convert this dataframe to an interactive table.\"\n",
              "            style=\"display:none;\">\n",
              "\n",
              "  <svg xmlns=\"http://www.w3.org/2000/svg\" height=\"24px\" viewBox=\"0 -960 960 960\">\n",
              "    <path d=\"M120-120v-720h720v720H120Zm60-500h600v-160H180v160Zm220 220h160v-160H400v160Zm0 220h160v-160H400v160ZM180-400h160v-160H180v160Zm440 0h160v-160H620v160ZM180-180h160v-160H180v160Zm440 0h160v-160H620v160Z\"/>\n",
              "  </svg>\n",
              "    </button>\n",
              "\n",
              "  <style>\n",
              "    .colab-df-container {\n",
              "      display:flex;\n",
              "      gap: 12px;\n",
              "    }\n",
              "\n",
              "    .colab-df-convert {\n",
              "      background-color: #E8F0FE;\n",
              "      border: none;\n",
              "      border-radius: 50%;\n",
              "      cursor: pointer;\n",
              "      display: none;\n",
              "      fill: #1967D2;\n",
              "      height: 32px;\n",
              "      padding: 0 0 0 0;\n",
              "      width: 32px;\n",
              "    }\n",
              "\n",
              "    .colab-df-convert:hover {\n",
              "      background-color: #E2EBFA;\n",
              "      box-shadow: 0px 1px 2px rgba(60, 64, 67, 0.3), 0px 1px 3px 1px rgba(60, 64, 67, 0.15);\n",
              "      fill: #174EA6;\n",
              "    }\n",
              "\n",
              "    .colab-df-buttons div {\n",
              "      margin-bottom: 4px;\n",
              "    }\n",
              "\n",
              "    [theme=dark] .colab-df-convert {\n",
              "      background-color: #3B4455;\n",
              "      fill: #D2E3FC;\n",
              "    }\n",
              "\n",
              "    [theme=dark] .colab-df-convert:hover {\n",
              "      background-color: #434B5C;\n",
              "      box-shadow: 0px 1px 3px 1px rgba(0, 0, 0, 0.15);\n",
              "      filter: drop-shadow(0px 1px 2px rgba(0, 0, 0, 0.3));\n",
              "      fill: #FFFFFF;\n",
              "    }\n",
              "  </style>\n",
              "\n",
              "    <script>\n",
              "      const buttonEl =\n",
              "        document.querySelector('#df-78477786-71a7-40c5-b63b-f52009cebaac button.colab-df-convert');\n",
              "      buttonEl.style.display =\n",
              "        google.colab.kernel.accessAllowed ? 'block' : 'none';\n",
              "\n",
              "      async function convertToInteractive(key) {\n",
              "        const element = document.querySelector('#df-78477786-71a7-40c5-b63b-f52009cebaac');\n",
              "        const dataTable =\n",
              "          await google.colab.kernel.invokeFunction('convertToInteractive',\n",
              "                                                    [key], {});\n",
              "        if (!dataTable) return;\n",
              "\n",
              "        const docLinkHtml = 'Like what you see? Visit the ' +\n",
              "          '<a target=\"_blank\" href=https://colab.research.google.com/notebooks/data_table.ipynb>data table notebook</a>'\n",
              "          + ' to learn more about interactive tables.';\n",
              "        element.innerHTML = '';\n",
              "        dataTable['output_type'] = 'display_data';\n",
              "        await google.colab.output.renderOutput(dataTable, element);\n",
              "        const docLink = document.createElement('div');\n",
              "        docLink.innerHTML = docLinkHtml;\n",
              "        element.appendChild(docLink);\n",
              "      }\n",
              "    </script>\n",
              "  </div>\n",
              "\n",
              "\n",
              "<div id=\"df-93ab9842-a703-4e64-b9cb-3d5d94804fe6\">\n",
              "  <button class=\"colab-df-quickchart\" onclick=\"quickchart('df-93ab9842-a703-4e64-b9cb-3d5d94804fe6')\"\n",
              "            title=\"Suggest charts\"\n",
              "            style=\"display:none;\">\n",
              "\n",
              "<svg xmlns=\"http://www.w3.org/2000/svg\" height=\"24px\"viewBox=\"0 0 24 24\"\n",
              "     width=\"24px\">\n",
              "    <g>\n",
              "        <path d=\"M19 3H5c-1.1 0-2 .9-2 2v14c0 1.1.9 2 2 2h14c1.1 0 2-.9 2-2V5c0-1.1-.9-2-2-2zM9 17H7v-7h2v7zm4 0h-2V7h2v10zm4 0h-2v-4h2v4z\"/>\n",
              "    </g>\n",
              "</svg>\n",
              "  </button>\n",
              "\n",
              "<style>\n",
              "  .colab-df-quickchart {\n",
              "      --bg-color: #E8F0FE;\n",
              "      --fill-color: #1967D2;\n",
              "      --hover-bg-color: #E2EBFA;\n",
              "      --hover-fill-color: #174EA6;\n",
              "      --disabled-fill-color: #AAA;\n",
              "      --disabled-bg-color: #DDD;\n",
              "  }\n",
              "\n",
              "  [theme=dark] .colab-df-quickchart {\n",
              "      --bg-color: #3B4455;\n",
              "      --fill-color: #D2E3FC;\n",
              "      --hover-bg-color: #434B5C;\n",
              "      --hover-fill-color: #FFFFFF;\n",
              "      --disabled-bg-color: #3B4455;\n",
              "      --disabled-fill-color: #666;\n",
              "  }\n",
              "\n",
              "  .colab-df-quickchart {\n",
              "    background-color: var(--bg-color);\n",
              "    border: none;\n",
              "    border-radius: 50%;\n",
              "    cursor: pointer;\n",
              "    display: none;\n",
              "    fill: var(--fill-color);\n",
              "    height: 32px;\n",
              "    padding: 0;\n",
              "    width: 32px;\n",
              "  }\n",
              "\n",
              "  .colab-df-quickchart:hover {\n",
              "    background-color: var(--hover-bg-color);\n",
              "    box-shadow: 0 1px 2px rgba(60, 64, 67, 0.3), 0 1px 3px 1px rgba(60, 64, 67, 0.15);\n",
              "    fill: var(--button-hover-fill-color);\n",
              "  }\n",
              "\n",
              "  .colab-df-quickchart-complete:disabled,\n",
              "  .colab-df-quickchart-complete:disabled:hover {\n",
              "    background-color: var(--disabled-bg-color);\n",
              "    fill: var(--disabled-fill-color);\n",
              "    box-shadow: none;\n",
              "  }\n",
              "\n",
              "  .colab-df-spinner {\n",
              "    border: 2px solid var(--fill-color);\n",
              "    border-color: transparent;\n",
              "    border-bottom-color: var(--fill-color);\n",
              "    animation:\n",
              "      spin 1s steps(1) infinite;\n",
              "  }\n",
              "\n",
              "  @keyframes spin {\n",
              "    0% {\n",
              "      border-color: transparent;\n",
              "      border-bottom-color: var(--fill-color);\n",
              "      border-left-color: var(--fill-color);\n",
              "    }\n",
              "    20% {\n",
              "      border-color: transparent;\n",
              "      border-left-color: var(--fill-color);\n",
              "      border-top-color: var(--fill-color);\n",
              "    }\n",
              "    30% {\n",
              "      border-color: transparent;\n",
              "      border-left-color: var(--fill-color);\n",
              "      border-top-color: var(--fill-color);\n",
              "      border-right-color: var(--fill-color);\n",
              "    }\n",
              "    40% {\n",
              "      border-color: transparent;\n",
              "      border-right-color: var(--fill-color);\n",
              "      border-top-color: var(--fill-color);\n",
              "    }\n",
              "    60% {\n",
              "      border-color: transparent;\n",
              "      border-right-color: var(--fill-color);\n",
              "    }\n",
              "    80% {\n",
              "      border-color: transparent;\n",
              "      border-right-color: var(--fill-color);\n",
              "      border-bottom-color: var(--fill-color);\n",
              "    }\n",
              "    90% {\n",
              "      border-color: transparent;\n",
              "      border-bottom-color: var(--fill-color);\n",
              "    }\n",
              "  }\n",
              "</style>\n",
              "\n",
              "  <script>\n",
              "    async function quickchart(key) {\n",
              "      const quickchartButtonEl =\n",
              "        document.querySelector('#' + key + ' button');\n",
              "      quickchartButtonEl.disabled = true;  // To prevent multiple clicks.\n",
              "      quickchartButtonEl.classList.add('colab-df-spinner');\n",
              "      try {\n",
              "        const charts = await google.colab.kernel.invokeFunction(\n",
              "            'suggestCharts', [key], {});\n",
              "      } catch (error) {\n",
              "        console.error('Error during call to suggestCharts:', error);\n",
              "      }\n",
              "      quickchartButtonEl.classList.remove('colab-df-spinner');\n",
              "      quickchartButtonEl.classList.add('colab-df-quickchart-complete');\n",
              "    }\n",
              "    (() => {\n",
              "      let quickchartButtonEl =\n",
              "        document.querySelector('#df-93ab9842-a703-4e64-b9cb-3d5d94804fe6 button');\n",
              "      quickchartButtonEl.style.display =\n",
              "        google.colab.kernel.accessAllowed ? 'block' : 'none';\n",
              "    })();\n",
              "  </script>\n",
              "</div>\n",
              "\n",
              "    </div>\n",
              "  </div>\n"
            ],
            "application/vnd.google.colaboratory.intrinsic+json": {
              "type": "dataframe",
              "variable_name": "dicom_df"
            }
          },
          "metadata": {},
          "execution_count": 32
        }
      ],
      "execution_count": 32
    },
    {
      "cell_type": "code",
      "source": [
        "dicom_df.describe().T"
      ],
      "metadata": {
        "execution": {
          "iopub.status.busy": "2025-01-27T15:26:56.528641Z",
          "iopub.execute_input": "2025-01-27T15:26:56.528916Z",
          "iopub.status.idle": "2025-01-27T15:26:56.578467Z",
          "shell.execute_reply.started": "2025-01-27T15:26:56.528896Z",
          "shell.execute_reply": "2025-01-27T15:26:56.577476Z"
        },
        "trusted": true,
        "id": "zB4lEwp-Ka_w",
        "outputId": "80154262-578a-4f7c-966d-54914565fa6e",
        "colab": {
          "base_uri": "https://localhost:8080/",
          "height": 645
        }
      },
      "outputs": [
        {
          "output_type": "execute_result",
          "data": {
            "text/plain": [
              "                           count          mean           std           min  \\\n",
              "AccessionNumber              0.0           NaN           NaN           NaN   \n",
              "BitsAllocated            10237.0  1.321246e+01      3.812001  8.000000e+00   \n",
              "BitsStored               10237.0  1.321246e+01      3.812001  8.000000e+00   \n",
              "Columns                  10237.0  2.179893e+03   1374.221082  6.800000e+01   \n",
              "ContentDate              10237.0  2.016047e+07    111.049745  2.016041e+07   \n",
              "ContentTime              10237.0  1.230613e+05  11391.443116  8.275551e+04   \n",
              "HighBit                  10237.0  1.221246e+01      3.812001  7.000000e+00   \n",
              "InstanceNumber           10237.0  1.000000e+00      0.000000  1.000000e+00   \n",
              "LargestImagePixelValue   10237.0  4.261229e+04  30995.808636  2.550000e+02   \n",
              "PatientBirthDate             0.0           NaN           NaN           NaN   \n",
              "PatientSex                   0.0           NaN           NaN           NaN   \n",
              "PixelRepresentation      10237.0  0.000000e+00      0.000000  0.000000e+00   \n",
              "ReferringPhysicianName       0.0           NaN           NaN           NaN   \n",
              "Rows                     10237.0  3.549779e+03   2363.196643  7.300000e+01   \n",
              "SamplesPerPixel          10237.0  1.000000e+00      0.000000  1.000000e+00   \n",
              "SeriesNumber             10237.0  1.000000e+00      0.000000  1.000000e+00   \n",
              "SmallestImagePixelValue  10237.0  9.294026e+03  15367.554560  0.000000e+00   \n",
              "StudyDate                 9671.0  2.016440e+07   4831.297763  2.016072e+07   \n",
              "StudyTime                 9671.0  1.578644e+05  51545.806583  8.223500e+04   \n",
              "\n",
              "                                  25%           50%           75%  \\\n",
              "AccessionNumber                   NaN           NaN           NaN   \n",
              "BitsAllocated            8.000000e+00  1.600000e+01  1.600000e+01   \n",
              "BitsStored               8.000000e+00  1.600000e+01  1.600000e+01   \n",
              "Columns                  4.530000e+02  2.728000e+03  3.112000e+03   \n",
              "ContentDate              2.016043e+07  2.016050e+07  2.016050e+07   \n",
              "ContentTime              1.137396e+05  1.229359e+05  1.322114e+05   \n",
              "HighBit                  7.000000e+00  1.500000e+01  1.500000e+01   \n",
              "InstanceNumber           1.000000e+00  1.000000e+00  1.000000e+00   \n",
              "LargestImagePixelValue   2.550000e+02  6.553500e+04  6.553500e+04   \n",
              "PatientBirthDate                  NaN           NaN           NaN   \n",
              "PatientSex                        NaN           NaN           NaN   \n",
              "PixelRepresentation      0.000000e+00  0.000000e+00  0.000000e+00   \n",
              "ReferringPhysicianName            NaN           NaN           NaN   \n",
              "Rows                     4.410000e+02  4.624000e+03  5.476000e+03   \n",
              "SamplesPerPixel          1.000000e+00  1.000000e+00  1.000000e+00   \n",
              "SeriesNumber             1.000000e+00  1.000000e+00  1.000000e+00   \n",
              "SmallestImagePixelValue  0.000000e+00  0.000000e+00  1.968700e+04   \n",
              "StudyDate                2.016072e+07  2.016081e+07  2.017083e+07   \n",
              "StudyTime                9.074250e+04  1.703350e+05  2.148190e+05   \n",
              "\n",
              "                                  max  \n",
              "AccessionNumber                   NaN  \n",
              "BitsAllocated            1.600000e+01  \n",
              "BitsStored               1.600000e+01  \n",
              "Columns                  5.431000e+03  \n",
              "ContentDate              2.017092e+07  \n",
              "ContentTime              1.605079e+05  \n",
              "HighBit                  1.500000e+01  \n",
              "InstanceNumber           1.000000e+00  \n",
              "LargestImagePixelValue   6.553500e+04  \n",
              "PatientBirthDate                  NaN  \n",
              "PatientSex                        NaN  \n",
              "PixelRepresentation      0.000000e+00  \n",
              "ReferringPhysicianName            NaN  \n",
              "Rows                     7.111000e+03  \n",
              "SamplesPerPixel          1.000000e+00  \n",
              "SeriesNumber             1.000000e+00  \n",
              "SmallestImagePixelValue  5.953800e+04  \n",
              "StudyDate                2.017093e+07  \n",
              "StudyTime                2.245020e+05  "
            ],
            "text/html": [
              "\n",
              "  <div id=\"df-7140e9b4-02ea-4937-a369-ec7ee75eb5bb\" class=\"colab-df-container\">\n",
              "    <div>\n",
              "<style scoped>\n",
              "    .dataframe tbody tr th:only-of-type {\n",
              "        vertical-align: middle;\n",
              "    }\n",
              "\n",
              "    .dataframe tbody tr th {\n",
              "        vertical-align: top;\n",
              "    }\n",
              "\n",
              "    .dataframe thead th {\n",
              "        text-align: right;\n",
              "    }\n",
              "</style>\n",
              "<table border=\"1\" class=\"dataframe\">\n",
              "  <thead>\n",
              "    <tr style=\"text-align: right;\">\n",
              "      <th></th>\n",
              "      <th>count</th>\n",
              "      <th>mean</th>\n",
              "      <th>std</th>\n",
              "      <th>min</th>\n",
              "      <th>25%</th>\n",
              "      <th>50%</th>\n",
              "      <th>75%</th>\n",
              "      <th>max</th>\n",
              "    </tr>\n",
              "  </thead>\n",
              "  <tbody>\n",
              "    <tr>\n",
              "      <th>AccessionNumber</th>\n",
              "      <td>0.0</td>\n",
              "      <td>NaN</td>\n",
              "      <td>NaN</td>\n",
              "      <td>NaN</td>\n",
              "      <td>NaN</td>\n",
              "      <td>NaN</td>\n",
              "      <td>NaN</td>\n",
              "      <td>NaN</td>\n",
              "    </tr>\n",
              "    <tr>\n",
              "      <th>BitsAllocated</th>\n",
              "      <td>10237.0</td>\n",
              "      <td>1.321246e+01</td>\n",
              "      <td>3.812001</td>\n",
              "      <td>8.000000e+00</td>\n",
              "      <td>8.000000e+00</td>\n",
              "      <td>1.600000e+01</td>\n",
              "      <td>1.600000e+01</td>\n",
              "      <td>1.600000e+01</td>\n",
              "    </tr>\n",
              "    <tr>\n",
              "      <th>BitsStored</th>\n",
              "      <td>10237.0</td>\n",
              "      <td>1.321246e+01</td>\n",
              "      <td>3.812001</td>\n",
              "      <td>8.000000e+00</td>\n",
              "      <td>8.000000e+00</td>\n",
              "      <td>1.600000e+01</td>\n",
              "      <td>1.600000e+01</td>\n",
              "      <td>1.600000e+01</td>\n",
              "    </tr>\n",
              "    <tr>\n",
              "      <th>Columns</th>\n",
              "      <td>10237.0</td>\n",
              "      <td>2.179893e+03</td>\n",
              "      <td>1374.221082</td>\n",
              "      <td>6.800000e+01</td>\n",
              "      <td>4.530000e+02</td>\n",
              "      <td>2.728000e+03</td>\n",
              "      <td>3.112000e+03</td>\n",
              "      <td>5.431000e+03</td>\n",
              "    </tr>\n",
              "    <tr>\n",
              "      <th>ContentDate</th>\n",
              "      <td>10237.0</td>\n",
              "      <td>2.016047e+07</td>\n",
              "      <td>111.049745</td>\n",
              "      <td>2.016041e+07</td>\n",
              "      <td>2.016043e+07</td>\n",
              "      <td>2.016050e+07</td>\n",
              "      <td>2.016050e+07</td>\n",
              "      <td>2.017092e+07</td>\n",
              "    </tr>\n",
              "    <tr>\n",
              "      <th>ContentTime</th>\n",
              "      <td>10237.0</td>\n",
              "      <td>1.230613e+05</td>\n",
              "      <td>11391.443116</td>\n",
              "      <td>8.275551e+04</td>\n",
              "      <td>1.137396e+05</td>\n",
              "      <td>1.229359e+05</td>\n",
              "      <td>1.322114e+05</td>\n",
              "      <td>1.605079e+05</td>\n",
              "    </tr>\n",
              "    <tr>\n",
              "      <th>HighBit</th>\n",
              "      <td>10237.0</td>\n",
              "      <td>1.221246e+01</td>\n",
              "      <td>3.812001</td>\n",
              "      <td>7.000000e+00</td>\n",
              "      <td>7.000000e+00</td>\n",
              "      <td>1.500000e+01</td>\n",
              "      <td>1.500000e+01</td>\n",
              "      <td>1.500000e+01</td>\n",
              "    </tr>\n",
              "    <tr>\n",
              "      <th>InstanceNumber</th>\n",
              "      <td>10237.0</td>\n",
              "      <td>1.000000e+00</td>\n",
              "      <td>0.000000</td>\n",
              "      <td>1.000000e+00</td>\n",
              "      <td>1.000000e+00</td>\n",
              "      <td>1.000000e+00</td>\n",
              "      <td>1.000000e+00</td>\n",
              "      <td>1.000000e+00</td>\n",
              "    </tr>\n",
              "    <tr>\n",
              "      <th>LargestImagePixelValue</th>\n",
              "      <td>10237.0</td>\n",
              "      <td>4.261229e+04</td>\n",
              "      <td>30995.808636</td>\n",
              "      <td>2.550000e+02</td>\n",
              "      <td>2.550000e+02</td>\n",
              "      <td>6.553500e+04</td>\n",
              "      <td>6.553500e+04</td>\n",
              "      <td>6.553500e+04</td>\n",
              "    </tr>\n",
              "    <tr>\n",
              "      <th>PatientBirthDate</th>\n",
              "      <td>0.0</td>\n",
              "      <td>NaN</td>\n",
              "      <td>NaN</td>\n",
              "      <td>NaN</td>\n",
              "      <td>NaN</td>\n",
              "      <td>NaN</td>\n",
              "      <td>NaN</td>\n",
              "      <td>NaN</td>\n",
              "    </tr>\n",
              "    <tr>\n",
              "      <th>PatientSex</th>\n",
              "      <td>0.0</td>\n",
              "      <td>NaN</td>\n",
              "      <td>NaN</td>\n",
              "      <td>NaN</td>\n",
              "      <td>NaN</td>\n",
              "      <td>NaN</td>\n",
              "      <td>NaN</td>\n",
              "      <td>NaN</td>\n",
              "    </tr>\n",
              "    <tr>\n",
              "      <th>PixelRepresentation</th>\n",
              "      <td>10237.0</td>\n",
              "      <td>0.000000e+00</td>\n",
              "      <td>0.000000</td>\n",
              "      <td>0.000000e+00</td>\n",
              "      <td>0.000000e+00</td>\n",
              "      <td>0.000000e+00</td>\n",
              "      <td>0.000000e+00</td>\n",
              "      <td>0.000000e+00</td>\n",
              "    </tr>\n",
              "    <tr>\n",
              "      <th>ReferringPhysicianName</th>\n",
              "      <td>0.0</td>\n",
              "      <td>NaN</td>\n",
              "      <td>NaN</td>\n",
              "      <td>NaN</td>\n",
              "      <td>NaN</td>\n",
              "      <td>NaN</td>\n",
              "      <td>NaN</td>\n",
              "      <td>NaN</td>\n",
              "    </tr>\n",
              "    <tr>\n",
              "      <th>Rows</th>\n",
              "      <td>10237.0</td>\n",
              "      <td>3.549779e+03</td>\n",
              "      <td>2363.196643</td>\n",
              "      <td>7.300000e+01</td>\n",
              "      <td>4.410000e+02</td>\n",
              "      <td>4.624000e+03</td>\n",
              "      <td>5.476000e+03</td>\n",
              "      <td>7.111000e+03</td>\n",
              "    </tr>\n",
              "    <tr>\n",
              "      <th>SamplesPerPixel</th>\n",
              "      <td>10237.0</td>\n",
              "      <td>1.000000e+00</td>\n",
              "      <td>0.000000</td>\n",
              "      <td>1.000000e+00</td>\n",
              "      <td>1.000000e+00</td>\n",
              "      <td>1.000000e+00</td>\n",
              "      <td>1.000000e+00</td>\n",
              "      <td>1.000000e+00</td>\n",
              "    </tr>\n",
              "    <tr>\n",
              "      <th>SeriesNumber</th>\n",
              "      <td>10237.0</td>\n",
              "      <td>1.000000e+00</td>\n",
              "      <td>0.000000</td>\n",
              "      <td>1.000000e+00</td>\n",
              "      <td>1.000000e+00</td>\n",
              "      <td>1.000000e+00</td>\n",
              "      <td>1.000000e+00</td>\n",
              "      <td>1.000000e+00</td>\n",
              "    </tr>\n",
              "    <tr>\n",
              "      <th>SmallestImagePixelValue</th>\n",
              "      <td>10237.0</td>\n",
              "      <td>9.294026e+03</td>\n",
              "      <td>15367.554560</td>\n",
              "      <td>0.000000e+00</td>\n",
              "      <td>0.000000e+00</td>\n",
              "      <td>0.000000e+00</td>\n",
              "      <td>1.968700e+04</td>\n",
              "      <td>5.953800e+04</td>\n",
              "    </tr>\n",
              "    <tr>\n",
              "      <th>StudyDate</th>\n",
              "      <td>9671.0</td>\n",
              "      <td>2.016440e+07</td>\n",
              "      <td>4831.297763</td>\n",
              "      <td>2.016072e+07</td>\n",
              "      <td>2.016072e+07</td>\n",
              "      <td>2.016081e+07</td>\n",
              "      <td>2.017083e+07</td>\n",
              "      <td>2.017093e+07</td>\n",
              "    </tr>\n",
              "    <tr>\n",
              "      <th>StudyTime</th>\n",
              "      <td>9671.0</td>\n",
              "      <td>1.578644e+05</td>\n",
              "      <td>51545.806583</td>\n",
              "      <td>8.223500e+04</td>\n",
              "      <td>9.074250e+04</td>\n",
              "      <td>1.703350e+05</td>\n",
              "      <td>2.148190e+05</td>\n",
              "      <td>2.245020e+05</td>\n",
              "    </tr>\n",
              "  </tbody>\n",
              "</table>\n",
              "</div>\n",
              "    <div class=\"colab-df-buttons\">\n",
              "\n",
              "  <div class=\"colab-df-container\">\n",
              "    <button class=\"colab-df-convert\" onclick=\"convertToInteractive('df-7140e9b4-02ea-4937-a369-ec7ee75eb5bb')\"\n",
              "            title=\"Convert this dataframe to an interactive table.\"\n",
              "            style=\"display:none;\">\n",
              "\n",
              "  <svg xmlns=\"http://www.w3.org/2000/svg\" height=\"24px\" viewBox=\"0 -960 960 960\">\n",
              "    <path d=\"M120-120v-720h720v720H120Zm60-500h600v-160H180v160Zm220 220h160v-160H400v160Zm0 220h160v-160H400v160ZM180-400h160v-160H180v160Zm440 0h160v-160H620v160ZM180-180h160v-160H180v160Zm440 0h160v-160H620v160Z\"/>\n",
              "  </svg>\n",
              "    </button>\n",
              "\n",
              "  <style>\n",
              "    .colab-df-container {\n",
              "      display:flex;\n",
              "      gap: 12px;\n",
              "    }\n",
              "\n",
              "    .colab-df-convert {\n",
              "      background-color: #E8F0FE;\n",
              "      border: none;\n",
              "      border-radius: 50%;\n",
              "      cursor: pointer;\n",
              "      display: none;\n",
              "      fill: #1967D2;\n",
              "      height: 32px;\n",
              "      padding: 0 0 0 0;\n",
              "      width: 32px;\n",
              "    }\n",
              "\n",
              "    .colab-df-convert:hover {\n",
              "      background-color: #E2EBFA;\n",
              "      box-shadow: 0px 1px 2px rgba(60, 64, 67, 0.3), 0px 1px 3px 1px rgba(60, 64, 67, 0.15);\n",
              "      fill: #174EA6;\n",
              "    }\n",
              "\n",
              "    .colab-df-buttons div {\n",
              "      margin-bottom: 4px;\n",
              "    }\n",
              "\n",
              "    [theme=dark] .colab-df-convert {\n",
              "      background-color: #3B4455;\n",
              "      fill: #D2E3FC;\n",
              "    }\n",
              "\n",
              "    [theme=dark] .colab-df-convert:hover {\n",
              "      background-color: #434B5C;\n",
              "      box-shadow: 0px 1px 3px 1px rgba(0, 0, 0, 0.15);\n",
              "      filter: drop-shadow(0px 1px 2px rgba(0, 0, 0, 0.3));\n",
              "      fill: #FFFFFF;\n",
              "    }\n",
              "  </style>\n",
              "\n",
              "    <script>\n",
              "      const buttonEl =\n",
              "        document.querySelector('#df-7140e9b4-02ea-4937-a369-ec7ee75eb5bb button.colab-df-convert');\n",
              "      buttonEl.style.display =\n",
              "        google.colab.kernel.accessAllowed ? 'block' : 'none';\n",
              "\n",
              "      async function convertToInteractive(key) {\n",
              "        const element = document.querySelector('#df-7140e9b4-02ea-4937-a369-ec7ee75eb5bb');\n",
              "        const dataTable =\n",
              "          await google.colab.kernel.invokeFunction('convertToInteractive',\n",
              "                                                    [key], {});\n",
              "        if (!dataTable) return;\n",
              "\n",
              "        const docLinkHtml = 'Like what you see? Visit the ' +\n",
              "          '<a target=\"_blank\" href=https://colab.research.google.com/notebooks/data_table.ipynb>data table notebook</a>'\n",
              "          + ' to learn more about interactive tables.';\n",
              "        element.innerHTML = '';\n",
              "        dataTable['output_type'] = 'display_data';\n",
              "        await google.colab.output.renderOutput(dataTable, element);\n",
              "        const docLink = document.createElement('div');\n",
              "        docLink.innerHTML = docLinkHtml;\n",
              "        element.appendChild(docLink);\n",
              "      }\n",
              "    </script>\n",
              "  </div>\n",
              "\n",
              "\n",
              "<div id=\"df-a9abef1a-dfe0-4ab8-baef-72e4b7af12ce\">\n",
              "  <button class=\"colab-df-quickchart\" onclick=\"quickchart('df-a9abef1a-dfe0-4ab8-baef-72e4b7af12ce')\"\n",
              "            title=\"Suggest charts\"\n",
              "            style=\"display:none;\">\n",
              "\n",
              "<svg xmlns=\"http://www.w3.org/2000/svg\" height=\"24px\"viewBox=\"0 0 24 24\"\n",
              "     width=\"24px\">\n",
              "    <g>\n",
              "        <path d=\"M19 3H5c-1.1 0-2 .9-2 2v14c0 1.1.9 2 2 2h14c1.1 0 2-.9 2-2V5c0-1.1-.9-2-2-2zM9 17H7v-7h2v7zm4 0h-2V7h2v10zm4 0h-2v-4h2v4z\"/>\n",
              "    </g>\n",
              "</svg>\n",
              "  </button>\n",
              "\n",
              "<style>\n",
              "  .colab-df-quickchart {\n",
              "      --bg-color: #E8F0FE;\n",
              "      --fill-color: #1967D2;\n",
              "      --hover-bg-color: #E2EBFA;\n",
              "      --hover-fill-color: #174EA6;\n",
              "      --disabled-fill-color: #AAA;\n",
              "      --disabled-bg-color: #DDD;\n",
              "  }\n",
              "\n",
              "  [theme=dark] .colab-df-quickchart {\n",
              "      --bg-color: #3B4455;\n",
              "      --fill-color: #D2E3FC;\n",
              "      --hover-bg-color: #434B5C;\n",
              "      --hover-fill-color: #FFFFFF;\n",
              "      --disabled-bg-color: #3B4455;\n",
              "      --disabled-fill-color: #666;\n",
              "  }\n",
              "\n",
              "  .colab-df-quickchart {\n",
              "    background-color: var(--bg-color);\n",
              "    border: none;\n",
              "    border-radius: 50%;\n",
              "    cursor: pointer;\n",
              "    display: none;\n",
              "    fill: var(--fill-color);\n",
              "    height: 32px;\n",
              "    padding: 0;\n",
              "    width: 32px;\n",
              "  }\n",
              "\n",
              "  .colab-df-quickchart:hover {\n",
              "    background-color: var(--hover-bg-color);\n",
              "    box-shadow: 0 1px 2px rgba(60, 64, 67, 0.3), 0 1px 3px 1px rgba(60, 64, 67, 0.15);\n",
              "    fill: var(--button-hover-fill-color);\n",
              "  }\n",
              "\n",
              "  .colab-df-quickchart-complete:disabled,\n",
              "  .colab-df-quickchart-complete:disabled:hover {\n",
              "    background-color: var(--disabled-bg-color);\n",
              "    fill: var(--disabled-fill-color);\n",
              "    box-shadow: none;\n",
              "  }\n",
              "\n",
              "  .colab-df-spinner {\n",
              "    border: 2px solid var(--fill-color);\n",
              "    border-color: transparent;\n",
              "    border-bottom-color: var(--fill-color);\n",
              "    animation:\n",
              "      spin 1s steps(1) infinite;\n",
              "  }\n",
              "\n",
              "  @keyframes spin {\n",
              "    0% {\n",
              "      border-color: transparent;\n",
              "      border-bottom-color: var(--fill-color);\n",
              "      border-left-color: var(--fill-color);\n",
              "    }\n",
              "    20% {\n",
              "      border-color: transparent;\n",
              "      border-left-color: var(--fill-color);\n",
              "      border-top-color: var(--fill-color);\n",
              "    }\n",
              "    30% {\n",
              "      border-color: transparent;\n",
              "      border-left-color: var(--fill-color);\n",
              "      border-top-color: var(--fill-color);\n",
              "      border-right-color: var(--fill-color);\n",
              "    }\n",
              "    40% {\n",
              "      border-color: transparent;\n",
              "      border-right-color: var(--fill-color);\n",
              "      border-top-color: var(--fill-color);\n",
              "    }\n",
              "    60% {\n",
              "      border-color: transparent;\n",
              "      border-right-color: var(--fill-color);\n",
              "    }\n",
              "    80% {\n",
              "      border-color: transparent;\n",
              "      border-right-color: var(--fill-color);\n",
              "      border-bottom-color: var(--fill-color);\n",
              "    }\n",
              "    90% {\n",
              "      border-color: transparent;\n",
              "      border-bottom-color: var(--fill-color);\n",
              "    }\n",
              "  }\n",
              "</style>\n",
              "\n",
              "  <script>\n",
              "    async function quickchart(key) {\n",
              "      const quickchartButtonEl =\n",
              "        document.querySelector('#' + key + ' button');\n",
              "      quickchartButtonEl.disabled = true;  // To prevent multiple clicks.\n",
              "      quickchartButtonEl.classList.add('colab-df-spinner');\n",
              "      try {\n",
              "        const charts = await google.colab.kernel.invokeFunction(\n",
              "            'suggestCharts', [key], {});\n",
              "      } catch (error) {\n",
              "        console.error('Error during call to suggestCharts:', error);\n",
              "      }\n",
              "      quickchartButtonEl.classList.remove('colab-df-spinner');\n",
              "      quickchartButtonEl.classList.add('colab-df-quickchart-complete');\n",
              "    }\n",
              "    (() => {\n",
              "      let quickchartButtonEl =\n",
              "        document.querySelector('#df-a9abef1a-dfe0-4ab8-baef-72e4b7af12ce button');\n",
              "      quickchartButtonEl.style.display =\n",
              "        google.colab.kernel.accessAllowed ? 'block' : 'none';\n",
              "    })();\n",
              "  </script>\n",
              "</div>\n",
              "\n",
              "    </div>\n",
              "  </div>\n"
            ],
            "application/vnd.google.colaboratory.intrinsic+json": {
              "type": "dataframe",
              "summary": "{\n  \"name\": \"dicom_df\",\n  \"rows\": 19,\n  \"fields\": [\n    {\n      \"column\": \"count\",\n      \"properties\": {\n        \"dtype\": \"number\",\n        \"std\": 4259.820429732603,\n        \"min\": 0.0,\n        \"max\": 10237.0,\n        \"num_unique_values\": 3,\n        \"samples\": [\n          0.0,\n          10237.0,\n          9671.0\n        ],\n        \"semantic_type\": \"\",\n        \"description\": \"\"\n      }\n    },\n    {\n      \"column\": \"mean\",\n      \"properties\": {\n        \"dtype\": \"number\",\n        \"std\": 7085472.031516769,\n        \"min\": 0.0,\n        \"max\": 20164395.20215076,\n        \"num_unique_values\": 12,\n        \"samples\": [\n          20164395.20215076,\n          9294.026472599395,\n          13.212464589235127\n        ],\n        \"semantic_type\": \"\",\n        \"description\": \"\"\n      }\n    },\n    {\n      \"column\": \"std\",\n      \"properties\": {\n        \"dtype\": \"number\",\n        \"std\": 14847.621633114804,\n        \"min\": 0.0,\n        \"max\": 51545.806582893216,\n        \"num_unique_values\": 10,\n        \"samples\": [\n          4831.297763051241,\n          1374.2210822125398,\n          30995.808635680445\n        ],\n        \"semantic_type\": \"\",\n        \"description\": \"\"\n      }\n    },\n    {\n      \"column\": \"min\",\n      \"properties\": {\n        \"dtype\": \"number\",\n        \"std\": 7089394.350036629,\n        \"min\": 0.0,\n        \"max\": 20160720.0,\n        \"num_unique_values\": 11,\n        \"samples\": [\n          1.0,\n          8.0,\n          20160720.0\n        ],\n        \"semantic_type\": \"\",\n        \"description\": \"\"\n      }\n    },\n    {\n      \"column\": \"25%\",\n      \"properties\": {\n        \"dtype\": \"number\",\n        \"std\": 7088339.490116334,\n        \"min\": 0.0,\n        \"max\": 20160720.0,\n        \"num_unique_values\": 11,\n        \"samples\": [\n          1.0,\n          8.0,\n          20160720.0\n        ],\n        \"semantic_type\": \"\",\n        \"description\": \"\"\n      }\n    },\n    {\n      \"column\": \"50%\",\n      \"properties\": {\n        \"dtype\": \"number\",\n        \"std\": 7084124.756878391,\n        \"min\": 0.0,\n        \"max\": 20160807.0,\n        \"num_unique_values\": 11,\n        \"samples\": [\n          1.0,\n          16.0,\n          20160807.0\n        ],\n        \"semantic_type\": \"\",\n        \"description\": \"\"\n      }\n    },\n    {\n      \"column\": \"75%\",\n      \"properties\": {\n        \"dtype\": \"number\",\n        \"std\": 7083943.949689117,\n        \"min\": 0.0,\n        \"max\": 20170830.0,\n        \"num_unique_values\": 12,\n        \"samples\": [\n          20170830.0,\n          19687.0,\n          16.0\n        ],\n        \"semantic_type\": \"\",\n        \"description\": \"\"\n      }\n    },\n    {\n      \"column\": \"max\",\n      \"properties\": {\n        \"dtype\": \"number\",\n        \"std\": 7083628.770076307,\n        \"min\": 0.0,\n        \"max\": 20170927.0,\n        \"num_unique_values\": 12,\n        \"samples\": [\n          20170927.0,\n          59538.0,\n          16.0\n        ],\n        \"semantic_type\": \"\",\n        \"description\": \"\"\n      }\n    }\n  ]\n}"
            }
          },
          "metadata": {},
          "execution_count": 33
        }
      ],
      "execution_count": 33
    },
    {
      "cell_type": "code",
      "source": [
        "dicom_df.info()"
      ],
      "metadata": {
        "execution": {
          "iopub.status.busy": "2025-01-27T15:26:56.75262Z",
          "iopub.execute_input": "2025-01-27T15:26:56.752886Z",
          "iopub.status.idle": "2025-01-27T15:26:56.782054Z",
          "shell.execute_reply.started": "2025-01-27T15:26:56.752868Z",
          "shell.execute_reply": "2025-01-27T15:26:56.781162Z"
        },
        "trusted": true,
        "id": "lLr4nQeeKa_w",
        "outputId": "074d4fda-f620-4512-8ccd-ed52b0e2bb94",
        "colab": {
          "base_uri": "https://localhost:8080/"
        }
      },
      "outputs": [
        {
          "output_type": "stream",
          "name": "stdout",
          "text": [
            "<class 'pandas.core.frame.DataFrame'>\n",
            "RangeIndex: 10237 entries, 0 to 10236\n",
            "Data columns (total 38 columns):\n",
            " #   Column                                       Non-Null Count  Dtype  \n",
            "---  ------                                       --------------  -----  \n",
            " 0   file_path                                    10237 non-null  object \n",
            " 1   image_path                                   10237 non-null  object \n",
            " 2   AccessionNumber                              0 non-null      float64\n",
            " 3   BitsAllocated                                10237 non-null  int64  \n",
            " 4   BitsStored                                   10237 non-null  int64  \n",
            " 5   BodyPartExamined                             10237 non-null  object \n",
            " 6   Columns                                      10237 non-null  int64  \n",
            " 7   ContentDate                                  10237 non-null  int64  \n",
            " 8   ContentTime                                  10237 non-null  float64\n",
            " 9   ConversionType                               10237 non-null  object \n",
            " 10  HighBit                                      10237 non-null  int64  \n",
            " 11  InstanceNumber                               10237 non-null  int64  \n",
            " 12  LargestImagePixelValue                       10237 non-null  int64  \n",
            " 13  Laterality                                   9671 non-null   object \n",
            " 14  Modality                                     10237 non-null  object \n",
            " 15  PatientBirthDate                             0 non-null      float64\n",
            " 16  PatientID                                    10237 non-null  object \n",
            " 17  PatientName                                  10237 non-null  object \n",
            " 18  PatientOrientation                           10237 non-null  object \n",
            " 19  PatientSex                                   0 non-null      float64\n",
            " 20  PhotometricInterpretation                    10237 non-null  object \n",
            " 21  PixelRepresentation                          10237 non-null  int64  \n",
            " 22  ReferringPhysicianName                       0 non-null      float64\n",
            " 23  Rows                                         10237 non-null  int64  \n",
            " 24  SOPClassUID                                  10237 non-null  object \n",
            " 25  SOPInstanceUID                               10237 non-null  object \n",
            " 26  SamplesPerPixel                              10237 non-null  int64  \n",
            " 27  SecondaryCaptureDeviceManufacturer           10237 non-null  object \n",
            " 28  SecondaryCaptureDeviceManufacturerModelName  10237 non-null  object \n",
            " 29  SeriesDescription                            9671 non-null   object \n",
            " 30  SeriesInstanceUID                            10237 non-null  object \n",
            " 31  SeriesNumber                                 10237 non-null  int64  \n",
            " 32  SmallestImagePixelValue                      10237 non-null  int64  \n",
            " 33  SpecificCharacterSet                         10237 non-null  object \n",
            " 34  StudyDate                                    9671 non-null   float64\n",
            " 35  StudyID                                      10237 non-null  object \n",
            " 36  StudyInstanceUID                             10237 non-null  object \n",
            " 37  StudyTime                                    9671 non-null   float64\n",
            "dtypes: float64(7), int64(12), object(19)\n",
            "memory usage: 3.0+ MB\n"
          ]
        }
      ],
      "execution_count": 34
    },
    {
      "cell_type": "code",
      "source": [
        "dicom_df.SeriesDescription.unique()"
      ],
      "metadata": {
        "execution": {
          "iopub.status.busy": "2025-01-27T15:27:03.622599Z",
          "iopub.execute_input": "2025-01-27T15:27:03.622892Z",
          "iopub.status.idle": "2025-01-27T15:27:03.628308Z",
          "shell.execute_reply.started": "2025-01-27T15:27:03.622872Z",
          "shell.execute_reply": "2025-01-27T15:27:03.627526Z"
        },
        "trusted": true,
        "id": "bH_knnNYKa_w",
        "outputId": "798ced27-75f9-4b17-97d7-04e3657337a4",
        "colab": {
          "base_uri": "https://localhost:8080/"
        }
      },
      "outputs": [
        {
          "output_type": "execute_result",
          "data": {
            "text/plain": [
              "array(['cropped images', 'full mammogram images', nan, 'ROI mask images'],\n",
              "      dtype=object)"
            ]
          },
          "metadata": {},
          "execution_count": 35
        }
      ],
      "execution_count": 35
    },
    {
      "cell_type": "markdown",
      "source": [
        "> ------\n",
        "\n",
        "> #### Show Count of Images in each Type"
      ],
      "metadata": {
        "id": "ToXXQP-nKa_w"
      }
    },
    {
      "cell_type": "code",
      "source": [
        "dicom_df.SeriesDescription.value_counts()"
      ],
      "metadata": {
        "execution": {
          "iopub.status.busy": "2025-01-27T15:27:05.892101Z",
          "iopub.execute_input": "2025-01-27T15:27:05.892406Z",
          "iopub.status.idle": "2025-01-27T15:27:05.899035Z",
          "shell.execute_reply.started": "2025-01-27T15:27:05.892384Z",
          "shell.execute_reply": "2025-01-27T15:27:05.898249Z"
        },
        "trusted": true,
        "id": "JQkEhbnWKa_x",
        "outputId": "2244535d-3c8f-4508-be0d-d47a0aa20356",
        "colab": {
          "base_uri": "https://localhost:8080/",
          "height": 209
        }
      },
      "outputs": [
        {
          "output_type": "execute_result",
          "data": {
            "text/plain": [
              "SeriesDescription\n",
              "cropped images           3567\n",
              "ROI mask images          3247\n",
              "full mammogram images    2857\n",
              "Name: count, dtype: int64"
            ],
            "text/html": [
              "<div>\n",
              "<style scoped>\n",
              "    .dataframe tbody tr th:only-of-type {\n",
              "        vertical-align: middle;\n",
              "    }\n",
              "\n",
              "    .dataframe tbody tr th {\n",
              "        vertical-align: top;\n",
              "    }\n",
              "\n",
              "    .dataframe thead th {\n",
              "        text-align: right;\n",
              "    }\n",
              "</style>\n",
              "<table border=\"1\" class=\"dataframe\">\n",
              "  <thead>\n",
              "    <tr style=\"text-align: right;\">\n",
              "      <th></th>\n",
              "      <th>count</th>\n",
              "    </tr>\n",
              "    <tr>\n",
              "      <th>SeriesDescription</th>\n",
              "      <th></th>\n",
              "    </tr>\n",
              "  </thead>\n",
              "  <tbody>\n",
              "    <tr>\n",
              "      <th>cropped images</th>\n",
              "      <td>3567</td>\n",
              "    </tr>\n",
              "    <tr>\n",
              "      <th>ROI mask images</th>\n",
              "      <td>3247</td>\n",
              "    </tr>\n",
              "    <tr>\n",
              "      <th>full mammogram images</th>\n",
              "      <td>2857</td>\n",
              "    </tr>\n",
              "  </tbody>\n",
              "</table>\n",
              "</div><br><label><b>dtype:</b> int64</label>"
            ]
          },
          "metadata": {},
          "execution_count": 36
        }
      ],
      "execution_count": 36
    },
    {
      "cell_type": "markdown",
      "source": [
        "> # check image path in dataset"
      ],
      "metadata": {
        "id": "OBpj5PTbKa_x"
      }
    },
    {
      "cell_type": "markdown",
      "source": [
        "> ------\n",
        "\n",
        "\n",
        "> #### cropped images"
      ],
      "metadata": {
        "id": "65I26ToIKa_x"
      }
    },
    {
      "cell_type": "code",
      "source": [
        "cropped_images = dicom_df[dicom_df.SeriesDescription==\"cropped images\"].image_path\n",
        "cropped_images.head()"
      ],
      "metadata": {
        "execution": {
          "iopub.status.busy": "2025-01-27T15:27:08.112774Z",
          "iopub.execute_input": "2025-01-27T15:27:08.113061Z",
          "iopub.status.idle": "2025-01-27T15:27:08.122815Z",
          "shell.execute_reply.started": "2025-01-27T15:27:08.11304Z",
          "shell.execute_reply": "2025-01-27T15:27:08.121926Z"
        },
        "trusted": true,
        "id": "X2WYD24RKa_x",
        "outputId": "c61bd96a-b21c-4f84-cd03-2e0a35dfd582",
        "colab": {
          "base_uri": "https://localhost:8080/",
          "height": 241
        }
      },
      "outputs": [
        {
          "output_type": "execute_result",
          "data": {
            "text/plain": [
              "0     CBIS-DDSM/jpeg/1.3.6.1.4.1.9590.100.1.2.129308...\n",
              "3     CBIS-DDSM/jpeg/1.3.6.1.4.1.9590.100.1.2.381187...\n",
              "6     CBIS-DDSM/jpeg/1.3.6.1.4.1.9590.100.1.2.153339...\n",
              "7     CBIS-DDSM/jpeg/1.3.6.1.4.1.9590.100.1.2.178994...\n",
              "10    CBIS-DDSM/jpeg/1.3.6.1.4.1.9590.100.1.2.411833...\n",
              "Name: image_path, dtype: object"
            ],
            "text/html": [
              "<div>\n",
              "<style scoped>\n",
              "    .dataframe tbody tr th:only-of-type {\n",
              "        vertical-align: middle;\n",
              "    }\n",
              "\n",
              "    .dataframe tbody tr th {\n",
              "        vertical-align: top;\n",
              "    }\n",
              "\n",
              "    .dataframe thead th {\n",
              "        text-align: right;\n",
              "    }\n",
              "</style>\n",
              "<table border=\"1\" class=\"dataframe\">\n",
              "  <thead>\n",
              "    <tr style=\"text-align: right;\">\n",
              "      <th></th>\n",
              "      <th>image_path</th>\n",
              "    </tr>\n",
              "  </thead>\n",
              "  <tbody>\n",
              "    <tr>\n",
              "      <th>0</th>\n",
              "      <td>CBIS-DDSM/jpeg/1.3.6.1.4.1.9590.100.1.2.129308...</td>\n",
              "    </tr>\n",
              "    <tr>\n",
              "      <th>3</th>\n",
              "      <td>CBIS-DDSM/jpeg/1.3.6.1.4.1.9590.100.1.2.381187...</td>\n",
              "    </tr>\n",
              "    <tr>\n",
              "      <th>6</th>\n",
              "      <td>CBIS-DDSM/jpeg/1.3.6.1.4.1.9590.100.1.2.153339...</td>\n",
              "    </tr>\n",
              "    <tr>\n",
              "      <th>7</th>\n",
              "      <td>CBIS-DDSM/jpeg/1.3.6.1.4.1.9590.100.1.2.178994...</td>\n",
              "    </tr>\n",
              "    <tr>\n",
              "      <th>10</th>\n",
              "      <td>CBIS-DDSM/jpeg/1.3.6.1.4.1.9590.100.1.2.411833...</td>\n",
              "    </tr>\n",
              "  </tbody>\n",
              "</table>\n",
              "</div><br><label><b>dtype:</b> object</label>"
            ]
          },
          "metadata": {},
          "execution_count": 37
        }
      ],
      "execution_count": 37
    },
    {
      "cell_type": "markdown",
      "source": [
        "> ------\n",
        "\n",
        "> #### full mammogram images"
      ],
      "metadata": {
        "id": "cqd98yhLKa_y"
      }
    },
    {
      "cell_type": "code",
      "source": [
        "full_mammogram = dicom_df[dicom_df.SeriesDescription==\"full mammogram images\"].image_path\n",
        "full_mammogram.head()"
      ],
      "metadata": {
        "execution": {
          "iopub.status.busy": "2025-01-27T15:27:08.462414Z",
          "iopub.execute_input": "2025-01-27T15:27:08.462733Z",
          "iopub.status.idle": "2025-01-27T15:27:08.471455Z",
          "shell.execute_reply.started": "2025-01-27T15:27:08.46271Z",
          "shell.execute_reply": "2025-01-27T15:27:08.470648Z"
        },
        "trusted": true,
        "id": "1rywRS2VKa_y",
        "outputId": "10213693-a16f-4bf7-c748-d807a5a317ad",
        "colab": {
          "base_uri": "https://localhost:8080/",
          "height": 241
        }
      },
      "outputs": [
        {
          "output_type": "execute_result",
          "data": {
            "text/plain": [
              "1     CBIS-DDSM/jpeg/1.3.6.1.4.1.9590.100.1.2.248386...\n",
              "2     CBIS-DDSM/jpeg/1.3.6.1.4.1.9590.100.1.2.267213...\n",
              "11    CBIS-DDSM/jpeg/1.3.6.1.4.1.9590.100.1.2.210396...\n",
              "12    CBIS-DDSM/jpeg/1.3.6.1.4.1.9590.100.1.2.749566...\n",
              "15    CBIS-DDSM/jpeg/1.3.6.1.4.1.9590.100.1.2.987658...\n",
              "Name: image_path, dtype: object"
            ],
            "text/html": [
              "<div>\n",
              "<style scoped>\n",
              "    .dataframe tbody tr th:only-of-type {\n",
              "        vertical-align: middle;\n",
              "    }\n",
              "\n",
              "    .dataframe tbody tr th {\n",
              "        vertical-align: top;\n",
              "    }\n",
              "\n",
              "    .dataframe thead th {\n",
              "        text-align: right;\n",
              "    }\n",
              "</style>\n",
              "<table border=\"1\" class=\"dataframe\">\n",
              "  <thead>\n",
              "    <tr style=\"text-align: right;\">\n",
              "      <th></th>\n",
              "      <th>image_path</th>\n",
              "    </tr>\n",
              "  </thead>\n",
              "  <tbody>\n",
              "    <tr>\n",
              "      <th>1</th>\n",
              "      <td>CBIS-DDSM/jpeg/1.3.6.1.4.1.9590.100.1.2.248386...</td>\n",
              "    </tr>\n",
              "    <tr>\n",
              "      <th>2</th>\n",
              "      <td>CBIS-DDSM/jpeg/1.3.6.1.4.1.9590.100.1.2.267213...</td>\n",
              "    </tr>\n",
              "    <tr>\n",
              "      <th>11</th>\n",
              "      <td>CBIS-DDSM/jpeg/1.3.6.1.4.1.9590.100.1.2.210396...</td>\n",
              "    </tr>\n",
              "    <tr>\n",
              "      <th>12</th>\n",
              "      <td>CBIS-DDSM/jpeg/1.3.6.1.4.1.9590.100.1.2.749566...</td>\n",
              "    </tr>\n",
              "    <tr>\n",
              "      <th>15</th>\n",
              "      <td>CBIS-DDSM/jpeg/1.3.6.1.4.1.9590.100.1.2.987658...</td>\n",
              "    </tr>\n",
              "  </tbody>\n",
              "</table>\n",
              "</div><br><label><b>dtype:</b> object</label>"
            ]
          },
          "metadata": {},
          "execution_count": 38
        }
      ],
      "execution_count": 38
    },
    {
      "cell_type": "markdown",
      "source": [
        "> ------\n",
        "\n",
        "> #### ROI images"
      ],
      "metadata": {
        "id": "wDZ6dIOmKa_y"
      }
    },
    {
      "cell_type": "code",
      "source": [
        "roi_mask = dicom_df[dicom_df.SeriesDescription==\"ROI mask images\"].image_path\n",
        "roi_mask.head()"
      ],
      "metadata": {
        "execution": {
          "iopub.status.busy": "2025-01-27T15:27:08.82768Z",
          "iopub.execute_input": "2025-01-27T15:27:08.828075Z",
          "iopub.status.idle": "2025-01-27T15:27:08.83905Z",
          "shell.execute_reply.started": "2025-01-27T15:27:08.828044Z",
          "shell.execute_reply": "2025-01-27T15:27:08.838133Z"
        },
        "trusted": true,
        "id": "UcDGcuRCKa_y",
        "outputId": "f57b3f82-2533-4e0e-9c86-b2b513a9ade1",
        "colab": {
          "base_uri": "https://localhost:8080/",
          "height": 241
        }
      },
      "outputs": [
        {
          "output_type": "execute_result",
          "data": {
            "text/plain": [
              "5     CBIS-DDSM/jpeg/1.3.6.1.4.1.9590.100.1.2.153339...\n",
              "8     CBIS-DDSM/jpeg/1.3.6.1.4.1.9590.100.1.2.178994...\n",
              "9     CBIS-DDSM/jpeg/1.3.6.1.4.1.9590.100.1.2.411833...\n",
              "14    CBIS-DDSM/jpeg/1.3.6.1.4.1.9590.100.1.2.236373...\n",
              "20    CBIS-DDSM/jpeg/1.3.6.1.4.1.9590.100.1.2.357008...\n",
              "Name: image_path, dtype: object"
            ],
            "text/html": [
              "<div>\n",
              "<style scoped>\n",
              "    .dataframe tbody tr th:only-of-type {\n",
              "        vertical-align: middle;\n",
              "    }\n",
              "\n",
              "    .dataframe tbody tr th {\n",
              "        vertical-align: top;\n",
              "    }\n",
              "\n",
              "    .dataframe thead th {\n",
              "        text-align: right;\n",
              "    }\n",
              "</style>\n",
              "<table border=\"1\" class=\"dataframe\">\n",
              "  <thead>\n",
              "    <tr style=\"text-align: right;\">\n",
              "      <th></th>\n",
              "      <th>image_path</th>\n",
              "    </tr>\n",
              "  </thead>\n",
              "  <tbody>\n",
              "    <tr>\n",
              "      <th>5</th>\n",
              "      <td>CBIS-DDSM/jpeg/1.3.6.1.4.1.9590.100.1.2.153339...</td>\n",
              "    </tr>\n",
              "    <tr>\n",
              "      <th>8</th>\n",
              "      <td>CBIS-DDSM/jpeg/1.3.6.1.4.1.9590.100.1.2.178994...</td>\n",
              "    </tr>\n",
              "    <tr>\n",
              "      <th>9</th>\n",
              "      <td>CBIS-DDSM/jpeg/1.3.6.1.4.1.9590.100.1.2.411833...</td>\n",
              "    </tr>\n",
              "    <tr>\n",
              "      <th>14</th>\n",
              "      <td>CBIS-DDSM/jpeg/1.3.6.1.4.1.9590.100.1.2.236373...</td>\n",
              "    </tr>\n",
              "    <tr>\n",
              "      <th>20</th>\n",
              "      <td>CBIS-DDSM/jpeg/1.3.6.1.4.1.9590.100.1.2.357008...</td>\n",
              "    </tr>\n",
              "  </tbody>\n",
              "</table>\n",
              "</div><br><label><b>dtype:</b> object</label>"
            ]
          },
          "metadata": {},
          "execution_count": 39
        }
      ],
      "execution_count": 39
    },
    {
      "cell_type": "code",
      "source": [
        "# # delete dicom_df after finished use it\n",
        "del dicom_df;    gc.collect()"
      ],
      "metadata": {
        "execution": {
          "iopub.status.busy": "2025-01-27T15:27:09.232741Z",
          "iopub.execute_input": "2025-01-27T15:27:09.233121Z",
          "iopub.status.idle": "2025-01-27T15:27:09.443576Z",
          "shell.execute_reply.started": "2025-01-27T15:27:09.233087Z",
          "shell.execute_reply": "2025-01-27T15:27:09.442646Z"
        },
        "trusted": true,
        "id": "UPcZL9B-Ka_y",
        "outputId": "ebc0509d-aefe-4d92-b6ef-a9642ce0d409",
        "colab": {
          "base_uri": "https://localhost:8080/"
        }
      },
      "outputs": [
        {
          "output_type": "execute_result",
          "data": {
            "text/plain": [
              "26"
            ]
          },
          "metadata": {},
          "execution_count": 40
        }
      ],
      "execution_count": 40
    },
    {
      "cell_type": "markdown",
      "source": [
        "> # change directory path of images"
      ],
      "metadata": {
        "id": "-kKTzE9MKa_z"
      }
    },
    {
      "cell_type": "markdown",
      "source": [
        "> ------\n",
        "\n",
        "> #### Correct Path"
      ],
      "metadata": {
        "id": "XedrE6ZPKa_z"
      }
    },
    {
      "cell_type": "code",
      "source": [
        "def replace_path(sample, old_path, new_path):\n",
        "    return sample.replace(old_path, new_path, regex=True)"
      ],
      "metadata": {
        "execution": {
          "iopub.status.busy": "2025-01-27T15:27:09.512254Z",
          "iopub.execute_input": "2025-01-27T15:27:09.512569Z",
          "iopub.status.idle": "2025-01-27T15:27:09.516526Z",
          "shell.execute_reply.started": "2025-01-27T15:27:09.512544Z",
          "shell.execute_reply": "2025-01-27T15:27:09.515542Z"
        },
        "trusted": true,
        "id": "3ol7BZRGKa_z"
      },
      "outputs": [],
      "execution_count": 41
    },
    {
      "cell_type": "code",
      "source": [
        "def plot_smaples(sample, row=15, col=15):\n",
        "    plt.figure(figsize=(row, col))\n",
        "    for i, file in enumerate(sample[0:5]):\n",
        "        cropped_images_show = PIL.Image.open(file)\n",
        "        gray_img= cropped_images_show.convert(\"L\")\n",
        "        plt.subplot(1,5,i+1)\n",
        "        plt.imshow(gray_img, cmap='gray')\n",
        "        plt.axis('off')\n",
        "    plt.show()"
      ],
      "metadata": {
        "execution": {
          "iopub.status.busy": "2025-01-27T15:27:09.652339Z",
          "iopub.execute_input": "2025-01-27T15:27:09.652651Z",
          "iopub.status.idle": "2025-01-27T15:27:09.657256Z",
          "shell.execute_reply.started": "2025-01-27T15:27:09.652627Z",
          "shell.execute_reply": "2025-01-27T15:27:09.656268Z"
        },
        "trusted": true,
        "id": "dLqSd6m_Ka_z"
      },
      "outputs": [],
      "execution_count": 42
    },
    {
      "cell_type": "code",
      "source": [
        "correct_dir = \"/root/.cache/kagglehub/datasets/awsaf49/cbis-ddsm-breast-cancer-image-dataset//versions/1/jpeg\""
      ],
      "metadata": {
        "execution": {
          "iopub.status.busy": "2025-01-27T15:27:09.852682Z",
          "iopub.execute_input": "2025-01-27T15:27:09.853127Z",
          "iopub.status.idle": "2025-01-27T15:27:09.857631Z",
          "shell.execute_reply.started": "2025-01-27T15:27:09.853089Z",
          "shell.execute_reply": "2025-01-27T15:27:09.856776Z"
        },
        "trusted": true,
        "id": "IWkVl735Ka_z"
      },
      "outputs": [],
      "execution_count": 56
    },
    {
      "cell_type": "code",
      "source": [
        "cropped_images = replace_path(cropped_images, \"CBIS-DDSM/jpeg\", correct_dir)\n",
        "print('Cropped Images paths:')\n",
        "print(cropped_images.iloc[0])"
      ],
      "metadata": {
        "execution": {
          "iopub.status.busy": "2025-01-27T15:27:10.072823Z",
          "iopub.execute_input": "2025-01-27T15:27:10.07325Z",
          "iopub.status.idle": "2025-01-27T15:27:10.084041Z",
          "shell.execute_reply.started": "2025-01-27T15:27:10.073213Z",
          "shell.execute_reply": "2025-01-27T15:27:10.083138Z"
        },
        "trusted": true,
        "id": "X36Y1t4ZKa_0",
        "outputId": "1433259b-a5ee-4658-aa37-fc3b3af4288c",
        "colab": {
          "base_uri": "https://localhost:8080/"
        }
      },
      "outputs": [
        {
          "output_type": "stream",
          "name": "stdout",
          "text": [
            "Cropped Images paths:\n",
            "../input/cbis-ddsm-breast-cancer-image-dataset/jpeg/1.3.6.1.4.1.9590.100.1.2.129308726812851964007517874181459556304/1-172.jpg\n"
          ]
        }
      ],
      "execution_count": 59
    },
    {
      "cell_type": "code",
      "source": [
        "plot_smaples(cropped_images, 15, 15)"
      ],
      "metadata": {
        "execution": {
          "iopub.status.busy": "2025-01-27T15:27:10.243104Z",
          "iopub.execute_input": "2025-01-27T15:27:10.243441Z",
          "iopub.status.idle": "2025-01-27T15:27:10.719929Z",
          "shell.execute_reply.started": "2025-01-27T15:27:10.243417Z",
          "shell.execute_reply": "2025-01-27T15:27:10.719051Z"
        },
        "trusted": true,
        "id": "eEi3r22MKa_0",
        "outputId": "cb9d7dcd-2ba5-49f8-ad78-debf3281d8ec",
        "colab": {
          "base_uri": "https://localhost:8080/",
          "height": 321
        }
      },
      "outputs": [
        {
          "output_type": "error",
          "ename": "FileNotFoundError",
          "evalue": "[Errno 2] No such file or directory: '../input/cbis-ddsm-breast-cancer-image-dataset/jpeg/1.3.6.1.4.1.9590.100.1.2.129308726812851964007517874181459556304/1-172.jpg'",
          "traceback": [
            "\u001b[0;31m---------------------------------------------------------------------------\u001b[0m",
            "\u001b[0;31mFileNotFoundError\u001b[0m                         Traceback (most recent call last)",
            "\u001b[0;32m<ipython-input-60-073c1842f370>\u001b[0m in \u001b[0;36m<cell line: 0>\u001b[0;34m()\u001b[0m\n\u001b[0;32m----> 1\u001b[0;31m \u001b[0mplot_smaples\u001b[0m\u001b[0;34m(\u001b[0m\u001b[0mcropped_images\u001b[0m\u001b[0;34m,\u001b[0m \u001b[0;36m15\u001b[0m\u001b[0;34m,\u001b[0m \u001b[0;36m15\u001b[0m\u001b[0;34m)\u001b[0m\u001b[0;34m\u001b[0m\u001b[0;34m\u001b[0m\u001b[0m\n\u001b[0m",
            "\u001b[0;32m<ipython-input-42-d9a2b33388aa>\u001b[0m in \u001b[0;36mplot_smaples\u001b[0;34m(sample, row, col)\u001b[0m\n\u001b[1;32m      2\u001b[0m     \u001b[0mplt\u001b[0m\u001b[0;34m.\u001b[0m\u001b[0mfigure\u001b[0m\u001b[0;34m(\u001b[0m\u001b[0mfigsize\u001b[0m\u001b[0;34m=\u001b[0m\u001b[0;34m(\u001b[0m\u001b[0mrow\u001b[0m\u001b[0;34m,\u001b[0m \u001b[0mcol\u001b[0m\u001b[0;34m)\u001b[0m\u001b[0;34m)\u001b[0m\u001b[0;34m\u001b[0m\u001b[0;34m\u001b[0m\u001b[0m\n\u001b[1;32m      3\u001b[0m     \u001b[0;32mfor\u001b[0m \u001b[0mi\u001b[0m\u001b[0;34m,\u001b[0m \u001b[0mfile\u001b[0m \u001b[0;32min\u001b[0m \u001b[0menumerate\u001b[0m\u001b[0;34m(\u001b[0m\u001b[0msample\u001b[0m\u001b[0;34m[\u001b[0m\u001b[0;36m0\u001b[0m\u001b[0;34m:\u001b[0m\u001b[0;36m5\u001b[0m\u001b[0;34m]\u001b[0m\u001b[0;34m)\u001b[0m\u001b[0;34m:\u001b[0m\u001b[0;34m\u001b[0m\u001b[0;34m\u001b[0m\u001b[0m\n\u001b[0;32m----> 4\u001b[0;31m         \u001b[0mcropped_images_show\u001b[0m \u001b[0;34m=\u001b[0m \u001b[0mPIL\u001b[0m\u001b[0;34m.\u001b[0m\u001b[0mImage\u001b[0m\u001b[0;34m.\u001b[0m\u001b[0mopen\u001b[0m\u001b[0;34m(\u001b[0m\u001b[0mfile\u001b[0m\u001b[0;34m)\u001b[0m\u001b[0;34m\u001b[0m\u001b[0;34m\u001b[0m\u001b[0m\n\u001b[0m\u001b[1;32m      5\u001b[0m         \u001b[0mgray_img\u001b[0m\u001b[0;34m=\u001b[0m \u001b[0mcropped_images_show\u001b[0m\u001b[0;34m.\u001b[0m\u001b[0mconvert\u001b[0m\u001b[0;34m(\u001b[0m\u001b[0;34m\"L\"\u001b[0m\u001b[0;34m)\u001b[0m\u001b[0;34m\u001b[0m\u001b[0;34m\u001b[0m\u001b[0m\n\u001b[1;32m      6\u001b[0m         \u001b[0mplt\u001b[0m\u001b[0;34m.\u001b[0m\u001b[0msubplot\u001b[0m\u001b[0;34m(\u001b[0m\u001b[0;36m1\u001b[0m\u001b[0;34m,\u001b[0m\u001b[0;36m5\u001b[0m\u001b[0;34m,\u001b[0m\u001b[0mi\u001b[0m\u001b[0;34m+\u001b[0m\u001b[0;36m1\u001b[0m\u001b[0;34m)\u001b[0m\u001b[0;34m\u001b[0m\u001b[0;34m\u001b[0m\u001b[0m\n",
            "\u001b[0;32m/usr/local/lib/python3.11/dist-packages/PIL/Image.py\u001b[0m in \u001b[0;36mopen\u001b[0;34m(fp, mode, formats)\u001b[0m\n\u001b[1;32m   3463\u001b[0m \u001b[0;34m\u001b[0m\u001b[0m\n\u001b[1;32m   3464\u001b[0m     \u001b[0;32mif\u001b[0m \u001b[0mfilename\u001b[0m\u001b[0;34m:\u001b[0m\u001b[0;34m\u001b[0m\u001b[0;34m\u001b[0m\u001b[0m\n\u001b[0;32m-> 3465\u001b[0;31m         \u001b[0mfp\u001b[0m \u001b[0;34m=\u001b[0m \u001b[0mbuiltins\u001b[0m\u001b[0;34m.\u001b[0m\u001b[0mopen\u001b[0m\u001b[0;34m(\u001b[0m\u001b[0mfilename\u001b[0m\u001b[0;34m,\u001b[0m \u001b[0;34m\"rb\"\u001b[0m\u001b[0;34m)\u001b[0m\u001b[0;34m\u001b[0m\u001b[0;34m\u001b[0m\u001b[0m\n\u001b[0m\u001b[1;32m   3466\u001b[0m         \u001b[0mexclusive_fp\u001b[0m \u001b[0;34m=\u001b[0m \u001b[0;32mTrue\u001b[0m\u001b[0;34m\u001b[0m\u001b[0;34m\u001b[0m\u001b[0m\n\u001b[1;32m   3467\u001b[0m     \u001b[0;32melse\u001b[0m\u001b[0;34m:\u001b[0m\u001b[0;34m\u001b[0m\u001b[0;34m\u001b[0m\u001b[0m\n",
            "\u001b[0;31mFileNotFoundError\u001b[0m: [Errno 2] No such file or directory: '../input/cbis-ddsm-breast-cancer-image-dataset/jpeg/1.3.6.1.4.1.9590.100.1.2.129308726812851964007517874181459556304/1-172.jpg'"
          ]
        },
        {
          "output_type": "display_data",
          "data": {
            "text/plain": [
              "<Figure size 1500x1500 with 0 Axes>"
            ]
          },
          "metadata": {}
        }
      ],
      "execution_count": 60
    },
    {
      "cell_type": "code",
      "source": [
        "full_mammogram = replace_path(full_mammogram, \"CBIS-DDSM/jpeg\", correct_dir)\n",
        "print('\\nFull mammo Images paths:')\n",
        "print(full_mammogram.iloc[0])"
      ],
      "metadata": {
        "execution": {
          "iopub.status.busy": "2025-01-27T15:27:10.720922Z",
          "iopub.execute_input": "2025-01-27T15:27:10.721242Z",
          "iopub.status.idle": "2025-01-27T15:27:10.731335Z",
          "shell.execute_reply.started": "2025-01-27T15:27:10.721212Z",
          "shell.execute_reply": "2025-01-27T15:27:10.730378Z"
        },
        "trusted": true,
        "id": "P1H4rVZyKa_0",
        "outputId": "6863fe69-2d69-42fc-8220-7b1868e14395",
        "colab": {
          "base_uri": "https://localhost:8080/",
          "height": 176
        }
      },
      "outputs": [
        {
          "output_type": "error",
          "ename": "NameError",
          "evalue": "name 'replace_path' is not defined",
          "traceback": [
            "\u001b[0;31m---------------------------------------------------------------------------\u001b[0m",
            "\u001b[0;31mNameError\u001b[0m                                 Traceback (most recent call last)",
            "\u001b[0;32m<ipython-input-1-8a4db625aec3>\u001b[0m in \u001b[0;36m<cell line: 0>\u001b[0;34m()\u001b[0m\n\u001b[0;32m----> 1\u001b[0;31m \u001b[0mfull_mammogram\u001b[0m \u001b[0;34m=\u001b[0m \u001b[0mreplace_path\u001b[0m\u001b[0;34m(\u001b[0m\u001b[0mfull_mammogram\u001b[0m\u001b[0;34m,\u001b[0m \u001b[0;34m\"CBIS-DDSM/jpeg\"\u001b[0m\u001b[0;34m,\u001b[0m \u001b[0mcorrect_dir\u001b[0m\u001b[0;34m)\u001b[0m\u001b[0;34m\u001b[0m\u001b[0;34m\u001b[0m\u001b[0m\n\u001b[0m\u001b[1;32m      2\u001b[0m \u001b[0mprint\u001b[0m\u001b[0;34m(\u001b[0m\u001b[0;34m'\\nFull mammo Images paths:'\u001b[0m\u001b[0;34m)\u001b[0m\u001b[0;34m\u001b[0m\u001b[0;34m\u001b[0m\u001b[0m\n\u001b[1;32m      3\u001b[0m \u001b[0mprint\u001b[0m\u001b[0;34m(\u001b[0m\u001b[0mfull_mammogram\u001b[0m\u001b[0;34m.\u001b[0m\u001b[0miloc\u001b[0m\u001b[0;34m[\u001b[0m\u001b[0;36m0\u001b[0m\u001b[0;34m]\u001b[0m\u001b[0;34m)\u001b[0m\u001b[0;34m\u001b[0m\u001b[0;34m\u001b[0m\u001b[0m\n",
            "\u001b[0;31mNameError\u001b[0m: name 'replace_path' is not defined"
          ]
        }
      ],
      "execution_count": 1
    },
    {
      "cell_type": "code",
      "source": [
        "plot_smaples(full_mammogram)"
      ],
      "metadata": {
        "execution": {
          "iopub.status.busy": "2025-01-27T15:27:10.732709Z",
          "iopub.execute_input": "2025-01-27T15:27:10.732999Z",
          "iopub.status.idle": "2025-01-27T15:27:14.601365Z",
          "shell.execute_reply.started": "2025-01-27T15:27:10.732972Z",
          "shell.execute_reply": "2025-01-27T15:27:14.600461Z"
        },
        "trusted": true,
        "id": "d9KHqlztKa_0"
      },
      "outputs": [],
      "execution_count": null
    },
    {
      "cell_type": "code",
      "source": [
        "roi_mask = replace_path(roi_mask, \"CBIS-DDSM/jpeg\", correct_dir)\n",
        "print('\\nROI Mask Images paths:')\n",
        "print(roi_mask.iloc[0])"
      ],
      "metadata": {
        "execution": {
          "iopub.status.busy": "2025-01-27T15:27:14.602393Z",
          "iopub.execute_input": "2025-01-27T15:27:14.60268Z",
          "iopub.status.idle": "2025-01-27T15:27:14.609983Z",
          "shell.execute_reply.started": "2025-01-27T15:27:14.602647Z",
          "shell.execute_reply": "2025-01-27T15:27:14.60923Z"
        },
        "trusted": true,
        "id": "1yxnQX2EKa_0"
      },
      "outputs": [],
      "execution_count": null
    },
    {
      "cell_type": "code",
      "source": [
        "plot_smaples(roi_mask)"
      ],
      "metadata": {
        "execution": {
          "iopub.status.busy": "2025-01-27T15:27:14.61143Z",
          "iopub.execute_input": "2025-01-27T15:27:14.611634Z",
          "iopub.status.idle": "2025-01-27T15:27:17.986682Z",
          "shell.execute_reply.started": "2025-01-27T15:27:14.611618Z",
          "shell.execute_reply": "2025-01-27T15:27:17.985786Z"
        },
        "trusted": true,
        "id": "Endr7DN1Ka_0"
      },
      "outputs": [],
      "execution_count": null
    },
    {
      "cell_type": "markdown",
      "source": [
        "> # organize image paths\n",
        "\n",
        ">> ---\n",
        "\n",
        ">> By get image file name"
      ],
      "metadata": {
        "id": "Np1L4gFkKa_1"
      }
    },
    {
      "cell_type": "code",
      "source": [
        "def get_image_file_name(data, new_dict):\n",
        "    \"\"\"\n",
        "    /kaggle\n",
        "    /input\n",
        "    /cbis-ddsm-breast-cancer-image-dataset\n",
        "    /jpeg\n",
        "    /1.3.6.1.4.1.9590.100.1.2.129308726812851964007517874181459556304 [5]\n",
        "    /1-172.jpg\n",
        "\n",
        "    return path at index [5] after split depends on split('\\')\n",
        "    \"\"\"\n",
        "    for dicom in data:\n",
        "        key = dicom.split('/')[4]\n",
        "#         print(key)\n",
        "        new_dict[key] = dicom\n",
        "    print(f\"the length of dataset ==> {len(new_dict.keys())}\")"
      ],
      "metadata": {
        "execution": {
          "iopub.status.busy": "2025-01-27T15:27:17.987752Z",
          "iopub.execute_input": "2025-01-27T15:27:17.988067Z",
          "iopub.status.idle": "2025-01-27T15:27:17.992519Z",
          "shell.execute_reply.started": "2025-01-27T15:27:17.988038Z",
          "shell.execute_reply": "2025-01-27T15:27:17.991739Z"
        },
        "trusted": true,
        "id": "eV4IPtuEKa_1"
      },
      "outputs": [],
      "execution_count": null
    },
    {
      "cell_type": "code",
      "source": [
        "cropped_images_dict = dict()\n",
        "full_mammo_dict = dict()\n",
        "roi_img_dict = dict()\n",
        "\n",
        "get_image_file_name(cropped_images, cropped_images_dict)\n",
        "get_image_file_name(full_mammogram, full_mammo_dict)\n",
        "get_image_file_name(roi_mask, roi_img_dict)"
      ],
      "metadata": {
        "execution": {
          "iopub.status.busy": "2025-01-27T15:27:17.993386Z",
          "iopub.execute_input": "2025-01-27T15:27:17.993631Z",
          "iopub.status.idle": "2025-01-27T15:27:18.035053Z",
          "shell.execute_reply.started": "2025-01-27T15:27:17.993612Z",
          "shell.execute_reply": "2025-01-27T15:27:18.034379Z"
        },
        "trusted": true,
        "id": "F8M1CBWhKa_1"
      },
      "outputs": [],
      "execution_count": null
    },
    {
      "cell_type": "markdown",
      "source": [
        "> ------\n",
        "\n",
        "> #### View keys"
      ],
      "metadata": {
        "id": "vkZLnsU6Ka_1"
      }
    },
    {
      "cell_type": "code",
      "source": [
        "next(iter((cropped_images.items())))"
      ],
      "metadata": {
        "execution": {
          "iopub.status.busy": "2025-01-27T15:27:23.878744Z",
          "iopub.execute_input": "2025-01-27T15:27:23.879031Z",
          "iopub.status.idle": "2025-01-27T15:27:23.884011Z",
          "shell.execute_reply.started": "2025-01-27T15:27:23.87901Z",
          "shell.execute_reply": "2025-01-27T15:27:23.883348Z"
        },
        "trusted": true,
        "id": "RjoCSTwJKa_1"
      },
      "outputs": [],
      "execution_count": null
    },
    {
      "cell_type": "code",
      "source": [
        "next(iter((cropped_images_dict.items())))\n",
        "print()\n",
        "print(len(cropped_images_dict.keys()))"
      ],
      "metadata": {
        "execution": {
          "iopub.status.busy": "2025-01-27T15:27:29.192336Z",
          "iopub.execute_input": "2025-01-27T15:27:29.192793Z",
          "iopub.status.idle": "2025-01-27T15:27:29.197772Z",
          "shell.execute_reply.started": "2025-01-27T15:27:29.192756Z",
          "shell.execute_reply": "2025-01-27T15:27:29.19671Z"
        },
        "trusted": true,
        "id": "o1FIFqbmKa_1"
      },
      "outputs": [],
      "execution_count": null
    },
    {
      "cell_type": "code",
      "source": [
        "next(iter((full_mammo_dict.items())))\n",
        "print()\n",
        "print(len(full_mammo_dict.keys()))"
      ],
      "metadata": {
        "execution": {
          "iopub.status.busy": "2025-01-27T15:27:29.477355Z",
          "iopub.execute_input": "2025-01-27T15:27:29.477641Z",
          "iopub.status.idle": "2025-01-27T15:27:29.482396Z",
          "shell.execute_reply.started": "2025-01-27T15:27:29.477621Z",
          "shell.execute_reply": "2025-01-27T15:27:29.481498Z"
        },
        "trusted": true,
        "id": "9chbA0SkKa_2"
      },
      "outputs": [],
      "execution_count": null
    },
    {
      "cell_type": "code",
      "source": [
        "next(iter((roi_img_dict.items())))\n",
        "print()\n",
        "print(len(roi_img_dict.keys()))"
      ],
      "metadata": {
        "execution": {
          "iopub.status.busy": "2025-01-27T15:27:29.867449Z",
          "iopub.execute_input": "2025-01-27T15:27:29.86777Z",
          "iopub.status.idle": "2025-01-27T15:27:29.872401Z",
          "shell.execute_reply.started": "2025-01-27T15:27:29.867744Z",
          "shell.execute_reply": "2025-01-27T15:27:29.871612Z"
        },
        "trusted": true,
        "id": "U35nl8N5Ka_2"
      },
      "outputs": [],
      "execution_count": null
    },
    {
      "cell_type": "code",
      "source": [
        "del cropped_images, full_mammogram, roi_mask;    gc.collect()"
      ],
      "metadata": {
        "execution": {
          "iopub.status.busy": "2025-01-27T15:27:31.877917Z",
          "iopub.execute_input": "2025-01-27T15:27:31.878251Z",
          "iopub.status.idle": "2025-01-27T15:27:32.089759Z",
          "shell.execute_reply.started": "2025-01-27T15:27:31.878224Z",
          "shell.execute_reply": "2025-01-27T15:27:32.089034Z"
        },
        "trusted": true,
        "id": "5ZWUbADFKa_2"
      },
      "outputs": [],
      "execution_count": null
    },
    {
      "cell_type": "markdown",
      "source": [
        "> ------\n",
        "\n",
        "> # fix image paths"
      ],
      "metadata": {
        "id": "Cx6vTdMMKa_2"
      }
    },
    {
      "cell_type": "code",
      "source": [
        "def fix_image_path(data):\n",
        "    \"\"\"Correct dicom paths to correct image paths.\"\"\"\n",
        "    for indx, image in enumerate(data.values):\n",
        "#         print(f\"Image Path: {image[11]}\")\n",
        "\n",
        "        img_name = image[11].split('/')[2]\n",
        "#         print(f\"Looking for key: {img_name}\")  # Debugging step\n",
        "\n",
        "        if img_name in full_mammo_dict:\n",
        "            data.iloc[indx, 11] = full_mammo_dict[img_name]\n",
        "        else:\n",
        "            data.iloc[indx, 11] = None\n",
        "#             print(f\"KeyError: '{img_name}' not found in full_mammo_dict\")  # Debugging step\n",
        "\n",
        "        img_name = image[12].split('/')[2]\n",
        "        if img_name in cropped_images_dict:\n",
        "            data.iloc[indx, 12] = cropped_images_dict[img_name]\n",
        "        else:\n",
        "            data.iloc[indx, 11] = None\n",
        "            # print(f\"KeyError: '{img_name}' not found in cropped_images_dict\")  # Debugging step\n",
        "\n",
        "        img_name = image[13].split('/')[2]\n",
        "        if img_name in roi_img_dict:\n",
        "            data.iloc[indx, 13] = roi_img_dict[img_name]\n",
        "\n",
        "        else:\n",
        "            data.iloc[indx, 13] = None"
      ],
      "metadata": {
        "execution": {
          "iopub.status.busy": "2025-01-27T15:27:32.287454Z",
          "iopub.execute_input": "2025-01-27T15:27:32.287732Z",
          "iopub.status.idle": "2025-01-27T15:27:32.292989Z",
          "shell.execute_reply.started": "2025-01-27T15:27:32.287713Z",
          "shell.execute_reply": "2025-01-27T15:27:32.292202Z"
        },
        "trusted": true,
        "id": "hacsgqLJKa_2"
      },
      "outputs": [],
      "execution_count": null
    },
    {
      "cell_type": "markdown",
      "source": [
        "> ------\n",
        "\n",
        "> # load the mass dataset"
      ],
      "metadata": {
        "id": "bUKtJjvpKa_2"
      }
    },
    {
      "cell_type": "code",
      "source": [
        "mass_train = pd.read_csv(\"/kaggle/input/cbis-ddsm-breast-cancer-image-dataset/csv/mass_case_description_train_set.csv\")\n",
        "mass_test  = pd.read_csv(\"/kaggle/input/cbis-ddsm-breast-cancer-image-dataset/csv/mass_case_description_test_set.csv\")"
      ],
      "metadata": {
        "execution": {
          "iopub.status.busy": "2025-01-27T15:27:32.712435Z",
          "iopub.execute_input": "2025-01-27T15:27:32.712719Z",
          "iopub.status.idle": "2025-01-27T15:27:32.776256Z",
          "shell.execute_reply.started": "2025-01-27T15:27:32.712699Z",
          "shell.execute_reply": "2025-01-27T15:27:32.775113Z"
        },
        "trusted": true,
        "id": "I5ygYPEBKa_2"
      },
      "outputs": [],
      "execution_count": null
    },
    {
      "cell_type": "code",
      "source": [
        "mass_train.head()"
      ],
      "metadata": {
        "execution": {
          "iopub.status.busy": "2025-01-27T15:27:35.382099Z",
          "iopub.execute_input": "2025-01-27T15:27:35.382429Z",
          "iopub.status.idle": "2025-01-27T15:27:35.395112Z",
          "shell.execute_reply.started": "2025-01-27T15:27:35.382406Z",
          "shell.execute_reply": "2025-01-27T15:27:35.394254Z"
        },
        "trusted": true,
        "id": "CoBG66a_Ka_2"
      },
      "outputs": [],
      "execution_count": null
    },
    {
      "cell_type": "code",
      "source": [
        "mass_train.iloc[:, 11].head()"
      ],
      "metadata": {
        "execution": {
          "iopub.status.busy": "2025-01-27T15:27:35.591987Z",
          "iopub.execute_input": "2025-01-27T15:27:35.592338Z",
          "iopub.status.idle": "2025-01-27T15:27:35.598508Z",
          "shell.execute_reply.started": "2025-01-27T15:27:35.59231Z",
          "shell.execute_reply": "2025-01-27T15:27:35.597771Z"
        },
        "trusted": true,
        "id": "fQ-C9e20Ka_2"
      },
      "outputs": [],
      "execution_count": null
    },
    {
      "cell_type": "markdown",
      "source": [
        "> ------\n",
        "\n",
        "> #### apply to datasets"
      ],
      "metadata": {
        "id": "pnFxvs7SKa_2"
      }
    },
    {
      "cell_type": "code",
      "source": [
        "fix_image_path(mass_train)"
      ],
      "metadata": {
        "execution": {
          "iopub.status.busy": "2025-01-27T15:27:37.792317Z",
          "iopub.execute_input": "2025-01-27T15:27:37.792615Z",
          "iopub.status.idle": "2025-01-27T15:27:38.38054Z",
          "shell.execute_reply.started": "2025-01-27T15:27:37.792593Z",
          "shell.execute_reply": "2025-01-27T15:27:38.379842Z"
        },
        "trusted": true,
        "id": "oxhtr_bdKa_3"
      },
      "outputs": [],
      "execution_count": null
    },
    {
      "cell_type": "markdown",
      "source": [
        "> ------\n",
        "\n",
        "> #### check unique values in pathology column"
      ],
      "metadata": {
        "id": "vMJ53VGDKa_3"
      }
    },
    {
      "cell_type": "code",
      "source": [
        "mass_train.info()"
      ],
      "metadata": {
        "execution": {
          "iopub.status.busy": "2025-01-27T15:27:38.381614Z",
          "iopub.execute_input": "2025-01-27T15:27:38.38191Z",
          "iopub.status.idle": "2025-01-27T15:27:38.390726Z",
          "shell.execute_reply.started": "2025-01-27T15:27:38.381883Z",
          "shell.execute_reply": "2025-01-27T15:27:38.389808Z"
        },
        "trusted": true,
        "id": "aWk_XrlaKa_3"
      },
      "outputs": [],
      "execution_count": null
    },
    {
      "cell_type": "markdown",
      "source": [
        "> ------\n",
        "\n",
        "> #### rename columns"
      ],
      "metadata": {
        "id": "MZNMRDNpKa_3"
      }
    },
    {
      "cell_type": "code",
      "source": [
        "mass_train = mass_train.rename(columns={'left or right breast': 'left_or_right_breast',\n",
        "                                        'image view': 'image_view',\n",
        "                                        'abnormality id': 'abnormality_id',\n",
        "                                        'abnormality type': 'abnormality_type',\n",
        "                                        'mass shape': 'mass_shape',\n",
        "                                        'mass margins': 'mass_margins',\n",
        "                                        'image file path': 'image_file_path',\n",
        "                                        'cropped image file path': 'cropped_image_file_path',\n",
        "                                        'ROI mask file path': 'ROI_mask_file_path'})\n",
        "mass_train.head(5)"
      ],
      "metadata": {
        "execution": {
          "iopub.status.busy": "2025-01-27T15:27:42.202486Z",
          "iopub.execute_input": "2025-01-27T15:27:42.202789Z",
          "iopub.status.idle": "2025-01-27T15:27:42.217127Z",
          "shell.execute_reply.started": "2025-01-27T15:27:42.202767Z",
          "shell.execute_reply": "2025-01-27T15:27:42.216341Z"
        },
        "trusted": true,
        "id": "sEERjlE-Ka_3"
      },
      "outputs": [],
      "execution_count": null
    },
    {
      "cell_type": "code",
      "source": [
        "mass_train.pathology.unique()"
      ],
      "metadata": {
        "execution": {
          "iopub.status.busy": "2025-01-27T15:27:42.251968Z",
          "iopub.execute_input": "2025-01-27T15:27:42.252246Z",
          "iopub.status.idle": "2025-01-27T15:27:42.257032Z",
          "shell.execute_reply.started": "2025-01-27T15:27:42.252223Z",
          "shell.execute_reply": "2025-01-27T15:27:42.256426Z"
        },
        "trusted": true,
        "id": "fdNODGF8Ka_3"
      },
      "outputs": [],
      "execution_count": null
    },
    {
      "cell_type": "markdown",
      "source": [
        "> ------\n",
        "\n",
        "> #### view mass_test"
      ],
      "metadata": {
        "id": "lTQ0brT6Ka_3"
      }
    },
    {
      "cell_type": "code",
      "source": [
        "mass_test.head()"
      ],
      "metadata": {
        "execution": {
          "iopub.status.busy": "2025-01-27T15:27:42.652198Z",
          "iopub.execute_input": "2025-01-27T15:27:42.652521Z",
          "iopub.status.idle": "2025-01-27T15:27:42.664224Z",
          "shell.execute_reply.started": "2025-01-27T15:27:42.652497Z",
          "shell.execute_reply": "2025-01-27T15:27:42.663425Z"
        },
        "trusted": true,
        "id": "5KpQnxTbKa_3"
      },
      "outputs": [],
      "execution_count": null
    },
    {
      "cell_type": "code",
      "source": [
        "mass_train.iloc[:, 11].head()"
      ],
      "metadata": {
        "execution": {
          "iopub.status.busy": "2025-01-27T15:27:42.791998Z",
          "iopub.execute_input": "2025-01-27T15:27:42.792297Z",
          "iopub.status.idle": "2025-01-27T15:27:42.797692Z",
          "shell.execute_reply.started": "2025-01-27T15:27:42.792274Z",
          "shell.execute_reply": "2025-01-27T15:27:42.797003Z"
        },
        "trusted": true,
        "id": "RKs_24ceKa_4"
      },
      "outputs": [],
      "execution_count": null
    },
    {
      "cell_type": "code",
      "source": [
        "fix_image_path(mass_test)"
      ],
      "metadata": {
        "execution": {
          "iopub.status.busy": "2025-01-27T15:27:42.942084Z",
          "iopub.execute_input": "2025-01-27T15:27:42.942429Z",
          "iopub.status.idle": "2025-01-27T15:27:43.147785Z",
          "shell.execute_reply.started": "2025-01-27T15:27:42.942402Z",
          "shell.execute_reply": "2025-01-27T15:27:43.147106Z"
        },
        "trusted": true,
        "id": "1mtJUi2AKa_4"
      },
      "outputs": [],
      "execution_count": null
    },
    {
      "cell_type": "markdown",
      "source": [
        "> ------\n",
        "\n",
        "> #### # rename columns"
      ],
      "metadata": {
        "id": "ovsStCxEKa_4"
      }
    },
    {
      "cell_type": "code",
      "source": [
        "mass_test = mass_test.rename(columns={'left or right breast': 'left_or_right_breast',\n",
        "                                      'image view': 'image_view',\n",
        "                                      'abnormality id': 'abnormality_id',\n",
        "                                      'abnormality type': 'abnormality_type',\n",
        "                                      'mass shape': 'mass_shape',\n",
        "                                      'mass margins': 'mass_margins',\n",
        "                                      'image file path': 'image_file_path',\n",
        "                                      'cropped image file path': 'cropped_image_file_path',\n",
        "                                      'ROI mask file path': 'ROI_mask_file_path'})\n",
        "# view renamed columns\n",
        "mass_test.head()"
      ],
      "metadata": {
        "execution": {
          "iopub.status.busy": "2025-01-27T15:27:49.857328Z",
          "iopub.execute_input": "2025-01-27T15:27:49.857616Z",
          "iopub.status.idle": "2025-01-27T15:27:49.870611Z",
          "shell.execute_reply.started": "2025-01-27T15:27:49.857595Z",
          "shell.execute_reply": "2025-01-27T15:27:49.86976Z"
        },
        "trusted": true,
        "id": "D9pVLr-9Ka_4"
      },
      "outputs": [],
      "execution_count": null
    },
    {
      "cell_type": "markdown",
      "source": [
        "> -------\n",
        "\n",
        "> #### check datasets shape"
      ],
      "metadata": {
        "id": "y_151YjKKa_4"
      }
    },
    {
      "cell_type": "code",
      "source": [
        "print(f'Shape of mass_train: {mass_train.shape}')\n",
        "print(f'Shape of mass_test: {mass_test.shape}')"
      ],
      "metadata": {
        "execution": {
          "iopub.status.busy": "2025-01-27T15:27:50.192092Z",
          "iopub.execute_input": "2025-01-27T15:27:50.192406Z",
          "iopub.status.idle": "2025-01-27T15:27:50.197063Z",
          "shell.execute_reply.started": "2025-01-27T15:27:50.192383Z",
          "shell.execute_reply": "2025-01-27T15:27:50.196219Z"
        },
        "trusted": true,
        "id": "jQMn2XQmKa_4"
      },
      "outputs": [],
      "execution_count": null
    },
    {
      "cell_type": "markdown",
      "source": [
        "> ------\n",
        "\n",
        "> # load the calc dataset"
      ],
      "metadata": {
        "id": "BoDY4u7xKa_4"
      }
    },
    {
      "cell_type": "code",
      "source": [
        "calc_train = pd.read_csv(\"/kaggle/input/cbis-ddsm-breast-cancer-image-dataset/csv/calc_case_description_train_set.csv\")\n",
        "calc_test  = pd.read_csv(\"/kaggle/input/cbis-ddsm-breast-cancer-image-dataset/csv/calc_case_description_test_set.csv\")"
      ],
      "metadata": {
        "execution": {
          "iopub.status.busy": "2025-01-27T15:27:59.682296Z",
          "iopub.execute_input": "2025-01-27T15:27:59.682582Z",
          "iopub.status.idle": "2025-01-27T15:27:59.754415Z",
          "shell.execute_reply.started": "2025-01-27T15:27:59.682561Z",
          "shell.execute_reply": "2025-01-27T15:27:59.753585Z"
        },
        "trusted": true,
        "id": "fRnPhrL6Ka_5"
      },
      "outputs": [],
      "execution_count": null
    },
    {
      "cell_type": "code",
      "source": [
        "calc_train.head()"
      ],
      "metadata": {
        "execution": {
          "iopub.status.busy": "2025-01-27T15:28:01.327153Z",
          "iopub.execute_input": "2025-01-27T15:28:01.327496Z",
          "iopub.status.idle": "2025-01-27T15:28:01.341612Z",
          "shell.execute_reply.started": "2025-01-27T15:28:01.327462Z",
          "shell.execute_reply": "2025-01-27T15:28:01.34074Z"
        },
        "trusted": true,
        "id": "cY1aTiz_Ka_5"
      },
      "outputs": [],
      "execution_count": null
    },
    {
      "cell_type": "code",
      "source": [
        "calc_train.iloc[:,11].head()"
      ],
      "metadata": {
        "execution": {
          "iopub.status.busy": "2025-01-27T15:28:01.522115Z",
          "iopub.execute_input": "2025-01-27T15:28:01.522418Z",
          "iopub.status.idle": "2025-01-27T15:28:01.528257Z",
          "shell.execute_reply.started": "2025-01-27T15:28:01.522396Z",
          "shell.execute_reply": "2025-01-27T15:28:01.527537Z"
        },
        "trusted": true,
        "id": "ZDSWOqwOKa_5"
      },
      "outputs": [],
      "execution_count": null
    },
    {
      "cell_type": "markdown",
      "source": [
        "> --------\n",
        "\n",
        "> #### Rename Columns"
      ],
      "metadata": {
        "id": "V4CEXEWHKa_5"
      }
    },
    {
      "cell_type": "code",
      "source": [
        "calc_train = calc_train.rename(columns={'left or right breast': 'left_or_right_breast',\n",
        "                                        'image view': 'image_view',\n",
        "                                        'abnormality id': 'abnormality_id',\n",
        "                                        'abnormality type': 'abnormality_type',\n",
        "                                        'mass shape': 'mass_shape',\n",
        "                                        'mass margins': 'mass_margins',\n",
        "                                        'image file path': 'image_file_path',\n",
        "                                        'cropped image file path': 'cropped_image_file_path',\n",
        "                                        'ROI mask file path': 'ROI_mask_file_path'})\n",
        "# view renamed columns\n",
        "calc_train.head()"
      ],
      "metadata": {
        "execution": {
          "iopub.status.busy": "2025-01-27T15:28:01.91225Z",
          "iopub.execute_input": "2025-01-27T15:28:01.912543Z",
          "iopub.status.idle": "2025-01-27T15:28:01.925887Z",
          "shell.execute_reply.started": "2025-01-27T15:28:01.912523Z",
          "shell.execute_reply": "2025-01-27T15:28:01.925087Z"
        },
        "trusted": true,
        "id": "OVZ_QFGUKa_5"
      },
      "outputs": [],
      "execution_count": null
    },
    {
      "cell_type": "code",
      "source": [
        "fix_image_path(calc_train)"
      ],
      "metadata": {
        "execution": {
          "iopub.status.busy": "2025-01-27T15:28:01.992197Z",
          "iopub.execute_input": "2025-01-27T15:28:01.992487Z",
          "iopub.status.idle": "2025-01-27T15:28:02.665811Z",
          "shell.execute_reply.started": "2025-01-27T15:28:01.992464Z",
          "shell.execute_reply": "2025-01-27T15:28:02.665134Z"
        },
        "trusted": true,
        "id": "cqXAwJy2Ka_5"
      },
      "outputs": [],
      "execution_count": null
    },
    {
      "cell_type": "code",
      "source": [
        "calc_test.head()"
      ],
      "metadata": {
        "execution": {
          "iopub.status.busy": "2025-01-27T15:28:02.666849Z",
          "iopub.execute_input": "2025-01-27T15:28:02.667055Z",
          "iopub.status.idle": "2025-01-27T15:28:02.678495Z",
          "shell.execute_reply.started": "2025-01-27T15:28:02.667038Z",
          "shell.execute_reply": "2025-01-27T15:28:02.677714Z"
        },
        "trusted": true,
        "id": "t-ne2OWTKa_5"
      },
      "outputs": [],
      "execution_count": null
    },
    {
      "cell_type": "code",
      "source": [
        "calc_test.iloc[:,11].head()"
      ],
      "metadata": {
        "execution": {
          "iopub.status.busy": "2025-01-27T15:28:02.679876Z",
          "iopub.execute_input": "2025-01-27T15:28:02.680072Z",
          "iopub.status.idle": "2025-01-27T15:28:02.695548Z",
          "shell.execute_reply.started": "2025-01-27T15:28:02.680055Z",
          "shell.execute_reply": "2025-01-27T15:28:02.694813Z"
        },
        "trusted": true,
        "id": "4sDJwmYcKa_5"
      },
      "outputs": [],
      "execution_count": null
    },
    {
      "cell_type": "markdown",
      "source": [
        "> --------\n",
        "\n",
        "> #### Rename Columns"
      ],
      "metadata": {
        "id": "go7qB35GKa_5"
      }
    },
    {
      "cell_type": "code",
      "source": [
        "calc_test = calc_test.rename(columns={'left or right breast': 'left_or_right_breast',\n",
        "                                      'image view': 'image_view',\n",
        "                                      'abnormality id': 'abnormality_id',\n",
        "                                      'abnormality type': 'abnormality_type',\n",
        "                                      'mass shape': 'mass_shape',\n",
        "                                      'mass margins': 'mass_margins',\n",
        "                                      'image file path': 'image_file_path',\n",
        "                                      'cropped image file path': 'cropped_image_file_path',\n",
        "                                      'ROI mask file path': 'ROI_mask_file_path'})\n",
        "# view renamed columns\n",
        "calc_test.head()"
      ],
      "metadata": {
        "execution": {
          "iopub.status.busy": "2025-01-27T15:28:06.817088Z",
          "iopub.execute_input": "2025-01-27T15:28:06.817426Z",
          "iopub.status.idle": "2025-01-27T15:28:06.830121Z",
          "shell.execute_reply.started": "2025-01-27T15:28:06.817401Z",
          "shell.execute_reply": "2025-01-27T15:28:06.829406Z"
        },
        "trusted": true,
        "id": "_Ba0El_OKa_5"
      },
      "outputs": [],
      "execution_count": null
    },
    {
      "cell_type": "code",
      "source": [
        "fix_image_path(calc_test)"
      ],
      "metadata": {
        "execution": {
          "iopub.status.busy": "2025-01-27T15:28:08.722467Z",
          "iopub.execute_input": "2025-01-27T15:28:08.722757Z",
          "iopub.status.idle": "2025-01-27T15:28:08.868441Z",
          "shell.execute_reply.started": "2025-01-27T15:28:08.722726Z",
          "shell.execute_reply": "2025-01-27T15:28:08.86765Z"
        },
        "trusted": true,
        "id": "ahR7GwCyKa_6"
      },
      "outputs": [],
      "execution_count": null
    },
    {
      "cell_type": "code",
      "source": [
        "print(f'Shape of mass_train: {calc_train.shape}')\n",
        "print(f'Shape of mass_test: {calc_test.shape}')"
      ],
      "metadata": {
        "execution": {
          "iopub.status.busy": "2025-01-27T15:28:08.952274Z",
          "iopub.execute_input": "2025-01-27T15:28:08.952627Z",
          "iopub.status.idle": "2025-01-27T15:28:08.957896Z",
          "shell.execute_reply.started": "2025-01-27T15:28:08.952597Z",
          "shell.execute_reply": "2025-01-27T15:28:08.957053Z"
        },
        "trusted": true,
        "id": "jvo5qFcvKa_6"
      },
      "outputs": [],
      "execution_count": null
    },
    {
      "cell_type": "markdown",
      "source": [
        "> ------\n",
        "\n",
        "> ## Show Images From All DataSets"
      ],
      "metadata": {
        "id": "mpnmH-0CKa_6"
      }
    },
    {
      "cell_type": "markdown",
      "source": [
        "> ------\n",
        "\n",
        "> #### create function to display images"
      ],
      "metadata": {
        "id": "8DUYTh-tKa_6"
      }
    },
    {
      "cell_type": "code",
      "source": [
        "import matplotlib.pyplot as plt\n",
        "import cv2\n",
        "import os\n",
        "import numpy as np\n",
        "\n",
        "def display_images(dataset, column, number):\n",
        "    \"\"\"Displays images in dataset, handling missing files and converting formats.\"\"\"\n",
        "\n",
        "    # create figure and axes\n",
        "    fig, axes = plt.subplots(1, number, figsize=(15, 5))\n",
        "\n",
        "    # Loop through rows and display images\n",
        "    for index, (i, row) in enumerate(dataset.head(number).iterrows()):\n",
        "        image_path = row[column]\n",
        "\n",
        "       # Check if image_path is valid (not None) and exists\n",
        "        if image_path is None or not os.path.exists(image_path):\n",
        "            # print(f\"File not found or invalid path: {image_path}\")\n",
        "            continue\n",
        "\n",
        "        image = cv2.imread(image_path)\n",
        "\n",
        "        # Handle case when image can't be read\n",
        "        if image is None:\n",
        "            # print(f\"Error reading image: {image_path}\")\n",
        "            continue\n",
        "\n",
        "        # Convert BGR to RGB if needed (for correct color display)\n",
        "        if len(image.shape) == 3 and image.shape[2] == 3:\n",
        "            image = cv2.cvtColor(image, cv2.COLOR_BGR2RGB)\n",
        "\n",
        "        ax = axes[index]\n",
        "        ax.imshow(image, cmap='gray' if len(image.shape) == 2 else None)\n",
        "        ax.set_title(f\"{row['pathology']}\")\n",
        "        ax.axis('off')\n",
        "        print(np.array(image).shape)\n",
        "\n",
        "    plt.tight_layout()\n",
        "    plt.show()"
      ],
      "metadata": {
        "execution": {
          "iopub.status.busy": "2025-01-27T15:28:09.552314Z",
          "iopub.execute_input": "2025-01-27T15:28:09.552613Z",
          "iopub.status.idle": "2025-01-27T15:28:09.558957Z",
          "shell.execute_reply.started": "2025-01-27T15:28:09.552591Z",
          "shell.execute_reply": "2025-01-27T15:28:09.558058Z"
        },
        "trusted": true,
        "id": "Nq-sabhqKa_6"
      },
      "outputs": [],
      "execution_count": null
    },
    {
      "cell_type": "markdown",
      "source": [
        "> ------\n",
        "\n",
        "> ### Mass_Train"
      ],
      "metadata": {
        "id": "XuZmYM2MKa_6"
      }
    },
    {
      "cell_type": "code",
      "source": [
        "print('Full Mammograms:\\n')\n",
        "display_images(mass_train, 'image_file_path', 5)\n",
        "print('Cropped Mammograms:\\n')\n",
        "display_images(mass_train, 'cropped_image_file_path', 5)\n",
        "print('ROI_mask:\\n')\n",
        "display_images(mass_train, 'ROI_mask_file_path', 5)"
      ],
      "metadata": {
        "execution": {
          "iopub.status.busy": "2025-01-27T15:28:14.742278Z",
          "iopub.execute_input": "2025-01-27T15:28:14.742592Z",
          "iopub.status.idle": "2025-01-27T15:28:32.270016Z",
          "shell.execute_reply.started": "2025-01-27T15:28:14.742568Z",
          "shell.execute_reply": "2025-01-27T15:28:32.269186Z"
        },
        "trusted": true,
        "id": "nlOiI_I3Ka_6"
      },
      "outputs": [],
      "execution_count": null
    },
    {
      "cell_type": "markdown",
      "source": [
        "> ------\n",
        "\n",
        "> ### Mass_Test"
      ],
      "metadata": {
        "id": "ZC8eZLWiKa_7"
      }
    },
    {
      "cell_type": "code",
      "source": [
        "print('Full Mammograms:\\n')\n",
        "display_images(mass_test, 'image_file_path', 5)\n",
        "print('Cropped Mammograms:\\n')\n",
        "display_images(mass_test, 'cropped_image_file_path', 5)\n",
        "print('ROI_mask:\\n')\n",
        "display_images(mass_test, 'ROI_mask_file_path', 5)"
      ],
      "metadata": {
        "execution": {
          "iopub.status.busy": "2025-01-27T15:28:32.271194Z",
          "iopub.execute_input": "2025-01-27T15:28:32.27152Z",
          "iopub.status.idle": "2025-01-27T15:28:48.84482Z",
          "shell.execute_reply.started": "2025-01-27T15:28:32.271489Z",
          "shell.execute_reply": "2025-01-27T15:28:48.843982Z"
        },
        "trusted": true,
        "id": "qurEIlihKa_7"
      },
      "outputs": [],
      "execution_count": null
    },
    {
      "cell_type": "markdown",
      "source": [
        "> ------\n",
        "\n",
        "> ### Calc_Train"
      ],
      "metadata": {
        "id": "kP-eU6LDKa_7"
      }
    },
    {
      "cell_type": "code",
      "source": [
        "print('Full Mammograms:\\n')\n",
        "display_images(calc_train, 'image_file_path', 5)\n",
        "print('Cropped Mammograms:\\n')\n",
        "display_images(calc_train, 'cropped_image_file_path', 5)\n",
        "print('ROI_mask:\\n')\n",
        "display_images(calc_train, 'ROI_mask_file_path', 5)"
      ],
      "metadata": {
        "execution": {
          "iopub.status.busy": "2025-01-27T15:28:48.846394Z",
          "iopub.execute_input": "2025-01-27T15:28:48.846704Z",
          "iopub.status.idle": "2025-01-27T15:29:06.421106Z",
          "shell.execute_reply.started": "2025-01-27T15:28:48.846679Z",
          "shell.execute_reply": "2025-01-27T15:29:06.420223Z"
        },
        "trusted": true,
        "id": "TIfZ6RwjKa_7"
      },
      "outputs": [],
      "execution_count": null
    },
    {
      "cell_type": "markdown",
      "source": [
        "> ------\n",
        "\n",
        "> ### Calc_Test"
      ],
      "metadata": {
        "id": "fZVFlNEBKa_7"
      }
    },
    {
      "cell_type": "code",
      "source": [
        "print('Full Mammograms:\\n')\n",
        "display_images(calc_test, 'image_file_path', 5)\n",
        "print('Cropped Mammograms:\\n')\n",
        "display_images(calc_test, 'cropped_image_file_path', 5)\n",
        "print('ROI_mask:\\n')\n",
        "display_images(calc_test, 'ROI_mask_file_path', 5)"
      ],
      "metadata": {
        "execution": {
          "iopub.status.busy": "2025-01-27T15:29:06.422075Z",
          "iopub.execute_input": "2025-01-27T15:29:06.422359Z",
          "iopub.status.idle": "2025-01-27T15:29:08.395203Z",
          "shell.execute_reply.started": "2025-01-27T15:29:06.422337Z",
          "shell.execute_reply": "2025-01-27T15:29:08.394483Z"
        },
        "trusted": true,
        "id": "m0BM9PuHKa_8"
      },
      "outputs": [],
      "execution_count": null
    },
    {
      "cell_type": "markdown",
      "source": [
        "# 5- Data Preprocessing"
      ],
      "metadata": {
        "id": "ce3xdUX7Ka_8"
      }
    },
    {
      "cell_type": "markdown",
      "source": [
        "> ------\n",
        "\n",
        "> ## Merge datasets"
      ],
      "metadata": {
        "id": "1-EtfTdhKa_8"
      }
    },
    {
      "cell_type": "code",
      "source": [
        "# full_dataset = pd.concat([mass_train, mass_test, calc_train, calc_test], axis=0)\n",
        "# full_dataset = pd.concat([mass_train, mass_test], axis=0)\n",
        "full_dataset = pd.concat([calc_train, calc_test], axis=0)"
      ],
      "metadata": {
        "execution": {
          "iopub.status.busy": "2025-01-27T15:29:15.622145Z",
          "iopub.execute_input": "2025-01-27T15:29:15.622492Z",
          "iopub.status.idle": "2025-01-27T15:29:15.628107Z",
          "shell.execute_reply.started": "2025-01-27T15:29:15.622467Z",
          "shell.execute_reply": "2025-01-27T15:29:15.627273Z"
        },
        "trusted": true,
        "id": "0GDQQft0Ka_8"
      },
      "outputs": [],
      "execution_count": null
    },
    {
      "cell_type": "code",
      "source": [
        "del mass_train, mass_test, calc_train, calc_test;    gc.collect()"
      ],
      "metadata": {
        "execution": {
          "iopub.status.busy": "2025-01-27T15:29:15.802229Z",
          "iopub.execute_input": "2025-01-27T15:29:15.802515Z",
          "iopub.status.idle": "2025-01-27T15:29:16.012885Z",
          "shell.execute_reply.started": "2025-01-27T15:29:15.802494Z",
          "shell.execute_reply": "2025-01-27T15:29:16.012032Z"
        },
        "trusted": true,
        "id": "bcxJiBaTKa_8"
      },
      "outputs": [],
      "execution_count": null
    },
    {
      "cell_type": "markdown",
      "source": [
        "> ------\n",
        "\n",
        "> ## Show Images size"
      ],
      "metadata": {
        "id": "JX6-4qYRKa_8"
      }
    },
    {
      "cell_type": "code",
      "source": [
        "# from tqdm import tqdm  # Progress bar\n",
        "\n",
        "# def show_shape(dataset, path):\n",
        "#     \"\"\"Show Images Shapes\"\"\"\n",
        "#     shapes = []\n",
        "\n",
        "#     paths = np.array(dataset[path])\n",
        "\n",
        "#     # Use tqdm to track progress\n",
        "#     for file_path in tqdm(paths, total=len(paths)):\n",
        "#         # Check if the file != None\n",
        "#         if file_path:\n",
        "#             # Read the images\n",
        "#             image = cv2.imread(file_path)\n",
        "#             shapes.append(image.shape)\n",
        "#         else:\n",
        "#             pass\n",
        "\n",
        "#     return shapes"
      ],
      "metadata": {
        "jupyter": {
          "source_hidden": true
        },
        "execution": {
          "iopub.status.busy": "2025-01-27T15:29:17.892195Z",
          "iopub.execute_input": "2025-01-27T15:29:17.89251Z",
          "iopub.status.idle": "2025-01-27T15:29:17.895952Z",
          "shell.execute_reply.started": "2025-01-27T15:29:17.892486Z",
          "shell.execute_reply": "2025-01-27T15:29:17.895102Z"
        },
        "trusted": true,
        "id": "KmPO8ZyjKa_8"
      },
      "outputs": [],
      "execution_count": null
    },
    {
      "cell_type": "markdown",
      "source": [
        "> -----\n",
        "\n",
        "> ### For Full_Mammograms"
      ],
      "metadata": {
        "id": "UXSqqf76Ka_8"
      }
    },
    {
      "cell_type": "code",
      "source": [
        "# full_mammograms_images = show_shape(full_dataset, 'image_file_path')\n",
        "# cropped_images         = show_shape(full_dataset, 'cropped_image_file_path')"
      ],
      "metadata": {
        "jupyter": {
          "source_hidden": true
        },
        "execution": {
          "iopub.status.busy": "2025-01-27T15:29:18.242098Z",
          "iopub.execute_input": "2025-01-27T15:29:18.24245Z",
          "iopub.status.idle": "2025-01-27T15:29:18.245599Z",
          "shell.execute_reply.started": "2025-01-27T15:29:18.242424Z",
          "shell.execute_reply": "2025-01-27T15:29:18.244751Z"
        },
        "trusted": true,
        "id": "56z_NF2EKa_8"
      },
      "outputs": [],
      "execution_count": null
    },
    {
      "cell_type": "code",
      "source": [
        "# print(\"Full_mammogram_images:\")\n",
        "# print(min(full_mammograms_images))\n",
        "# print(max(full_mammograms_images))\n",
        "# print()\n",
        "# print(\"Cropped_images:\")\n",
        "# print(min(cropped_images))\n",
        "# print(max(cropped_images))"
      ],
      "metadata": {
        "jupyter": {
          "source_hidden": true
        },
        "execution": {
          "iopub.status.busy": "2025-01-27T15:29:18.392248Z",
          "iopub.execute_input": "2025-01-27T15:29:18.392543Z",
          "iopub.status.idle": "2025-01-27T15:29:18.395823Z",
          "shell.execute_reply.started": "2025-01-27T15:29:18.392521Z",
          "shell.execute_reply": "2025-01-27T15:29:18.394975Z"
        },
        "trusted": true,
        "id": "fdNZ6hQXKa_9"
      },
      "outputs": [],
      "execution_count": null
    },
    {
      "cell_type": "markdown",
      "source": [
        "* > ## Create a binary mapper"
      ],
      "metadata": {
        "id": "dwG43zTTKa_9"
      }
    },
    {
      "cell_type": "code",
      "source": [
        "class_mapper = {'MALIGNANT': 1, 'BENIGN': 0, 'BENIGN_WITHOUT_CALLBACK': 0}"
      ],
      "metadata": {
        "execution": {
          "iopub.status.busy": "2025-01-27T15:29:20.459304Z",
          "iopub.execute_input": "2025-01-27T15:29:20.459626Z",
          "iopub.status.idle": "2025-01-27T15:29:20.46336Z",
          "shell.execute_reply.started": "2025-01-27T15:29:20.459604Z",
          "shell.execute_reply": "2025-01-27T15:29:20.462537Z"
        },
        "trusted": true,
        "id": "qRcUbF2fKa_9"
      },
      "outputs": [],
      "execution_count": null
    },
    {
      "cell_type": "markdown",
      "source": [
        "> ## Define the target size"
      ],
      "metadata": {
        "id": "SspI0WQkKa_9"
      }
    },
    {
      "cell_type": "code",
      "source": [
        "target_size = (224, 224, 3)"
      ],
      "metadata": {
        "execution": {
          "iopub.status.busy": "2025-01-27T15:29:27.442304Z",
          "iopub.execute_input": "2025-01-27T15:29:27.442585Z",
          "iopub.status.idle": "2025-01-27T15:29:27.446241Z",
          "shell.execute_reply.started": "2025-01-27T15:29:27.442565Z",
          "shell.execute_reply": "2025-01-27T15:29:27.445256Z"
        },
        "trusted": true,
        "id": "Cs8hNEWNKa_9"
      },
      "outputs": [],
      "execution_count": null
    },
    {
      "cell_type": "code",
      "source": [
        "# Apply class mapper to pathology column\n",
        "full_dataset['labels'] = full_dataset['pathology'].replace(class_mapper).infer_objects(copy=False)\n",
        "\n",
        "full_images = np.array(full_dataset[full_dataset[\"image_file_path\"].notna()][\"image_file_path\"].tolist())\n",
        "full_labels = np.array(full_dataset[full_dataset[\"image_file_path\"].notna()][\"labels\"].tolist())"
      ],
      "metadata": {
        "execution": {
          "iopub.status.busy": "2025-01-27T15:29:27.602063Z",
          "iopub.execute_input": "2025-01-27T15:29:27.60236Z",
          "iopub.status.idle": "2025-01-27T15:29:27.613473Z",
          "shell.execute_reply.started": "2025-01-27T15:29:27.602335Z",
          "shell.execute_reply": "2025-01-27T15:29:27.612666Z"
        },
        "trusted": true,
        "id": "LyjMNo9HKa_9"
      },
      "outputs": [],
      "execution_count": null
    },
    {
      "cell_type": "code",
      "source": [
        "len(full_images)"
      ],
      "metadata": {
        "execution": {
          "iopub.status.busy": "2025-01-27T15:29:29.032203Z",
          "iopub.execute_input": "2025-01-27T15:29:29.032488Z",
          "iopub.status.idle": "2025-01-27T15:29:29.037426Z",
          "shell.execute_reply.started": "2025-01-27T15:29:29.032462Z",
          "shell.execute_reply": "2025-01-27T15:29:29.036674Z"
        },
        "trusted": true,
        "id": "NQBWau_yKa_9"
      },
      "outputs": [],
      "execution_count": null
    },
    {
      "cell_type": "code",
      "source": [
        "# If full_labels is a NumPy array, convert it to a Pandas series\n",
        "full_labels_series = pd.Series(full_labels)\n",
        "\n",
        "# Count the occurrences of each class\n",
        "label_counts = full_labels_series.value_counts()\n",
        "\n",
        "# Assuming 0 = benign and 1 = malignant\n",
        "benign_count = label_counts.get(0, 0)\n",
        "malignant_count = label_counts.get(1, 0)\n",
        "\n",
        "print(f\"Benign images: {benign_count}\")\n",
        "print(f\"Malignant images: {malignant_count}\")"
      ],
      "metadata": {
        "execution": {
          "iopub.status.busy": "2025-01-27T15:29:29.237318Z",
          "iopub.execute_input": "2025-01-27T15:29:29.2376Z",
          "iopub.status.idle": "2025-01-27T15:29:29.245315Z",
          "shell.execute_reply.started": "2025-01-27T15:29:29.237579Z",
          "shell.execute_reply": "2025-01-27T15:29:29.244461Z"
        },
        "trusted": true,
        "id": "8ln__vyoKa_9"
      },
      "outputs": [],
      "execution_count": null
    },
    {
      "cell_type": "markdown",
      "source": [
        "* > ## Check the number of classes"
      ],
      "metadata": {
        "id": "8gRDoP7UKa_9"
      }
    },
    {
      "cell_type": "code",
      "source": [
        "num_classes = len(full_dataset['labels'].unique())\n",
        "num_classes"
      ],
      "metadata": {
        "execution": {
          "iopub.status.busy": "2025-01-27T15:29:29.757569Z",
          "iopub.execute_input": "2025-01-27T15:29:29.757884Z",
          "iopub.status.idle": "2025-01-27T15:29:29.763899Z",
          "shell.execute_reply.started": "2025-01-27T15:29:29.757857Z",
          "shell.execute_reply": "2025-01-27T15:29:29.763251Z"
        },
        "trusted": true,
        "id": "1bilaD1uKa_9"
      },
      "outputs": [],
      "execution_count": null
    },
    {
      "cell_type": "code",
      "source": [
        "class_names = ['Benign', 'Malignant']"
      ],
      "metadata": {
        "execution": {
          "iopub.status.busy": "2025-01-27T15:29:31.983293Z",
          "iopub.execute_input": "2025-01-27T15:29:31.983578Z",
          "iopub.status.idle": "2025-01-27T15:29:31.987158Z",
          "shell.execute_reply.started": "2025-01-27T15:29:31.983558Z",
          "shell.execute_reply": "2025-01-27T15:29:31.986356Z"
        },
        "trusted": true,
        "id": "5B5uK1lXKa_9"
      },
      "outputs": [],
      "execution_count": null
    },
    {
      "cell_type": "code",
      "source": [
        "# # Check the distribution of labels\n",
        "# label_counts = full_dataset['labels'].value_counts()\n",
        "# print(label_counts)"
      ],
      "metadata": {
        "execution": {
          "iopub.status.busy": "2025-01-27T15:29:33.552276Z",
          "iopub.execute_input": "2025-01-27T15:29:33.55259Z",
          "iopub.status.idle": "2025-01-27T15:29:33.555615Z",
          "shell.execute_reply.started": "2025-01-27T15:29:33.552563Z",
          "shell.execute_reply": "2025-01-27T15:29:33.554853Z"
        },
        "trusted": true,
        "id": "jJ3dKUlMKa_9"
      },
      "outputs": [],
      "execution_count": null
    },
    {
      "cell_type": "code",
      "source": [
        "# Remove a single file\n",
        "# file_path = '/kaggle/working/CBIS-DDSM-BCID-and-BCD.zip'\n",
        "# if os.path.exists(file_path):\n",
        "#     os.remove(file_path)\n",
        "#     print(f\"Removed file: {file_path}\")\n",
        "# else:\n",
        "#     pass\n",
        "#     print(f\"File does not exist: {file_path}\")\n",
        "\n",
        "# Remove a directory and its contents\n",
        "# dir_path = '/kaggle/working/'\n",
        "# if os.path.exists(dir_path):\n",
        "#     shutil.rmtree(dir_path)\n",
        "#     print(f\"Removed directory: {dir_path}\")\n",
        "# else:\n",
        "#     pass\n",
        "#     print(f\"Directory does not exist: {dir_path}\")\n",
        "\n",
        "# Path to the working directory\n",
        "dir_path = '/kaggle/working/'\n",
        "\n",
        "# # Loop through all files and subdirectories in the working directory\n",
        "for filename in os.listdir(dir_path):\n",
        "    file_path = os.path.join(dir_path, filename)\n",
        "    try:\n",
        "        if os.path.isfile(file_path) or os.path.islink(file_path):\n",
        "            os.unlink(file_path)  # Remove the file or symbolic link\n",
        "        elif os.path.isdir(file_path):\n",
        "            shutil.rmtree(file_path)  # Remove the directory and its contents\n",
        "    except Exception as e:\n",
        "        print(f'Failed to delete {file_path}. Reason: {e}')\n",
        "\n",
        "print(\"All files and subdirectories in '/kaggle/working/' have been removed.\")\n"
      ],
      "metadata": {
        "execution": {
          "iopub.status.busy": "2025-01-27T15:29:33.787221Z",
          "iopub.execute_input": "2025-01-27T15:29:33.787524Z",
          "iopub.status.idle": "2025-01-27T15:29:34.336125Z",
          "shell.execute_reply.started": "2025-01-27T15:29:33.787502Z",
          "shell.execute_reply": "2025-01-27T15:29:34.335412Z"
        },
        "trusted": true,
        "id": "OxJJ8PTrKa_9"
      },
      "outputs": [],
      "execution_count": null
    },
    {
      "cell_type": "code",
      "source": [
        "def images_count():\n",
        "    zero_class_count = len(os.listdir(\"/kaggle/working/merged_images/0\"))\n",
        "    one_class_count  = len(os.listdir(\"/kaggle/working/merged_images/1\"))\n",
        "\n",
        "    print(f\"Number of images in class 0: {zero_class_count}\")\n",
        "    print(f\"Number of images in class 1: {one_class_count}\")"
      ],
      "metadata": {
        "trusted": true,
        "execution": {
          "iopub.status.busy": "2025-01-27T15:29:34.337259Z",
          "iopub.execute_input": "2025-01-27T15:29:34.337562Z",
          "iopub.status.idle": "2025-01-27T15:29:34.341564Z",
          "shell.execute_reply.started": "2025-01-27T15:29:34.337533Z",
          "shell.execute_reply": "2025-01-27T15:29:34.340636Z"
        },
        "id": "YoO0xu3_Ka_-"
      },
      "outputs": [],
      "execution_count": null
    },
    {
      "cell_type": "code",
      "source": [
        "# Define a function for data augmentation\n",
        "def augment_image(image):\n",
        "    # Apply data augmentation using tf.image functions\n",
        "    image = tf.image.random_flip_left_right(image)\n",
        "#     image = tf.image.random_flip_up_down(image)\n",
        "    image = tf.image.random_brightness(image, max_delta=0.3)\n",
        "    image = tf.image.random_contrast(image, lower=0.8, upper=1.2)\n",
        "    image = tf.image.random_saturation(image, lower=0.8, upper=1.2)\n",
        "    return image\n",
        "\n",
        "# Function to resize image to (224, 224, 3)\n",
        "def resize_image(image_tensor):\n",
        "    return tf.image.resize(image_tensor, [224, 224])\n",
        "\n",
        "# Function to balance classes by augmenting images\n",
        "def copy_images_with_unique_filenames(images, labels, source, destination, target_count=None):\n",
        "    \"\"\"\n",
        "    Copy images from source to destination in subfolders '0' and '1',\n",
        "    ensuring unique filenames and applying data augmentation and balancing.\n",
        "    \"\"\"\n",
        "    benign_images = 0\n",
        "    malignant_images = 0\n",
        "    skipped_images = []\n",
        "\n",
        "    # Create the destination subfolders '0' and '1'\n",
        "    category_dest_dir_zero = os.path.join(destination, '0')\n",
        "    os.makedirs(category_dest_dir_zero, exist_ok=True)\n",
        "\n",
        "    category_dest_dir_one = os.path.join(destination, '1')\n",
        "    os.makedirs(category_dest_dir_one, exist_ok=True)\n",
        "\n",
        "    benign_images_list = []\n",
        "    malignant_images_list = []\n",
        "\n",
        "    for i, (image, label) in enumerate(zip(images, labels)):\n",
        "#         img_name = data_frame.REFNUM[i]\n",
        "#         abs_path = os.path.join(source, img_name + '.pgm')\n",
        "\n",
        "        if os.path.exists(image):\n",
        "            try:\n",
        "                # Generate a unique filename\n",
        "                filename = os.path.basename(image)\n",
        "                unique_filename = f\"{uuid.uuid4().hex}_{filename}\"\n",
        "\n",
        "                # Open the image using PIL\n",
        "                with Image.open(image) as img:\n",
        "                    # Convert the image to RGB mode (for saving as JPEG)\n",
        "                    img = img.convert('RGB')\n",
        "                    # Augment the image (convert it to a Tensor first)\n",
        "                    img_tensor = tf.convert_to_tensor(img)\n",
        "                    # Resize the image to (224, 224, 3)\n",
        "                    resized_img_tensor = resize_image(img_tensor)\n",
        "                    augmented_image_tensor = augment_image(resized_img_tensor)\n",
        "                    # Convert Tensor back to PIL image for saving\n",
        "                    augmented_image = tf.keras.preprocessing.image.array_to_img(augmented_image_tensor)\n",
        "\n",
        "                    if label == 0:\n",
        "                        benign_images_list.append(unique_filename)\n",
        "                        dest_path = os.path.join(category_dest_dir_zero, unique_filename)\n",
        "#                         augmented_image.save(dest_path, 'JPEG')\n",
        "                        augmented_image.save(dest_path, 'JPEG')\n",
        "                        benign_images += 1\n",
        "\n",
        "                    elif label == 1:\n",
        "                        malignant_images_list.append(unique_filename)\n",
        "                        dest_path = os.path.join(category_dest_dir_one, unique_filename)\n",
        "#                         augmented_image.save(dest_path, 'JPEG')\n",
        "                        augmented_image.save(dest_path, 'JPEG')\n",
        "                        malignant_images += 1\n",
        "\n",
        "#                 del img, img_tensor, resized_img_tensor, augmented_image_tensor, augmented_image\n",
        "#                 gc.collect()\n",
        "            except Exception as e:\n",
        "                print(f\"Error copying image {image}: {e}\")\n",
        "                skipped_images.append(image)\n",
        "        else:\n",
        "            print(f\"Image not found: {image}\")\n",
        "            skipped_images.append(image)\n",
        "\n",
        "    # If balancing is needed, duplicate/augment images from the smaller class\n",
        "    benign_count = len(benign_images_list)\n",
        "    malignant_count = len(malignant_images_list)\n",
        "\n",
        "    if benign_count < malignant_count:\n",
        "#         augment_and_save_images(benign_images_list, category_dest_dir_zero, target_count - benign_count)\n",
        "        augment_and_save_images(benign_images_list, category_dest_dir_zero, malignant_count - benign_count)\n",
        "\n",
        "    elif malignant_count < benign_count:\n",
        "        augment_and_save_images(malignant_images_list, category_dest_dir_one, benign_count - malignant_count)\n",
        "    print(\"data balancing\")\n",
        "    images_count()\n",
        "    augment_and_save_images(benign_images_list, category_dest_dir_zero, target_count)\n",
        "    augment_and_save_images(malignant_images_list, category_dest_dir_one, target_count)\n",
        "    print(\"data augmentation\")\n",
        "    images_count()\n",
        "\n",
        "    print(f\"\\nCopying complete.\")\n",
        "    print(f\"Benign images copied (label 0): {benign_images}\")\n",
        "    print(f\"Benign count (label 0): {benign_count}\")\n",
        "    print(f\"Malignant images copied (label 1): {malignant_images}\")\n",
        "    print(f\"Malignant count (label 1): {malignant_count}\")\n",
        "    print(f\"Total skipped images: {len(skipped_images)}\")\n",
        "    if skipped_images:\n",
        "        print(\"Skipped images:\")\n",
        "        for img in skipped_images:\n",
        "            print(img)\n",
        "\n",
        "    del skipped_images, benign_images_list, malignant_images_list\n",
        "    gc.collect()\n",
        "\n",
        "# Function to augment and save images to balance the dataset\n",
        "def augment_and_save_images(images_list, destination_dir, num_augments):\n",
        "    \"\"\"\n",
        "    Augment and save images to balance the dataset.\n",
        "    \"\"\"\n",
        "    for i in range(num_augments):\n",
        "        img_name = random.choice(images_list)\n",
        "        abs_path = os.path.join(destination_dir, img_name)\n",
        "\n",
        "        try:\n",
        "            with Image.open(abs_path) as img:\n",
        "                img = img.convert('RGB')\n",
        "                # Augment the image\n",
        "                img_tensor = tf.convert_to_tensor(img)\n",
        "                # Resize the image\n",
        "#                 resized_img_tensor = resize_image(img_tensor)\n",
        "                augmented_image_tensor = augment_image(img_tensor)\n",
        "                # Convert Tensor back to PIL image for saving\n",
        "                augmented_image = tf.keras.preprocessing.image.array_to_img(augmented_image_tensor)\n",
        "                # Remove the original extension from img_name 1-285.jpg --> 1-285\n",
        "                img_name_without_ext = os.path.splitext(img_name)[0]\n",
        "                # Save augmented image with a unique name\n",
        "                augmented_image.save(os.path.join(destination_dir, img_name_without_ext + f'_aug{i}.jpg'), 'JPEG')\n",
        "\n",
        "#                 del img, img_tensor, augmented_image_tensor, augmented_image, img_name_without_ext\n",
        "#                 gc.collect()\n",
        "        except Exception as e:\n",
        "            print(f\"Error augmenting image {abs_path}: {e}\")\n",
        "\n",
        "# Example usage\n",
        "source_dir = \"/kaggle/input/mias-mammography/all-mias\"\n",
        "destination_dir = \"/kaggle/working/merged_images\"\n",
        "\n",
        "# target_count=0 meaning no Augmentation, There's just Data-Balance\n",
        "target_count = int((len(full_labels) * 5) // 2)\n",
        "copy_images_with_unique_filenames(full_images, full_labels, source_dir, destination_dir, target_count)"
      ],
      "metadata": {
        "execution": {
          "iopub.status.busy": "2025-01-27T15:29:35.587701Z",
          "iopub.execute_input": "2025-01-27T15:29:35.58799Z",
          "iopub.status.idle": "2025-01-27T15:38:31.071926Z",
          "shell.execute_reply.started": "2025-01-27T15:29:35.587968Z",
          "shell.execute_reply": "2025-01-27T15:38:31.071091Z"
        },
        "trusted": true,
        "id": "92UDYzqKKa_-"
      },
      "outputs": [],
      "execution_count": null
    },
    {
      "cell_type": "code",
      "source": [
        "target_count"
      ],
      "metadata": {
        "trusted": true,
        "execution": {
          "iopub.status.busy": "2025-01-27T15:38:31.07283Z",
          "iopub.execute_input": "2025-01-27T15:38:31.073115Z",
          "iopub.status.idle": "2025-01-27T15:38:31.077864Z",
          "shell.execute_reply.started": "2025-01-27T15:38:31.073087Z",
          "shell.execute_reply": "2025-01-27T15:38:31.077052Z"
        },
        "id": "30s6ZXfDKa_-"
      },
      "outputs": [],
      "execution_count": null
    },
    {
      "cell_type": "code",
      "source": [
        "images_count()"
      ],
      "metadata": {
        "execution": {
          "iopub.status.busy": "2025-01-27T15:38:31.079202Z",
          "iopub.execute_input": "2025-01-27T15:38:31.079402Z",
          "iopub.status.idle": "2025-01-27T15:38:31.098292Z",
          "shell.execute_reply.started": "2025-01-27T15:38:31.079385Z",
          "shell.execute_reply": "2025-01-27T15:38:31.097514Z"
        },
        "trusted": true,
        "id": "RvFC7i3YKa_-"
      },
      "outputs": [],
      "execution_count": null
    },
    {
      "cell_type": "code",
      "source": [
        "# del full_images, full_labels, full_dataset;    gc.collect()"
      ],
      "metadata": {
        "execution": {
          "iopub.status.busy": "2025-01-27T15:38:31.099159Z",
          "iopub.execute_input": "2025-01-27T15:38:31.099414Z",
          "iopub.status.idle": "2025-01-27T15:38:31.103748Z",
          "shell.execute_reply.started": "2025-01-27T15:38:31.099396Z",
          "shell.execute_reply": "2025-01-27T15:38:31.103248Z"
        },
        "trusted": true,
        "id": "jsXvxprLKa_-"
      },
      "outputs": [],
      "execution_count": null
    },
    {
      "cell_type": "markdown",
      "source": [
        " * > --------"
      ],
      "metadata": {
        "id": "lbUV46_JKa_-"
      }
    },
    {
      "cell_type": "code",
      "source": [
        "# import tensorflow as tf\n",
        "\n",
        "# # Step 1: Define the Data Augmentation Layer\n",
        "# # data_augmentation = tf.keras.Sequential([\n",
        "# #     tf.keras.layers.RandomFlip('horizontal'),  # Randomly flip images horizontally and vertically\n",
        "# #     tf.keras.layers.RandomRotation(0.2),  # Randomly rotate images by up to 20%\n",
        "# #     tf.keras.layers.RandomZoom(0.2),  # Randomly zoom into images by up to 20%\n",
        "# #     tf.keras.layers.RandomContrast(0.2),  # Randomly adjust contrast by up to 20%\n",
        "# #     tf.keras.layers.RandomTranslation(0.1, 0.0),  # Randomly translate images by up to 10% horizontally and vertically\n",
        "# # ])\n",
        "\n",
        "# # Step 2: Load and Prepare Your Datasets\n",
        "# data_dir = '/kaggle/working/merged_images'  # Update with your dataset path\n",
        "\n",
        "# train_generator = tf.keras.preprocessing.image_dataset_from_directory(\n",
        "#     data_dir,\n",
        "#     labels='inferred',\n",
        "#     label_mode='categorical',\n",
        "# #     batch_size=13,\n",
        "#     image_size=(224, 224),\n",
        "#     validation_split=0.3,\n",
        "#     subset='training',\n",
        "#     seed=50,\n",
        "#     shuffle=True\n",
        "# )\n",
        "\n",
        "# validation_generator = tf.keras.preprocessing.image_dataset_from_directory(\n",
        "#     data_dir,\n",
        "#     labels='inferred',\n",
        "#     label_mode='categorical',\n",
        "# #     batch_size=13,\n",
        "#     image_size=(224, 224),\n",
        "#     validation_split=0.3,\n",
        "#     subset='validation',\n",
        "#     seed=5,\n",
        "#     shuffle=True\n",
        "# )\n",
        "\n",
        "# # Step 3: Apply Augmentation to the Training Dataset\n",
        "# # train_generator = train_generator.map(\n",
        "# #     lambda x, y: (data_augmentation(x, training=True), y),\n",
        "# #     num_parallel_calls=tf.data.experimental.AUTOTUNE\n",
        "# # )\n",
        "\n",
        "# # Step 4: Prefetch to Improve Performance\n",
        "# train_generator = train_generator.prefetch(buffer_size=tf.data.experimental.AUTOTUNE)\n",
        "# validation_generator = validation_generator.prefetch(buffer_size=tf.data.experimental.AUTOTUNE)"
      ],
      "metadata": {
        "jupyter": {
          "source_hidden": true
        },
        "execution": {
          "iopub.status.busy": "2025-01-27T15:38:43.786773Z",
          "iopub.execute_input": "2025-01-27T15:38:43.787094Z",
          "iopub.status.idle": "2025-01-27T15:38:43.791072Z",
          "shell.execute_reply.started": "2025-01-27T15:38:43.787071Z",
          "shell.execute_reply": "2025-01-27T15:38:43.790204Z"
        },
        "trusted": true,
        "id": "oK3yE0FNKa_-"
      },
      "outputs": [],
      "execution_count": null
    },
    {
      "cell_type": "code",
      "source": [
        "import tensorflow as tf\n",
        "\n",
        "# # Step 1: Define the Data Augmentation Layer\n",
        "# data_augmentation = tf.keras.Sequential([\n",
        "#     tf.keras.layers.RandomFlip('horizontal'),  # Randomly flip images horizontally\n",
        "#     tf.keras.layers.RandomRotation(0.2),       # Randomly rotate images by up to 20%\n",
        "#     tf.keras.layers.RandomZoom(0.2),           # Randomly zoom into images by up to 20%\n",
        "#     tf.keras.layers.RandomContrast(0.2),        # Randomly adjust contrast by up to 20%\n",
        "#     tf.keras.layers.RandomTranslation(0.1, 0.0),# Randomly translate images by up to 10% horizontally\n",
        "# ])\n",
        "\n",
        "# Step 2: Load and Prepare Your Datasets\n",
        "data_dir = '/kaggle/working/merged_images'  # Update with your dataset path\n",
        "\n",
        "# Create a dataset for the entire data to use for split\n",
        "full_dataset = tf.keras.preprocessing.image_dataset_from_directory(\n",
        "    data_dir,\n",
        "    labels='inferred',\n",
        "    label_mode='categorical',\n",
        "    # image_size=(224, 224),\n",
        "    image_size=(224, 224),\n",
        "    seed=30,\n",
        "    shuffle=True,\n",
        "    batch_size=13  # Set your desired batch size\n",
        ")\n",
        "# Calculate the total number of samples\n",
        "total_samples = tf.data.experimental.cardinality(full_dataset).numpy()\n",
        "\n",
        "# Step 3: Split the dataset into train, validation, and test sets\n",
        "train_size = int(0.7 * total_samples)                 # 70% for training\n",
        "# val_size   = int(0.15 * total_samples)                # 20% for validation\n",
        "# test_size = total_samples - train_size - val_size     # 10% for testing\n",
        "test_size = total_samples - train_size                # 30% for testing\n",
        "\n",
        "# Create train, validation, and test datasets\n",
        "train_dataset       = full_dataset.take(train_size)\n",
        "# validation_dataset  = full_dataset.skip(train_size).take(val_size)\n",
        "# test_dataset        = full_dataset.skip(train_size + val_size)\n",
        "test_dataset        = full_dataset.skip(train_size)\n",
        "\n",
        "# Step 4: Apply Augmentation to the Training Dataset\n",
        "# train_dataset = train_dataset.map(\n",
        "#     lambda x, y: (data_augmentation(x, training=True), y),\n",
        "#     num_parallel_calls=tf.data.experimental.AUTOTUNE\n",
        "# )\n",
        "\n",
        "# Step 5: Prefetch to Improve Performance\n",
        "train_dataset      = train_dataset.prefetch(buffer_size=tf.data.experimental.AUTOTUNE)\n",
        "# validation_dataset = validation_dataset.prefetch(buffer_size=tf.data.experimental.AUTOTUNE)\n",
        "test_dataset       = test_dataset.prefetch(buffer_size=tf.data.experimental.AUTOTUNE)\n",
        "\n",
        "# Print the number of samples in each dataset\n",
        "print(f\"Train samples:      {train_size}     batches(8) ==> {train_size*13}\")\n",
        "# print(f\"Validation samples: {val_size}       batches(13) ==> {val_size*13}\")\n",
        "print(f\"Test samples:       {test_size}      batches(8) ==> {test_size*13}\")\n",
        "\n",
        "# del full_dataset, total_samples, train_size, val_size, test_size;    gc.collect()\n",
        "del full_dataset, total_samples, train_size, test_size;    gc.collect()"
      ],
      "metadata": {
        "execution": {
          "iopub.status.busy": "2025-01-27T15:38:44.078882Z",
          "iopub.execute_input": "2025-01-27T15:38:44.079157Z",
          "iopub.status.idle": "2025-01-27T15:38:46.336767Z",
          "shell.execute_reply.started": "2025-01-27T15:38:44.079138Z",
          "shell.execute_reply": "2025-01-27T15:38:46.335902Z"
        },
        "trusted": true,
        "id": "rm1sPiT6Ka_-"
      },
      "outputs": [],
      "execution_count": null
    },
    {
      "cell_type": "markdown",
      "source": [
        "# Import Transfer Learning Architectures"
      ],
      "metadata": {
        "id": "IwGgQnBWKa_-"
      }
    },
    {
      "cell_type": "markdown",
      "source": [
        "> ## Extract features with InceptionV3"
      ],
      "metadata": {
        "id": "qhOElrPYKa__"
      }
    },
    {
      "cell_type": "code",
      "source": [
        "from tensorflow.keras.applications import (ResNet50,\n",
        "                                           Xception,\n",
        "                                           VGG19,\n",
        "                                           InceptionV3,\n",
        "                                           DenseNet121,\n",
        "                                           NASNetMobile,\n",
        "                                           MobileNetV2,\n",
        "                                           MobileNet,\n",
        "                                           EfficientNetV2B0,\n",
        "                                           EfficientNetV2S,\n",
        "                                           EfficientNetV2L,\n",
        "                                           ConvNeXtBase)\n",
        "\n",
        "def create_model(model_name, trainable_layers, dropout_value, save_weights=False):\n",
        "    model_dict = {\n",
        "        \"ResNet50\":         ResNet50,\n",
        "        \"Xception\":         Xception,\n",
        "        \"VGG19\":         VGG19,\n",
        "        \"InceptionV3\":      InceptionV3,\n",
        "        \"DenseNet121\":      DenseNet121,\n",
        "        \"NASNetMobile\":     NASNetMobile,\n",
        "        \"MobileNetV2\":      MobileNetV2,\n",
        "        \"MobileNet\":        MobileNet,\n",
        "        \"EfficientNetV2B0\": EfficientNetV2B0,\n",
        "        \"EfficientNetV2S\":  EfficientNetV2S,\n",
        "        \"EfficientNetV2L\":  EfficientNetV2L,\n",
        "        \"ConvNeXtBase\":     ConvNeXtBase,\n",
        "    }\n",
        "\n",
        "    if model_name not in model_dict:\n",
        "        raise ValueError(f\"Model {model_name} is not supported.\")\n",
        "\n",
        "    # Load the base model without the top layers\n",
        "    base_model = model_dict[model_name](weights='imagenet' if not save_weights else None,\n",
        "                                        include_top=False,\n",
        "                                        input_shape=(224, 224, 3))\n",
        "\n",
        "    # Freeze all layers initially\n",
        "    for layer in base_model.layers:\n",
        "        layer.trainable = False\n",
        "\n",
        "    # Calculate the index to start unfreezing layers\n",
        "    from_index = int(np.round((len(base_model.layers) - 1) * (1.0 - trainable_layers / 100.0)))\n",
        "\n",
        "    # Unfreeze layers from the calculated index onwards\n",
        "    for layer in base_model.layers[from_index:]:\n",
        "        layer.trainable = True\n",
        "\n",
        "    # Add custom layers on top (Upper-Layers)\n",
        "    x = base_model.output\n",
        "    x = GlobalAveragePooling2D()(x)\n",
        "    x = Dense(1024, activation='relu')(x)\n",
        "    x = Dropout(dropout_value)(x)\n",
        "    predictions = Dense(2, activation='softmax')(x)  # Assuming binary classification\n",
        "\n",
        "    model = Model(inputs=base_model.input, outputs=predictions)\n",
        "\n",
        "    # Clear the base model from memory if needed (optional)\n",
        "    del model_dict, base_model, from_index, x, predictions;    gc.collect()\n",
        "    return model"
      ],
      "metadata": {
        "execution": {
          "iopub.status.busy": "2025-01-27T15:38:52.805125Z",
          "iopub.execute_input": "2025-01-27T15:38:52.80546Z",
          "iopub.status.idle": "2025-01-27T15:38:52.814556Z",
          "shell.execute_reply.started": "2025-01-27T15:38:52.805434Z",
          "shell.execute_reply": "2025-01-27T15:38:52.813894Z"
        },
        "trusted": true,
        "id": "_SffQhO2Ka__"
      },
      "outputs": [],
      "execution_count": null
    },
    {
      "cell_type": "code",
      "source": [
        "from multiprocessing import cpu_count\n",
        "n_cores = cpu_count()\n",
        "print(f'Number of Logical CPU cores: {n_cores}')"
      ],
      "metadata": {
        "execution": {
          "iopub.status.busy": "2025-01-27T15:38:55.991643Z",
          "iopub.execute_input": "2025-01-27T15:38:55.991936Z",
          "iopub.status.idle": "2025-01-27T15:38:55.996379Z",
          "shell.execute_reply.started": "2025-01-27T15:38:55.991915Z",
          "shell.execute_reply": "2025-01-27T15:38:55.995539Z"
        },
        "trusted": true,
        "id": "6biRUUdqKa__"
      },
      "outputs": [],
      "execution_count": null
    },
    {
      "cell_type": "code",
      "source": [
        "# Create directories if they do not exist\n",
        "def make_file():\n",
        "    os.makedirs(CHECKPOINTS_DIR, exist_ok=True)\n",
        "    os.makedirs(LOGS_DIR, exist_ok=True)"
      ],
      "metadata": {
        "execution": {
          "iopub.status.busy": "2025-01-27T15:38:57.05374Z",
          "iopub.execute_input": "2025-01-27T15:38:57.054056Z",
          "iopub.status.idle": "2025-01-27T15:38:57.057921Z",
          "shell.execute_reply.started": "2025-01-27T15:38:57.05403Z",
          "shell.execute_reply": "2025-01-27T15:38:57.056976Z"
        },
        "trusted": true,
        "id": "sDlwPWBgKa__"
      },
      "outputs": [],
      "execution_count": null
    },
    {
      "cell_type": "code",
      "source": [
        "from keras import backend as K\n",
        "\n",
        "def reset_memory():\n",
        "    K.clear_session()\n",
        "    gc.collect()"
      ],
      "metadata": {
        "execution": {
          "iopub.status.busy": "2025-01-27T15:38:58.293762Z",
          "iopub.execute_input": "2025-01-27T15:38:58.294077Z",
          "iopub.status.idle": "2025-01-27T15:38:58.297882Z",
          "shell.execute_reply.started": "2025-01-27T15:38:58.294046Z",
          "shell.execute_reply": "2025-01-27T15:38:58.297025Z"
        },
        "trusted": true,
        "id": "WuO--sATKa__"
      },
      "outputs": [],
      "execution_count": null
    },
    {
      "cell_type": "code",
      "source": [
        "PROJECT_PATH    = \"/kaggle/working/\"\n",
        "CHECKPOINTS_DIR = os.path.join(PROJECT_PATH, \"Checkpoints\")\n",
        "LOGS_DIR        = os.path.join(PROJECT_PATH, \"Logs\")\n",
        "\n",
        "# Define the width you want for centering\n",
        "WIDTH = 162  # For example, assuming 80 characters wide terminal or display"
      ],
      "metadata": {
        "execution": {
          "iopub.status.busy": "2025-01-27T15:38:59.533282Z",
          "iopub.execute_input": "2025-01-27T15:38:59.533588Z",
          "iopub.status.idle": "2025-01-27T15:38:59.537273Z",
          "shell.execute_reply.started": "2025-01-27T15:38:59.533566Z",
          "shell.execute_reply": "2025-01-27T15:38:59.53654Z"
        },
        "trusted": true,
        "id": "T1jFns5AKa__"
      },
      "outputs": [],
      "execution_count": null
    },
    {
      "cell_type": "code",
      "source": [
        "def run_model(trainable_layers,\n",
        "              optimizer_class,\n",
        "              batch_size_value,\n",
        "              dropout_value,\n",
        "              model_name=None,\n",
        "              save=False,\n",
        "              epochs=5,\n",
        "              patience=2):\n",
        "\n",
        "    if model_name is None:\n",
        "        models = [\"ConvNeXtBase\"]\n",
        "        # models = [\"ResNet50\"]\n",
        "    else:\n",
        "        models = [model_name]  # Train only the specific model passed in\n",
        "\n",
        "    best_score = float('-inf')  # Initialize best score to negative infinity\n",
        "    best_model_info = None      # To store the best model information\n",
        "\n",
        "    for model_name in models:\n",
        "        # Clear any existing Keras session to free up memory\n",
        "        tf.keras.backend.clear_session();    gc.collect()  # Optional: use garbage collection to ensure no memory leaks\n",
        "\n",
        "        model = create_model(model_name, trainable_layers, dropout_value)  # Create the model\n",
        "        optimizer_value = optimizer_class()  # Instantiate the optimizer\n",
        "\n",
        "        model.compile(optimizer=optimizer_value,\n",
        "                      loss='categorical_crossentropy',\n",
        "                      metrics=['accuracy', Precision(name='precision'), Recall(name='recall')])  # Compile the model\n",
        "\n",
        "        trainable_params = sum([tf.keras.backend.count_params(w) for w in model.trainable_weights])\n",
        "        print('')\n",
        "        output = (f\"Training model: {model_name}   \"\n",
        "                  f\"Layers: {len(model.layers)}   \"\n",
        "                  f\"Parameters: {model.count_params()}   \"\n",
        "                  f\"Trainable parameters: {trainable_params}\")\n",
        "        print(output.center(WIDTH))\n",
        "        print(f'#%% {\"-\" * 97} %'.center(WIDTH))\n",
        "\n",
        "        # Prepare file paths if saving is enabled\n",
        "        if save:\n",
        "            solution = [trainable_layers, optimizer_value.__class__.__name__, batch_size_value, dropout_value]\n",
        "            keyword = f\"{model_name}-\" + \"-\".join([str(el) for el in solution])\n",
        "            checkpointPath = os.path.join(PROJECT_PATH, \"Checkpoints\", keyword) + \".weights.h5\"\n",
        "            csvLogPath = os.path.join(PROJECT_PATH, \"Logs\", keyword) + \".csv\"\n",
        "            make_file()  # Create directories\n",
        "\n",
        "        # Set common callbacks\n",
        "        callbacks = [\n",
        "            TerminateOnNaN(),\n",
        "            EarlyStopping(monitor=\"accuracy\", mode=\"max\", patience=patience)\n",
        "        ]\n",
        "\n",
        "        # Add saving-related callbacks if saving is enabled\n",
        "        if save:\n",
        "            callbacks += [\n",
        "                ModelCheckpoint(checkpointPath,\n",
        "                                save_best_only=True,\n",
        "                                save_weights_only=True,\n",
        "                                monitor=\"accuracy\",\n",
        "                                mode=\"max\",\n",
        "                                verbose=0),\n",
        "                CSVLogger(csvLogPath, append=True)\n",
        "            ]\n",
        "\n",
        "        # Train the model\n",
        "        history = model.fit(\n",
        "            train_dataset,\n",
        "            # validation_data=validation_dataset,\n",
        "            batch_size=batch_size_value,\n",
        "            epochs=epochs,\n",
        "            callbacks=callbacks\n",
        "        )\n",
        "\n",
        "        if save:\n",
        "            return model, history\n",
        "\n",
        "        # Calculate the score based on metrics\n",
        "        # val_acc = history.history['val_accuracy'][-1]     # Last validation accuracy\n",
        "        # val_precision = history.history['precision'][-1]  # Last precision\n",
        "        # val_recall = history.history['recall'][-1]        # Last recall\n",
        "        score = history.history['accuracy'][-1]\n",
        "        # score = (val_acc + val_precision + val_recall) / 3  # Average score\n",
        "\n",
        "        # Check if the current score is better than the best score\n",
        "        if score > best_score:\n",
        "            best_score = score  # Update best score\n",
        "            best_model_info = {\n",
        "                'model_name': model_name,\n",
        "                'trainable_layers': trainable_layers,\n",
        "                'optimizer': optimizer_value.__class__.__name__,\n",
        "                'batch_size': batch_size_value,\n",
        "                'dropout_value': dropout_value\n",
        "            }\n",
        "\n",
        "        # Clear the session after model is trained\n",
        "        reset_memory()\n",
        "        print(f\"Model {model_name} cleared from memory\".center(WIDTH))\n",
        "        print()\n",
        "\n",
        "        # After each iteration, clear the session and use garbage collection\n",
        "        # Delete model to release memory\n",
        "        # del model, optimizer_value, history, score, trainable_params;    gc.collect()\n",
        "\n",
        "    # return best_score, best_model_info  # Return best score and details of best model\n",
        "        return model  # Return best score and details of best model"
      ],
      "metadata": {
        "execution": {
          "iopub.status.busy": "2025-01-27T15:39:02.605817Z",
          "iopub.execute_input": "2025-01-27T15:39:02.606101Z",
          "iopub.status.idle": "2025-01-27T15:39:02.61503Z",
          "shell.execute_reply.started": "2025-01-27T15:39:02.60608Z",
          "shell.execute_reply": "2025-01-27T15:39:02.61409Z"
        },
        "trusted": true,
        "id": "sMkQmAjGKa__"
      },
      "outputs": [],
      "execution_count": null
    },
    {
      "cell_type": "markdown",
      "source": [
        "# Apply Arctic Puffin Optimization"
      ],
      "metadata": {
        "id": "JUP64-wuKa__"
      }
    },
    {
      "cell_type": "code",
      "source": [
        "# from tensorflow.keras.optimizers import SGD, Adam, Nadam, RMSprop, Adadelta, Adagrad\n",
        "\n",
        "# # Define your ranges for the hyperparameters\n",
        "# ranges = {\n",
        "#     \"Trainable_Layers\": np.arange(2, 11, 2),\n",
        "# #     \"Optimizers\":       np.array([SGD, Adam, Nadam, RMSprop, Adadelta, Adagrad]),\n",
        "#     \"Optimizers\":       np.array([SGD, Adam, Nadam, RMSprop]),\n",
        "#     \"Batch_Sizes\":      np.array([8, 13, 16]),\n",
        "#     \"Dropout\":          np.arange(0, 0.3, 0.1),\n",
        "#     # \"Model_Name\":       np.array([\"EfficientNetV2B0\", \"ResNet50\", \"ConvNeXtBase\"])\n",
        "#     # \"Model_Name\":       np.array([\"EfficientNetV2B0\", \"ResNet50\", \"MobileNet\", \"DenseNet121\"])\n",
        "#     \"Model_Name\":       np.array([\"ResNet50\", \"ConvNeXtBase\"])\n",
        "# }\n",
        "\n",
        "# # \"\"\"\n",
        "# # How Many Possible Solutions Are There?\n",
        "\n",
        "# # Let’s calculate the total number of solutions by multiplying the number of options for each hyperparameter:\n",
        "\n",
        "# # - Trainable Layers: 10 options (0, 1, ..., 9).\n",
        "# # - Optimizer:         6 options (SGD, Adam, Nadam, RMSprop, Adadelta, Adagrad).\n",
        "# # - Batch Size:        3 options (8, 13, 16).\n",
        "# # - Dropout:           3 options (0, 0.1, 0.2).\n",
        "# # - Model Name:        4 options (ResNet50, MobileNet, DenseNet121, EfficientNetV2B0).\n",
        "\n",
        "# # The total number of possible solutions is:\n",
        "\n",
        "# # 10 × 6 × 3 × 3 × 4 =  2,160 possible solutions.\n",
        "# # \"\"\""
      ],
      "metadata": {
        "execution": {
          "iopub.status.busy": "2025-01-27T15:39:08.03699Z",
          "iopub.execute_input": "2025-01-27T15:39:08.037301Z",
          "iopub.status.idle": "2025-01-27T15:39:08.041023Z",
          "shell.execute_reply.started": "2025-01-27T15:39:08.037278Z",
          "shell.execute_reply": "2025-01-27T15:39:08.039997Z"
        },
        "trusted": true,
        "id": "S10_J_ngKa__"
      },
      "outputs": [],
      "execution_count": null
    },
    {
      "cell_type": "code",
      "source": [
        "# def initialize_population(Search_agents_no, dim, ub, lb):\n",
        "#     \"\"\"\n",
        "#     Initialize the first population of search agents.\n",
        "\n",
        "#     Parameters:\n",
        "#     Search_agents_no (int): The number of puffins (solutions) in the population.\n",
        "#     dim (int): The number of dimensions (hyperparameters).\n",
        "#     ub (list): Upper bounds for each dimension.\n",
        "#     lb (list): Lower bounds for each dimension.\n",
        "\n",
        "#     Returns:\n",
        "#     Positions (np.array): Initialized population matrix with shape (SearchAgents_no, dim).\n",
        "#     \"\"\"\n",
        "\n",
        "#     # Boundary_no is the length of upper bounds, which tells if it's a single boundary or multiple for each dimension.\n",
        "#     Boundary_no = len(ub)\n",
        "\n",
        "#     # Initialize positions\n",
        "#     Positions = np.zeros((Search_agents_no, dim))\n",
        "\n",
        "#     # If all variables have the same bounds\n",
        "#     if Boundary_no == 1:\n",
        "#         Positions = np.random.rand(Search_agents_no, dim) * (ub - lb) + lb\n",
        "#     else:\n",
        "#         # If each variable has a different bound\n",
        "#         for i in range(dim):\n",
        "#             ub_i = ub[i]\n",
        "#             lb_i = lb[i]\n",
        "\n",
        "#             Positions[:, i] = np.random.rand(Search_agents_no) * (ub_i - lb_i) + lb_i\n",
        "\n",
        "#     return Positions"
      ],
      "metadata": {
        "execution": {
          "iopub.status.busy": "2024-11-29T10:22:37.877628Z",
          "iopub.execute_input": "2024-11-29T10:22:37.877874Z",
          "iopub.status.idle": "2024-11-29T10:22:37.888044Z",
          "shell.execute_reply.started": "2024-11-29T10:22:37.87785Z",
          "shell.execute_reply": "2024-11-29T10:22:37.887254Z"
        },
        "trusted": true,
        "jupyter": {
          "source_hidden": true
        },
        "id": "yN4p7dXGKbAA"
      },
      "outputs": [],
      "execution_count": null
    },
    {
      "cell_type": "code",
      "source": [
        "# def index_values(solution):\n",
        "\n",
        "#     # Extract hyperparameters from solution\n",
        "#     trainable_layers_index = int(np.round(solution[0]))  # Round for trainable layers index\n",
        "#     optimizer_index        = int(np.round(solution[1]))  # Round for optimizer index\n",
        "#     batch_size_index       = int(np.round(solution[2]))  # Round for batch size index\n",
        "#     dropout_index          = int(np.round(solution[3]))  # Round for batch size index\n",
        "#     model_index            = int(np.round(solution[4]))  # Round for batch size index\n",
        "\n",
        "#     # Ensure indices are within valid ranges\n",
        "#     trainable_layers_index = np.clip(trainable_layers_index, 0, len(ranges[\"Trainable_Layers\"]) - 1)\n",
        "#     optimizer_index        = np.clip(optimizer_index,        0, len(ranges[\"Optimizers\"]) - 1)\n",
        "#     batch_size_index       = np.clip(batch_size_index,       0, len(ranges[\"Batch_Sizes\"]) - 1)\n",
        "#     dropout_index          = np.clip(dropout_index,          0, len(ranges[\"Dropout\"]) - 1)\n",
        "#     model_index            = np.clip(model_index,            0, len(ranges[\"Model_Name\"]) - 1)\n",
        "\n",
        "#     # Get the values based on indices\n",
        "#     trainable_layers_value = ranges[\"Trainable_Layers\"][trainable_layers_index]\n",
        "#     optimizer_value        = ranges[\"Optimizers\"][optimizer_index]\n",
        "#     batch_size_value       = ranges[\"Batch_Sizes\"][batch_size_index]\n",
        "#     dropout_value          = ranges[\"Dropout\"][dropout_index]\n",
        "#     model_value            = ranges[\"Model_Name\"][model_index]\n",
        "\n",
        "#     return trainable_layers_value, optimizer_value, batch_size_value, dropout_value, model_value"
      ],
      "metadata": {
        "execution": {
          "iopub.status.busy": "2024-11-29T10:22:37.889066Z",
          "iopub.execute_input": "2024-11-29T10:22:37.88935Z",
          "iopub.status.idle": "2024-11-29T10:22:37.901288Z",
          "shell.execute_reply.started": "2024-11-29T10:22:37.889319Z",
          "shell.execute_reply": "2024-11-29T10:22:37.900669Z"
        },
        "trusted": true,
        "jupyter": {
          "source_hidden": true
        },
        "id": "92R5ZppuKbAA"
      },
      "outputs": [],
      "execution_count": null
    },
    {
      "cell_type": "code",
      "source": [
        "# # Example objective function (replace with your actual objective function)\n",
        "# def fitness_func(solution):\n",
        "\n",
        "#     trainable_layers_value,\\\n",
        "#     optimizer_value,\\\n",
        "#     batch_size_value,\\\n",
        "#     dropout_value,\\\n",
        "#     model_value = index_values(solution)\n",
        "\n",
        "#     score, configs = run_model(trainable_layers_value,\n",
        "#                                optimizer_value,\n",
        "#                                batch_size_value,\n",
        "#                                dropout_value,\n",
        "#                                model_value)\n",
        "\n",
        "#     # Center the separator\n",
        "#     print(f'#%%{\"-\" * 36}%'.center(WIDTH))\n",
        "\n",
        "#     # Center the validation accuracy\n",
        "#     val_accuracy_output = f\" val_accuracy: {score}\".center(WIDTH)\n",
        "\n",
        "#     # Center each configuration item and join them with newline characters\n",
        "#     config_output = \"\\n\".join([str(f'{key}: {value}').center(WIDTH) for key, value in configs.items()])\n",
        "\n",
        "#     # Print the combined output centered\n",
        "#     print(val_accuracy_output + \"\\n\" + config_output)\n",
        "\n",
        "#     # Center the separator again\n",
        "#     print(f'#%%{\"-\" * 36}%'.center(WIDTH))\n",
        "\n",
        "#     return score"
      ],
      "metadata": {
        "execution": {
          "iopub.status.busy": "2024-11-29T10:22:37.90216Z",
          "iopub.execute_input": "2024-11-29T10:22:37.902405Z",
          "iopub.status.idle": "2024-11-29T10:22:37.913925Z",
          "shell.execute_reply.started": "2024-11-29T10:22:37.902382Z",
          "shell.execute_reply": "2024-11-29T10:22:37.913062Z"
        },
        "trusted": true,
        "jupyter": {
          "source_hidden": true
        },
        "id": "1xtnKlzyKbAA"
      },
      "outputs": [],
      "execution_count": null
    },
    {
      "cell_type": "code",
      "source": [
        "# # Step 1: Create a 4GB swap file\n",
        "# !fallocate -l 4G /kaggle/working/swapfile\n",
        "\n",
        "# # Step 2: Set the correct permissions\n",
        "# !chmod 600 /kaggle/working/swapfile\n",
        "\n",
        "# # Step 3: Set up the swap space\n",
        "# !mkswap /kaggle/working/swapfile\n",
        "\n",
        "# # Step 4: Enable the swap\n",
        "# !swapon /kaggle/working/swapfile\n",
        "\n",
        "# # Step 5: Verify swap is enabled\n",
        "# !swapon --show\n",
        "\n",
        "# # Step 6: Check memory usage (RAM + Swap)\n",
        "# !free -h"
      ],
      "metadata": {
        "jupyter": {
          "source_hidden": true
        },
        "execution": {
          "iopub.status.busy": "2024-11-29T10:22:37.915021Z",
          "iopub.execute_input": "2024-11-29T10:22:37.915798Z",
          "iopub.status.idle": "2024-11-29T10:22:37.927253Z",
          "shell.execute_reply.started": "2024-11-29T10:22:37.915756Z",
          "shell.execute_reply": "2024-11-29T10:22:37.926606Z"
        },
        "trusted": true,
        "id": "lXxrVa2PKbAA"
      },
      "outputs": [],
      "execution_count": null
    },
    {
      "cell_type": "code",
      "source": [
        "# # Levy flight function\n",
        "# def levy(dim, beta=1.5):\n",
        "#     sigma = (gamma(1 + beta) * np.sin(np.pi * beta / 2) /\n",
        "#              (gamma((1 + beta) / 2) * beta * 2 ** ((beta - 1) / 2))) ** (1 / beta)\n",
        "#     u = np.random.randn(dim) * sigma\n",
        "#     v = np.random.randn(dim)\n",
        "#     step = u / np.abs(v) ** (1 / beta)\n",
        "#     return step\n",
        "\n",
        "# # SpaceBound ensures that the positions stay within the bounds\n",
        "# def space_bound(pos, ub, lb):\n",
        "#     return np.clip(pos, lb, ub)\n",
        "\n",
        "# # Arctic Puffin Optimization algorithm (for maximization)\n",
        "# def APO(N, T, lower_bound, upper_bound, dim, fitness_func):\n",
        "\n",
        "#     # This function initialize the first population of search agents\n",
        "#     Population_Pos = initialize_population(N, dim, upper_bound, lower_bound)\n",
        "#     Population_Fit = np.zeros(N)\n",
        "\n",
        "#     # This function Evaluate(Fitness) the populations of search agents ==> (Objective Function)\n",
        "#     for i in range(N):\n",
        "#         Population_Fit[i] = fitness_func(Population_Pos[i, :])\n",
        "#         print(f\"Solution: {i+1} is Completed\".center(WIDTH))\n",
        "#         print()\n",
        "\n",
        "#     # Initialize the best fitness and best position (Maximization)\n",
        "#     BestF = -float('inf')  # Initialize as negative infinity for maximization\n",
        "#     BestX = None\n",
        "\n",
        "#     # Find the initial best position and fitness\n",
        "#     for i in range(N):\n",
        "#         if Population_Fit[i] > BestF:  # Use '>' for maximization\n",
        "#             BestF = Population_Fit[i]\n",
        "#             BestX = Population_Pos[i, :].copy()\n",
        "\n",
        "#     curve = np.zeros(T)\n",
        "#     #%% -----------------------------%  Main iteration loop   %----------------------------------%\n",
        "#     for It in range(T):\n",
        "#         for i in range(N):\n",
        "#             theta1 = (1 - It / T)\n",
        "#             B = 2 * np.log(1 / np.random.rand()) * theta1\n",
        "\n",
        "#             #%% -----------------------------%  1.Aerial Flight Stage   %-----------------------------------%\n",
        "#             if B > 0.5:\n",
        "#                 while True:\n",
        "#                     K = [j for j in range(N) if j != i]\n",
        "#                     RandInd = random.choice(K)\n",
        "#                     step1 = Population_Pos[i, :] - Population_Pos[RandInd, :]\n",
        "#                     if np.linalg.norm(step1) != 0 and not np.array_equal(Population_Pos[i, :], Population_Pos[RandInd, :]):\n",
        "#                         break\n",
        "\n",
        "#                 #%% -----------------------------%  1.1 Aerial search.   %----------------------------------%\n",
        "#                 # Aerial Search (Levy Flight)\n",
        "#                 ALPHA = np.random.randn(dim)\n",
        "#                 R = np.round(0.5 * (0.05 + np.random.rand())) * ALPHA\n",
        "#                 Y = Population_Pos[i, :] + step1 * levy(dim)  + R\n",
        "\n",
        "#                 #%% -----------------------------%  1.2 Swooping predation. %-------------------------------%\n",
        "#                 # Swooping Predation\n",
        "#                 R = np.random.rand(dim)\n",
        "#                 step2 = (R - 0.5) * np.pi\n",
        "#                 S = np.tan(step2)\n",
        "#                 Z = Y * S\n",
        "\n",
        "#                 # Ensure solutions remain within bounds\n",
        "#                 Y = space_bound(Y, upper_bound, lower_bound)\n",
        "#                 Z = space_bound(Z, upper_bound, lower_bound)\n",
        "\n",
        "#                 # Fitness evaluation of new positions\n",
        "#                 NewPop = np.vstack([Y, Z])\n",
        "\n",
        "#                 Y_FITNESS = fitness_func(Y)\n",
        "#                 print(f\"Y_FITNESS for {i+1} solution {It+1} iteration\".center(WIDTH))\n",
        "\n",
        "#                 Z_FITNESS = fitness_func(Z)\n",
        "#                 print(f\"Z_FITNESS for {i+1} solution {It+1} iteration\".center(WIDTH))\n",
        "\n",
        "#                 NewPopfit = np.array([Y_FITNESS, Z_FITNESS])\n",
        "#                 print(f\"Flight Stage Complete for {i+1} solution {It+1} iteration\".center(WIDTH))\n",
        "#                 print('')\n",
        "\n",
        "#                 # Find the best new population\n",
        "#                 # 1-scores = [97, 95], ==> argsort(ascending) = [1, 0]\n",
        "#                 # 2-scores = [95, 97], ==> argsort(ascending) = [0, 1]\n",
        "#                 sorted_indexes = np.argsort(NewPopfit)\n",
        "#                 # 1-NewPop[0, :] ==> Y\n",
        "#                 # 2-NewPop[1, :] ==> Z\n",
        "#                 newPopPos = NewPop[sorted_indexes[-1], :]\n",
        "\n",
        "#             #%% -----------------------------%  2.Underwater Foraging Stage   %----------------------------------%\n",
        "#             else:\n",
        "#                 F = 0.5\n",
        "#                 K = [j for j in range(N) if j != i]\n",
        "#                 RandInd = random.sample(K, 3)\n",
        "\n",
        "#                 while True:\n",
        "#                     step1 = Population_Pos[RandInd[1], :] - Population_Pos[RandInd[2], :]\n",
        "#                     if np.linalg.norm(step1) != 0 and RandInd[1] != RandInd[2]:\n",
        "#                         break\n",
        "\n",
        "#                 #%% -----------------------------%  2.1\tGathering foraging   %----------------------------------%\n",
        "#                 if np.random.rand() < 0.5:\n",
        "#                     W = Population_Pos[RandInd[0], :] + F * step1\n",
        "#                 else:\n",
        "#                     W = Population_Pos[RandInd[0], :] + F * step1 * levy(dim)\n",
        "\n",
        "#                 #%% -----------------------------%  2.2Intensifying search   %----------------------------------%\n",
        "#                 f = (0.1 * (np.random.rand() - 1) * (T - It)) / T\n",
        "#                 Y = (1 + f) * W\n",
        "\n",
        "#                 #%% --------------------------%  2.3Underwater Foraging Stage  %--------------------------------%\n",
        "#                 while True:\n",
        "#                     rand_leader_index1 = random.randint(0, N - 1)\n",
        "#                     rand_leader_index2 = random.randint(0, N - 1)\n",
        "#                     X_rand1 = Population_Pos[rand_leader_index1, :]\n",
        "#                     X_rand2 = Population_Pos[rand_leader_index2, :]\n",
        "#                     step2 = X_rand1 - X_rand2\n",
        "\n",
        "#                     if np.linalg.norm(step2) != 0 and not np.array_equal(X_rand1, X_rand2):\n",
        "#                         break\n",
        "\n",
        "#                 Epsilon = np.random.uniform(0, 1)\n",
        "#                 if np.random.rand() < 0.5:\n",
        "#                     Z = Population_Pos[i, :] + Epsilon * step2\n",
        "#                 else:\n",
        "#                     Z = Population_Pos[i, :] + F * levy(dim) * step2\n",
        "\n",
        "#                 NewPop = np.vstack([W, Y, Z])\n",
        "\n",
        "#                 W_FITNESS = fitness_func(W)\n",
        "#                 print(f\"W_FITNESS for {i+1} solution {It+1} iteration\".center(WIDTH))\n",
        "\n",
        "#                 Y_FITNESS = fitness_func(Y)\n",
        "#                 print(f\"Y_FITNESS for {i+1} solution {It+1} iteration\".center(WIDTH))\n",
        "\n",
        "#                 Z_FITNESS = fitness_func(Z)\n",
        "#                 print(f\"Z_FITNESS for {i+1} solution {It+1} iteration\".center(WIDTH))\n",
        "\n",
        "#                 NewPopfit = np.array([W_FITNESS, Y_FITNESS, Z_FITNESS])\n",
        "#                 print(f\"Underwater Stage Complete for: {i+1} solution, {It+1} iteration\".center(WIDTH))\n",
        "#                 print('\\n\\n')\n",
        "#                 # Find the best new population\n",
        "#                 # 1-scores = [90, 80, 97], ==> argsort(ascending) = [1, 0, 2]\n",
        "#                 # 2-scores = [97, 80, 90], ==> argsort(ascending) = [1, 2, 0]\n",
        "#                 # 3-scores = [90, 97, 80], ==> argsort(ascending) = [2, 0, 1]\n",
        "#                 sorted_indexes = np.argsort(NewPopfit)\n",
        "#                 # 1-NewPop[2, :] ==> Z\n",
        "#                 # 2-NewPop[0, :] ==> W\n",
        "#                 # 3-NewPop[2, :] ==> Y\n",
        "#                 newPopPos = NewPop[sorted_indexes[-1], :]\n",
        "\n",
        "#             newPopPos = space_bound(newPopPos, upper_bound, lower_bound)\n",
        "#             newPopFit = fitness_func(newPopPos)\n",
        "#             print(f\"Best is Complete for: {i+1} solution, {It+1} iteration\".center(WIDTH))\n",
        "#             print('\\n\\n')\n",
        "\n",
        "#             # Update the population fitness and position if the new one is better (Maximization)\n",
        "#             if newPopFit > Population_Fit[i]:  # Use '>' for maximization\n",
        "#                 Population_Fit[i] = newPopFit\n",
        "#                 Population_Pos[i, :] = newPopPos\n",
        "\n",
        "#         # Update the global best solution found (Maximization)\n",
        "#         for i in range(N):\n",
        "#             if Population_Fit[i] > BestF:  # Use '>' for maximization\n",
        "#                 BestF = Population_Fit[i]\n",
        "#                 BestX = Population_Pos[i, :].copy()\n",
        "\n",
        "#         curve[It] = BestF\n",
        "\n",
        "#     return BestF, BestX, curve\n",
        "\n",
        "# # Define the bounds for the parameters\n",
        "# ub = [4, 3, 2, 2, 1]   # Max values for: TrainableLayers, Optimizers (as index), BatchSize, Dropout, ModelName (as index)\n",
        "# lb = [0, 0, 0, 0, 0]   # Min values for: TrainableLayers, Optimizers (as index), BatchSize, Dropout, ModelName (as index)\n",
        "\n",
        "# # Usage example\n",
        "# N = 10             # Population(Solutions) size # Note Solutions Must Be >= 4\n",
        "# T = 1              # Number of iterations\n",
        "# dim = len(ub)      # Dimensionality of the problem\n",
        "\n",
        "# # Run APO\n",
        "# BestF, BestX, curve = APO(N, T, lb, ub, dim, fitness_func)\n",
        "\n",
        "# print(\"Best fitness value:\", BestF)\n",
        "# print(\"Best solution:\", BestX)"
      ],
      "metadata": {
        "execution": {
          "iopub.status.busy": "2024-11-29T10:22:37.928549Z",
          "iopub.execute_input": "2024-11-29T10:22:37.92925Z",
          "iopub.status.idle": "2024-11-29T10:22:37.940039Z",
          "shell.execute_reply.started": "2024-11-29T10:22:37.929185Z",
          "shell.execute_reply": "2024-11-29T10:22:37.939338Z"
        },
        "trusted": true,
        "jupyter": {
          "source_hidden": true
        },
        "id": "Akdw7j0PKbAA"
      },
      "outputs": [],
      "execution_count": null
    },
    {
      "cell_type": "code",
      "source": [
        "# curve"
      ],
      "metadata": {
        "trusted": true,
        "execution": {
          "iopub.status.busy": "2024-11-29T10:22:37.940867Z",
          "iopub.execute_input": "2024-11-29T10:22:37.941108Z",
          "iopub.status.idle": "2024-11-29T10:22:37.954011Z",
          "shell.execute_reply.started": "2024-11-29T10:22:37.941078Z",
          "shell.execute_reply": "2024-11-29T10:22:37.953156Z"
        },
        "id": "qye7eo0TKbAB"
      },
      "outputs": [],
      "execution_count": null
    },
    {
      "cell_type": "markdown",
      "source": [],
      "metadata": {
        "id": "JjUv573UKbAB"
      }
    },
    {
      "cell_type": "code",
      "source": [
        "# plt.figure(figsize=(10, 5))\n",
        "# plt.plot(range(len(curve)), curve, label='Fitness over Iters',   color='blue')\n",
        "# plt.title('Curve for Iterations')\n",
        "# plt.xlabel('Iterations')\n",
        "# plt.ylabel('Fitness')\n",
        "# plt.legend()\n",
        "# plt.show()"
      ],
      "metadata": {
        "jupyter": {
          "source_hidden": true
        },
        "trusted": true,
        "execution": {
          "iopub.status.busy": "2024-11-29T10:22:37.955314Z",
          "iopub.execute_input": "2024-11-29T10:22:37.955561Z",
          "iopub.status.idle": "2024-11-29T10:22:37.963419Z",
          "shell.execute_reply.started": "2024-11-29T10:22:37.955537Z",
          "shell.execute_reply": "2024-11-29T10:22:37.96266Z"
        },
        "id": "POfJs_Y1KbAB"
      },
      "outputs": [],
      "execution_count": null
    },
    {
      "cell_type": "code",
      "source": [
        "# Trainable_Layers, Optimizer, Batch_Size, dropout_value, best_model_name = index_values(BestX)\n",
        "# print(f\"trainable_layers: {Trainable_Layers}\\n\".center(WIDTH))\n",
        "# print(f\"optimizer: {Optimizer().__class__.__name__}\\n\".center(WIDTH))\n",
        "# print(f\"batch_size: {Batch_Size}\\n\".center(WIDTH))\n",
        "# print(f\"dropout_value: {dropout_value}\\n\".center(WIDTH))\n",
        "# print(f\"best_model_name: {best_model_name}\".center(WIDTH))"
      ],
      "metadata": {
        "trusted": true,
        "execution": {
          "iopub.status.busy": "2024-11-29T10:22:37.964475Z",
          "iopub.execute_input": "2024-11-29T10:22:37.964713Z",
          "iopub.status.idle": "2024-11-29T10:22:37.974033Z",
          "shell.execute_reply.started": "2024-11-29T10:22:37.964689Z",
          "shell.execute_reply": "2024-11-29T10:22:37.973407Z"
        },
        "jupyter": {
          "source_hidden": true
        },
        "id": "Fiuq-pQmKbAB"
      },
      "outputs": [],
      "execution_count": null
    },
    {
      "cell_type": "code",
      "source": [
        "# # Path to the working directory\n",
        "# check_points = '/kaggle/working/Checkpoints'\n",
        "# logs         = '/kaggle/working/Logs'\n",
        "\n",
        "# # # Loop through all files and subdirectories in the working directory\n",
        "# for weight, csv in zip(os.listdir(check_points), os.listdir(logs)):\n",
        "#     file_path_weight = os.path.join(check_points, weight)\n",
        "#     file_path_csv    = os.path.join(logs, csv)\n",
        "#     try:\n",
        "#         if os.path.isfile(file_path_weight) or os.path.islink(file_path_weight)\\\n",
        "#         or os.path.isfile(file_path_csv) or os.path.islink(file_path_csv):\n",
        "#             os.unlink(file_path_weight)  # Remove the file or symbolic link\n",
        "#             os.unlink(file_path_csv)  # Remove the file or symbolic link\n",
        "#         elif os.path.isdir(file_path_weight) or os.path.isdir(file_path_csv):\n",
        "#             shutil.rmtree(file_path_weight)  # Remove the directory and its contents\n",
        "#             shutil.rmtree(file_path_csv)  # Remove the directory and its contents\n",
        "#     except Exception as e:\n",
        "#         print(f'Failed to delete {file_path_weight}. Reason: {e}')\n",
        "#         print(f'Failed to delete {file_path_csv}. Reason: {e}')\n",
        "\n",
        "# print(\"All files and subdirectories in '/kaggle/working/' have been removed.\")"
      ],
      "metadata": {
        "trusted": true,
        "execution": {
          "iopub.status.busy": "2024-11-29T10:22:37.974988Z",
          "iopub.execute_input": "2024-11-29T10:22:37.975321Z",
          "iopub.status.idle": "2024-11-29T10:22:37.985745Z",
          "shell.execute_reply.started": "2024-11-29T10:22:37.97528Z",
          "shell.execute_reply": "2024-11-29T10:22:37.985022Z"
        },
        "id": "XgGqZ4DqKbAB"
      },
      "outputs": [],
      "execution_count": null
    },
    {
      "cell_type": "code",
      "source": [
        "model, history = run_model(5,\n",
        "                           Adam,\n",
        "                           8,\n",
        "                           0,\n",
        "                           None,\n",
        "                           True,\n",
        "                           10,\n",
        "                           # save=True,\n",
        "                           patience=2)"
      ],
      "metadata": {
        "trusted": true,
        "execution": {
          "iopub.status.busy": "2025-01-27T15:39:17.243487Z",
          "iopub.execute_input": "2025-01-27T15:39:17.243778Z",
          "iopub.status.idle": "2025-01-27T15:48:12.260381Z",
          "shell.execute_reply.started": "2025-01-27T15:39:17.243757Z",
          "shell.execute_reply": "2025-01-27T15:48:12.259488Z"
        },
        "id": "pdVgOzz2KbAB"
      },
      "outputs": [],
      "execution_count": null
    },
    {
      "cell_type": "code",
      "source": [
        "from tensorflow.keras.models import model_from_json, save_model, load_model\n",
        "from tensorflow.keras.callbacks import ModelCheckpoint\n",
        "import shutil  # For creating zip files for download\n",
        "\n",
        "# Save the model architecture to a JSON file\n",
        "with open(\"model.json\", \"w\") as json_file:\n",
        "    json_file.write(model.to_json())\n",
        "\n",
        "\n",
        "# To save the entire model (architecture and weights) to a single HDF5 file\n",
        "model.save(\"entire_model.h5\")\n",
        "\n",
        "shutil.make_archive('entire_model', 'zip', '.', 'entire_model.h5')\n",
        "# To load the entire model from the saved file\n",
        "# loaded_model = load_model(\"entire_model.h5\")\n",
        "\n",
        "# To load the model from JSON and weights\n",
        "# with open(\"model.json\", \"r\") as json_file:\n",
        "#     loaded_model = model_from_json(json_file.read())\n",
        "# loaded_model.load_weights(\"model_weights.h5\")"
      ],
      "metadata": {
        "trusted": true,
        "execution": {
          "iopub.status.busy": "2025-01-27T15:48:40.377081Z",
          "iopub.execute_input": "2025-01-27T15:48:40.377409Z",
          "iopub.status.idle": "2025-01-27T15:49:05.202802Z",
          "shell.execute_reply.started": "2025-01-27T15:48:40.377387Z",
          "shell.execute_reply": "2025-01-27T15:49:05.202069Z"
        },
        "id": "xZeDtMVcKbAB"
      },
      "outputs": [],
      "execution_count": null
    },
    {
      "cell_type": "code",
      "source": [
        "from IPython.display import FileLink\n",
        "FileLink('entire_model.zip') # your model name."
      ],
      "metadata": {
        "trusted": true,
        "execution": {
          "iopub.status.busy": "2025-01-27T15:50:53.743623Z",
          "iopub.execute_input": "2025-01-27T15:50:53.743923Z",
          "iopub.status.idle": "2025-01-27T15:50:53.749216Z",
          "shell.execute_reply.started": "2025-01-27T15:50:53.7439Z",
          "shell.execute_reply": "2025-01-27T15:50:53.74827Z"
        },
        "id": "E4sAhh67KbAB"
      },
      "outputs": [],
      "execution_count": null
    },
    {
      "cell_type": "code",
      "source": [
        "# new_model = create_model(model_name,\n",
        "#                          trainable_layers,\n",
        "#                          dropout_value,\n",
        "#                          save_weights=True)\n",
        "\n",
        "# # Load the saved weights\n",
        "# new_model.load_weights('best_weights.h5')  # Path to the saved weights\n",
        "\n",
        "# # Compile the model\n",
        "# model.compile(optimizer=Optimizer(), loss='categorical_crossentropy', metrics=['accuracy'])"
      ],
      "metadata": {
        "trusted": true,
        "execution": {
          "iopub.status.busy": "2024-11-29T10:27:10.318645Z",
          "iopub.execute_input": "2024-11-29T10:27:10.318935Z",
          "iopub.status.idle": "2024-11-29T10:27:10.324397Z",
          "shell.execute_reply.started": "2024-11-29T10:27:10.318906Z",
          "shell.execute_reply": "2024-11-29T10:27:10.323348Z"
        },
        "id": "YbEoJg2TKbAB"
      },
      "outputs": [],
      "execution_count": null
    },
    {
      "cell_type": "code",
      "source": [
        "from tensorflow.keras.utils import plot_model\n",
        "\n",
        "# Generate and save a model architecture plot\n",
        "# plot_model(model, to_file='model_architecture.png', show_shapes=True, show_layer_names=True)"
      ],
      "metadata": {
        "trusted": true,
        "execution": {
          "iopub.status.busy": "2025-01-27T15:50:20.178232Z",
          "iopub.execute_input": "2025-01-27T15:50:20.178562Z",
          "iopub.status.idle": "2025-01-27T15:50:20.18443Z",
          "shell.execute_reply.started": "2025-01-27T15:50:20.178535Z",
          "shell.execute_reply": "2025-01-27T15:50:20.183495Z"
        },
        "id": "1Ww67kHZKbAB"
      },
      "outputs": [],
      "execution_count": null
    },
    {
      "cell_type": "code",
      "source": [
        "# Get the path to the first image in the directory\n",
        "image_dir = '/kaggle/working/merged_images/0'\n",
        "image_path = os.path.join(image_dir, os.listdir(image_dir)[0])\n",
        "\n",
        "# Read the image\n",
        "image = cv2.imread(image_path)\n",
        "\n",
        "# Resize the image to the desired shape\n",
        "image = cv2.resize(image, (224, 224))  # OpenCV uses (width, height) format for resizing\n",
        "\n",
        "# Convert the image to a NumPy array and preprocess it for the model\n",
        "image = np.array(image)\n",
        "print(image.shape)\n",
        "\n",
        "# Optionally, if your model expects the image in a specific format (e.g., scaled to [0, 1]),\n",
        "# you may need to normalize it as follows:\n",
        "image = image / 255.0  # Scale pixel values to [0, 1]\n",
        "\n",
        "# Add a batch dimension (1, 224, 224, 3)\n",
        "image = np.expand_dims(image, axis=0)\n",
        "\n",
        "# Display the image (optional)\n",
        "plt.imshow(image[0])  # Use image[0] to display the image without the batch dimension\n",
        "plt.axis('off')  # Turn off axis labels\n",
        "plt.show()\n",
        "\n",
        "# Make predictions using the new model\n",
        "result = model.predict(image)\n",
        "print(\"Prediction Result:\", result)\n",
        "\n",
        "del image;    gc.collect()"
      ],
      "metadata": {
        "trusted": true,
        "execution": {
          "iopub.status.busy": "2025-01-27T15:50:22.034632Z",
          "iopub.execute_input": "2025-01-27T15:50:22.034912Z",
          "iopub.status.idle": "2025-01-27T15:50:26.747184Z",
          "shell.execute_reply.started": "2025-01-27T15:50:22.034889Z",
          "shell.execute_reply": "2025-01-27T15:50:26.746315Z"
        },
        "id": "XvJRqOBMKbAB"
      },
      "outputs": [],
      "execution_count": null
    },
    {
      "cell_type": "code",
      "source": [
        "import os\n",
        "\n",
        "# Specify the directory\n",
        "working_dir = '/kaggle/working/'\n",
        "\n",
        "# Iterate through files in the directory\n",
        "for file_name in os.listdir(working_dir):\n",
        "    # Check if the file is a .png file\n",
        "    if file_name.endswith('.png'):\n",
        "        # Construct full file path\n",
        "        file_path = os.path.join(working_dir, file_name)\n",
        "        # Remove the file\n",
        "        os.remove(file_path)\n",
        "        print(f\"Deleted: {file_path}\")\n",
        "\n",
        "print(\"All .png images have been removed from the working directory.\")"
      ],
      "metadata": {
        "trusted": true,
        "execution": {
          "iopub.status.busy": "2025-01-27T15:50:38.296831Z",
          "iopub.execute_input": "2025-01-27T15:50:38.297133Z",
          "iopub.status.idle": "2025-01-27T15:50:38.302317Z",
          "shell.execute_reply.started": "2025-01-27T15:50:38.297111Z",
          "shell.execute_reply": "2025-01-27T15:50:38.301536Z"
        },
        "id": "E_UHZobJKbAC"
      },
      "outputs": [],
      "execution_count": null
    },
    {
      "cell_type": "code",
      "source": [
        "# Training data over epochs\n",
        "epochs = range(len(history.history['accuracy']))\n",
        "train_accuracy = history.history['accuracy']\n",
        "train_precision = history.history['precision']  # Ensure these are recorded in history\n",
        "train_recall = history.history['recall']\n",
        "train_loss = history.history['loss']\n",
        "\n",
        "# Accuracy Plot\n",
        "plt.figure(figsize=(8, 5))\n",
        "plt.plot(epochs, train_accuracy, label='Train Accuracy', color='blue', marker='o')\n",
        "plt.title('Training Accuracy Over Epochs')\n",
        "plt.xlabel('Epochs')\n",
        "plt.ylabel('Accuracy')\n",
        "plt.grid()\n",
        "\n",
        "# Annotate training accuracy values\n",
        "for i, acc in enumerate(train_accuracy):\n",
        "    plt.text(i, acc + 0.01, f\"{acc:.4f}\", ha='center')\n",
        "\n",
        "plt.tight_layout()\n",
        "plt.savefig('training_accuracy.png')\n",
        "plt.show()\n",
        "\n",
        "# Precision Plot\n",
        "plt.figure(figsize=(8, 5))\n",
        "plt.plot(epochs, train_precision, label='Train Precision', color='purple', marker='o')\n",
        "plt.title('Training Precision Over Epochs')\n",
        "plt.xlabel('Epochs')\n",
        "plt.ylabel('Precision')\n",
        "plt.grid()\n",
        "\n",
        "# Annotate training precision values\n",
        "for i, prec in enumerate(train_precision):\n",
        "    plt.text(i, prec + 0.01, f\"{prec:.4f}\", ha='center')\n",
        "\n",
        "plt.tight_layout()\n",
        "plt.savefig('training_precision.png')\n",
        "plt.show()\n",
        "\n",
        "# Recall Plot\n",
        "plt.figure(figsize=(8, 5))\n",
        "plt.plot(epochs, train_recall, label='Train Recall', color='orange', marker='o')\n",
        "plt.title('Training Recall Over Epochs')\n",
        "plt.xlabel('Epochs')\n",
        "plt.ylabel('Recall')\n",
        "plt.grid()\n",
        "\n",
        "# Annotate training recall values\n",
        "for i, rec in enumerate(train_recall):\n",
        "    plt.text(i, rec + 0.01, f\"{rec:.4f}\", ha='center')\n",
        "\n",
        "plt.tight_layout()\n",
        "plt.savefig('training_recall.png')\n",
        "plt.show()\n",
        "\n",
        "# Loss Plot\n",
        "plt.figure(figsize=(8, 5))\n",
        "plt.plot(epochs, train_loss, label='Train Loss', color='red', marker='o')\n",
        "plt.title('Training Loss Over Epochs')\n",
        "plt.xlabel('Epochs')\n",
        "plt.ylabel('Loss')\n",
        "plt.grid()\n",
        "\n",
        "# Annotate training loss values\n",
        "for i, loss in enumerate(train_loss):\n",
        "    plt.text(i, loss + 0.01, f\"{loss:.4f}\", ha='center')\n",
        "\n",
        "plt.tight_layout()\n",
        "plt.savefig('training_loss.png')\n",
        "plt.show()"
      ],
      "metadata": {
        "trusted": true,
        "execution": {
          "iopub.status.busy": "2025-01-27T15:54:29.804319Z",
          "iopub.execute_input": "2025-01-27T15:54:29.804665Z",
          "iopub.status.idle": "2025-01-27T15:54:31.031563Z",
          "shell.execute_reply.started": "2025-01-27T15:54:29.804638Z",
          "shell.execute_reply": "2025-01-27T15:54:31.030684Z"
        },
        "id": "nHC515SMKbAC"
      },
      "outputs": [],
      "execution_count": null
    },
    {
      "cell_type": "code",
      "source": [
        "# Evaluate on test dataset\n",
        "test_results = model.evaluate(test_dataset)\n",
        "print(test_results)\n",
        "test_loss = test_results[0]\n",
        "test_accuracy = test_results[1]\n",
        "test_precision = test_results[2]\n",
        "test_recall = test_results[3]\n",
        "\n",
        "# Test metrics for bar plot\n",
        "test_metrics = ['Accuracy', 'Precision', 'Recall', 'Loss']\n",
        "test_values = [test_accuracy, test_precision, test_recall, test_loss]\n",
        "\n",
        "# Plot test metrics as bars\n",
        "plt.figure(figsize=(8, 5))\n",
        "\n",
        "# Bar plot with custom colors\n",
        "bars = plt.bar(test_metrics, test_values, color=['#003049', '#219ebc', '#f77f00', '#d62828'])\n",
        "\n",
        "# Set y-axis limits and labels\n",
        "plt.ylim(0, 1)  # Adjust for metric ranges (may vary)\n",
        "plt.title('Test Metrics', fontsize=14)\n",
        "plt.ylabel('Value', fontsize=12)\n",
        "\n",
        "# Annotate each bar with the corresponding value\n",
        "for bar in bars:\n",
        "    yval = bar.get_height()\n",
        "    plt.text(bar.get_x() + bar.get_width() / 2, yval + 0.02, f'{yval:.4f}', ha='center', va='bottom', fontsize=10)\n",
        "\n",
        "# Tight layout for better spacing\n",
        "plt.tight_layout()\n",
        "\n",
        "# Save and display the plot\n",
        "plt.savefig('test_metrics_bar_custom_colors.png')\n",
        "plt.show()"
      ],
      "metadata": {
        "trusted": true,
        "execution": {
          "iopub.status.busy": "2025-01-27T15:54:43.596101Z",
          "iopub.execute_input": "2025-01-27T15:54:43.596481Z",
          "iopub.status.idle": "2025-01-27T15:55:12.024579Z",
          "shell.execute_reply.started": "2025-01-27T15:54:43.596455Z",
          "shell.execute_reply": "2025-01-27T15:55:12.023899Z"
        },
        "id": "Ue0Yy3j3KbAC"
      },
      "outputs": [],
      "execution_count": null
    },
    {
      "cell_type": "code",
      "source": [
        "from sklearn.metrics import confusion_matrix, ConfusionMatrixDisplay\n",
        "\n",
        "# Get true labels and predicted labels for the test data\n",
        "y_true = np.concatenate([y for x, y in test_dataset], axis=0).argmax(axis=1)\n",
        "y_pred = np.concatenate([model.predict(x) for x, y in test_dataset], axis=0).argmax(axis=1)\n",
        "\n",
        "# Generate the confusion matrix\n",
        "conf_matrix = confusion_matrix(y_true, y_pred)\n",
        "disp = ConfusionMatrixDisplay(confusion_matrix=conf_matrix)\n",
        "\n",
        "# Plot the confusion matrix\n",
        "plt.figure(figsize=(8, 6))\n",
        "disp.plot(cmap='Blues')\n",
        "plt.title('Confusion Matrix')\n",
        "plt.grid(False)\n",
        "plt.tight_layout()\n",
        "plt.savefig('confusion_matrix.png')\n",
        "plt.show()"
      ],
      "metadata": {
        "trusted": true,
        "execution": {
          "iopub.status.busy": "2025-01-27T15:55:26.495115Z",
          "iopub.execute_input": "2025-01-27T15:55:26.495427Z",
          "iopub.status.idle": "2025-01-27T15:56:07.296274Z",
          "shell.execute_reply.started": "2025-01-27T15:55:26.495404Z",
          "shell.execute_reply": "2025-01-27T15:56:07.295481Z"
        },
        "id": "ncYqdroQKbAC"
      },
      "outputs": [],
      "execution_count": null
    },
    {
      "cell_type": "code",
      "source": [
        "# del model,\\\n",
        "#     history,\\\n",
        "#     results,\\\n",
        "#     test_loss,\\\n",
        "#     test_accuracy,\\\n",
        "#     epochs,\\\n",
        "#     train_loss,\\\n",
        "#     train_accuracy,\\\n",
        "# #     val_loss,\\\n",
        "# #     val_accuracy\n",
        "# gc.collect()"
      ],
      "metadata": {
        "trusted": true,
        "execution": {
          "iopub.status.busy": "2024-11-29T10:27:10.775879Z",
          "iopub.status.idle": "2024-11-29T10:27:10.776142Z",
          "shell.execute_reply.started": "2024-11-29T10:27:10.776011Z",
          "shell.execute_reply": "2024-11-29T10:27:10.776025Z"
        },
        "id": "Pxl_-bCsKbAC"
      },
      "outputs": [],
      "execution_count": null
    }
  ]
}